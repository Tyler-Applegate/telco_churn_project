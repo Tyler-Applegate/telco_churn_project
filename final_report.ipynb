{
 "cells": [
  {
   "cell_type": "markdown",
   "metadata": {},
   "source": [
    "# Telco Churn Classification Project\n",
    "### Tyler Applegate     -     Florence Cohort     -     2021.06.01"
   ]
  },
  {
   "cell_type": "code",
   "execution_count": 1,
   "metadata": {},
   "outputs": [],
   "source": [
    "# general imports\n",
    "import pandas as pd\n",
    "import numpy as np\n",
    "import os\n",
    "import scipy.stats as stats\n",
    "\n",
    "# my specific imports\n",
    "import acquire\n",
    "import prepare\n",
    "import explore\n",
    "\n",
    "# acquire imports\n",
    "from env import host, user, password\n",
    "\n",
    "# prepare imports\n",
    "from sklearn.model_selection import train_test_split\n",
    "\n",
    "# explore imports\n",
    "import matplotlib.pyplot as plt\n",
    "import seaborn as sns\n",
    "\n",
    "# model and evaluate imports\n",
    "from sklearn.metrics import accuracy_score\n",
    "from sklearn.metrics import precision_score\n",
    "from sklearn.metrics import recall_score\n",
    "from sklearn.metrics import classification_report\n",
    "from sklearn.metrics import confusion_matrix\n",
    "from sklearn.tree import DecisionTreeClassifier, plot_tree, export_text\n",
    "from sklearn.ensemble import RandomForestClassifier\n",
    "from sklearn.neighbors import KNeighborsClassifier\n",
    "from sklearn.linear_model import LogisticRegression"
   ]
  },
  {
   "cell_type": "markdown",
   "metadata": {},
   "source": [
    "### Project Planning"
   ]
  },
  {
   "cell_type": "markdown",
   "metadata": {},
   "source": [
    "- Create a README.md ith project and business goals, as well as data dictionay and initial hypothoses.\n",
    "- Create a function (or functions) to automate the process of connecting to the Codeup Database, and acquiring the telco_churn dataframe.\n",
    "- Save these functions to aquire.py so they can be imported into the final_report notebook.\n",
    "- Create a series of functions to automate the process of cleaning and preparing the newly acquired telco_churn dataframe to get it ready for the exploratory, modeling, and MVP stages of the pipeline.\n",
    "- Save these functions to prepare.py so they can be imported into the final_report notebook.\n",
    "- Clearly define at least two hypotheses, set an alpha, run necessary statistical testing, reject, or fail to reject each null hypothesis, and document findings are key takeaways.\n",
    "- Establish a baseline accuracy, model improvement goals.\n",
    "- Train at least 3 different classification models.\n",
    "- Evaluate these models on the train, and validate data sets.\n",
    "- Choose the best model to evaluate on the test dataset.\n",
    "- Create a csv file with the customer id, churn prediction, and actual churn.\n",
    "- Document takeways, key findings, conclusions, and next steps in the final report notebook."
   ]
  },
  {
   "cell_type": "markdown",
   "metadata": {},
   "source": [
    "### Executive Summary - Conclusion & Next Steps\n",
    "- I found that my Decision Tree and Random Forest models each outperformed my baseline accuracy of 73%\n",
    "- The features I chose to focus on were:\n",
    "    - m2m\n",
    "    - auto-pay\n",
    "    - fiber\n",
    "    - has internet\n",
    "    - monthly charges\n",
    "- I chose my Random Forest Classifier because it performed the best on my validate dataset. It also slightly improved accuracy (73-77%), and greatly improved recall (0-46%).\n",
    "- More time is needed to study why fiber internet users are churning at such a high rate, and how our incentive program(s) is/are working"
   ]
  },
  {
   "cell_type": "markdown",
   "metadata": {},
   "source": [
    "### Data Acquisition"
   ]
  },
  {
   "cell_type": "code",
   "execution_count": 2,
   "metadata": {},
   "outputs": [],
   "source": [
    "# connect to Codeup Database and read in telco_churn to a DataFrame\n",
    "df = acquire.get_telco_data()"
   ]
  },
  {
   "cell_type": "code",
   "execution_count": 3,
   "metadata": {},
   "outputs": [
    {
     "name": "stdout",
     "output_type": "stream",
     "text": [
      "This dataframe has 7043 rows and 24 columns.\n",
      "----------------------------------\n",
      "\n",
      "<class 'pandas.core.frame.DataFrame'>\n",
      "Int64Index: 7043 entries, 0 to 7042\n",
      "Data columns (total 24 columns):\n",
      " #   Column                    Non-Null Count  Dtype  \n",
      "---  ------                    --------------  -----  \n",
      " 0   payment_type_id           7043 non-null   int64  \n",
      " 1   internet_service_type_id  7043 non-null   int64  \n",
      " 2   contract_type_id          7043 non-null   int64  \n",
      " 3   customer_id               7043 non-null   object \n",
      " 4   gender                    7043 non-null   object \n",
      " 5   senior_citizen            7043 non-null   int64  \n",
      " 6   partner                   7043 non-null   object \n",
      " 7   dependents                7043 non-null   object \n",
      " 8   tenure                    7043 non-null   int64  \n",
      " 9   phone_service             7043 non-null   object \n",
      " 10  multiple_lines            7043 non-null   object \n",
      " 11  online_security           7043 non-null   object \n",
      " 12  online_backup             7043 non-null   object \n",
      " 13  device_protection         7043 non-null   object \n",
      " 14  tech_support              7043 non-null   object \n",
      " 15  streaming_tv              7043 non-null   object \n",
      " 16  streaming_movies          7043 non-null   object \n",
      " 17  paperless_billing         7043 non-null   object \n",
      " 18  monthly_charges           7043 non-null   float64\n",
      " 19  total_charges             7043 non-null   object \n",
      " 20  churn                     7043 non-null   object \n",
      " 21  contract_type             7043 non-null   object \n",
      " 22  internet_service_type     7043 non-null   object \n",
      " 23  payment_type              7043 non-null   object \n",
      "dtypes: float64(1), int64(5), object(18)\n",
      "memory usage: 1.3+ MB\n",
      "None\n",
      "----------------------------------\n",
      "\n",
      "Unique value counts of each column\n",
      "\n",
      "payment_type_id                4\n",
      "internet_service_type_id       3\n",
      "contract_type_id               3\n",
      "customer_id                 7043\n",
      "gender                         2\n",
      "senior_citizen                 2\n",
      "partner                        2\n",
      "dependents                     2\n",
      "tenure                        73\n",
      "phone_service                  2\n",
      "multiple_lines                 3\n",
      "online_security                3\n",
      "online_backup                  3\n",
      "device_protection              3\n",
      "tech_support                   3\n",
      "streaming_tv                   3\n",
      "streaming_movies               3\n",
      "paperless_billing              2\n",
      "monthly_charges             1585\n",
      "total_charges               6531\n",
      "churn                          2\n",
      "contract_type                  3\n",
      "internet_service_type          3\n",
      "payment_type                   4\n",
      "dtype: int64\n",
      "----------------------------------\n",
      "\n",
      "Stats on Numeric Columns\n",
      "\n",
      "       payment_type_id  internet_service_type_id  contract_type_id  \\\n",
      "count      7043.000000               7043.000000       7043.000000   \n",
      "mean          2.315633                  1.872923          1.690473   \n",
      "std           1.148907                  0.737796          0.833755   \n",
      "min           1.000000                  1.000000          1.000000   \n",
      "25%           1.000000                  1.000000          1.000000   \n",
      "50%           2.000000                  2.000000          1.000000   \n",
      "75%           3.000000                  2.000000          2.000000   \n",
      "max           4.000000                  3.000000          3.000000   \n",
      "\n",
      "       senior_citizen       tenure  monthly_charges  \n",
      "count     7043.000000  7043.000000      7043.000000  \n",
      "mean         0.162147    32.371149        64.761692  \n",
      "std          0.368612    24.559481        30.090047  \n",
      "min          0.000000     0.000000        18.250000  \n",
      "25%          0.000000     9.000000        35.500000  \n",
      "50%          0.000000    29.000000        70.350000  \n",
      "75%          0.000000    55.000000        89.850000  \n",
      "max          1.000000    72.000000       118.750000  \n"
     ]
    }
   ],
   "source": [
    "# let's see what we're working with\n",
    "acquire.overview(df)"
   ]
  },
  {
   "cell_type": "markdown",
   "metadata": {},
   "source": [
    "### Data Acquisition - Key Findings and Takeaways:\n",
    "- Always remember to push up the .gitignore first, to keep login credentials private/secure\n",
    "- The get_connection function will work for any database in the Codeup database (IF you have login credentials.)\n",
    "    - If you do not, this function can be adjusted to work with whatever database you do have credentials for\n",
    "- The new_telco_data function is great for this project, and can be tweaked to work for others...\n",
    "    - Always test of the sql_query in Sequal Ace first!!!!!\n",
    "    - This query can be as simple of complex as you need it to be\n",
    "- The get_telco_data function is a wonderful time saver / effeciency optimisor\n",
    "    - The function will first look to see if there is a .csv of the db stored locally, and open it if available\n",
    "    - If not, it will run the new_telco_data function to acquire the telco_churn, and store it to the local\n",
    "- The overview function is a great way to get a bird's eye view of the dataset\n",
    "- This dataset is 7043 rows, by 24 columns.\n",
    "- At first glance, there do not appear to be any missing values."
   ]
  },
  {
   "cell_type": "markdown",
   "metadata": {},
   "source": [
    "### Data Preparation"
   ]
  },
  {
   "cell_type": "code",
   "execution_count": 4,
   "metadata": {},
   "outputs": [
    {
     "name": "stdout",
     "output_type": "stream",
     "text": [
      "<class 'pandas.core.frame.DataFrame'>\n",
      "Index: 7032 entries, 0016-QLJIS to 9986-BONCE\n",
      "Data columns (total 45 columns):\n",
      " #   Column                    Non-Null Count  Dtype  \n",
      "---  ------                    --------------  -----  \n",
      " 0   payment_type_id           7032 non-null   int64  \n",
      " 1   internet_service_type_id  7032 non-null   int64  \n",
      " 2   contract_type_id          7032 non-null   int64  \n",
      " 3   gender                    7032 non-null   object \n",
      " 4   senior_citizen            7032 non-null   int64  \n",
      " 5   partner                   7032 non-null   object \n",
      " 6   dependents                7032 non-null   object \n",
      " 7   tenure                    7032 non-null   int64  \n",
      " 8   phone_service             7032 non-null   object \n",
      " 9   multiple_lines            7032 non-null   object \n",
      " 10  online_security           7032 non-null   object \n",
      " 11  online_backup             7032 non-null   object \n",
      " 12  device_protection         7032 non-null   object \n",
      " 13  tech_support              7032 non-null   object \n",
      " 14  streaming_tv              7032 non-null   object \n",
      " 15  streaming_movies          7032 non-null   object \n",
      " 16  paperless_billing         7032 non-null   object \n",
      " 17  monthly_charges           7032 non-null   float64\n",
      " 18  total_charges             7032 non-null   float64\n",
      " 19  churn                     7032 non-null   object \n",
      " 20  contract_type             7032 non-null   object \n",
      " 21  internet_service_type     7032 non-null   object \n",
      " 22  payment_type              7032 non-null   object \n",
      " 23  auto_pay                  7032 non-null   int64  \n",
      " 24  dsl                       7032 non-null   int64  \n",
      " 25  fiber                     7032 non-null   int64  \n",
      " 26  has_internet              7032 non-null   int64  \n",
      " 27  m2m                       7032 non-null   int64  \n",
      " 28  one_year                  7032 non-null   int64  \n",
      " 29  two_year                  7032 non-null   int64  \n",
      " 30  has_contract              7032 non-null   int64  \n",
      " 31  is_male                   7032 non-null   int64  \n",
      " 32  has_partner               7032 non-null   int64  \n",
      " 33  has_dep                   7032 non-null   int64  \n",
      " 34  tenure_months             7032 non-null   int64  \n",
      " 35  has_phone                 7032 non-null   int64  \n",
      " 36  multi_phone               7032 non-null   int64  \n",
      " 37  has_security              7032 non-null   int64  \n",
      " 38  has_backup                7032 non-null   int64  \n",
      " 39  has_protection            7032 non-null   int64  \n",
      " 40  has_support               7032 non-null   int64  \n",
      " 41  stream_tv                 7032 non-null   int64  \n",
      " 42  stream_movies             7032 non-null   int64  \n",
      " 43  has_paperless             7032 non-null   int64  \n",
      " 44  has_churn                 7032 non-null   int64  \n",
      "dtypes: float64(2), int64(27), object(16)\n",
      "memory usage: 2.5+ MB\n"
     ]
    }
   ],
   "source": [
    "# reassign the df variable using my prep_1_telco function\n",
    "df = prepare.prep_1_telco(df)\n",
    "# what does the new df look like?\n",
    "df.info()\n",
    "# I chose to add new columns, before deleting/altering existing ones, so that I could double-check my work,\n",
    "# and have a fallback/restart point if necessary in the future"
   ]
  },
  {
   "cell_type": "code",
   "execution_count": 5,
   "metadata": {},
   "outputs": [
    {
     "name": "stdout",
     "output_type": "stream",
     "text": [
      "<class 'pandas.core.frame.DataFrame'>\n",
      "Index: 7032 entries, 0016-QLJIS to 9986-BONCE\n",
      "Data columns (total 25 columns):\n",
      " #   Column           Non-Null Count  Dtype  \n",
      "---  ------           --------------  -----  \n",
      " 0   senior_citizen   7032 non-null   int64  \n",
      " 1   monthly_charges  7032 non-null   float64\n",
      " 2   total_charges    7032 non-null   float64\n",
      " 3   auto_pay         7032 non-null   int64  \n",
      " 4   dsl              7032 non-null   int64  \n",
      " 5   fiber            7032 non-null   int64  \n",
      " 6   has_internet     7032 non-null   int64  \n",
      " 7   m2m              7032 non-null   int64  \n",
      " 8   one_year         7032 non-null   int64  \n",
      " 9   two_year         7032 non-null   int64  \n",
      " 10  has_contract     7032 non-null   int64  \n",
      " 11  is_male          7032 non-null   int64  \n",
      " 12  has_partner      7032 non-null   int64  \n",
      " 13  has_dep          7032 non-null   int64  \n",
      " 14  tenure_months    7032 non-null   int64  \n",
      " 15  has_phone        7032 non-null   int64  \n",
      " 16  multi_phone      7032 non-null   int64  \n",
      " 17  has_security     7032 non-null   int64  \n",
      " 18  has_backup       7032 non-null   int64  \n",
      " 19  has_protection   7032 non-null   int64  \n",
      " 20  has_support      7032 non-null   int64  \n",
      " 21  stream_tv        7032 non-null   int64  \n",
      " 22  stream_movies    7032 non-null   int64  \n",
      " 23  has_paperless    7032 non-null   int64  \n",
      " 24  has_churn        7032 non-null   int64  \n",
      "dtypes: float64(2), int64(23)\n",
      "memory usage: 1.4+ MB\n"
     ]
    }
   ],
   "source": [
    "# now I'm going to use my prep_2_telco function to delete duplicate/extraneous columns\n",
    "df = prepare.prep_2_telco(df)\n",
    "# what does it look like now?\n",
    "df.info()"
   ]
  },
  {
   "cell_type": "code",
   "execution_count": 6,
   "metadata": {},
   "outputs": [
    {
     "name": "stdout",
     "output_type": "stream",
     "text": [
      "   train: (3937, 25)\n",
      "validate: (1688, 25)\n",
      "    test: (1407, 25)\n"
     ]
    }
   ],
   "source": [
    "# let's split the data into train, validate, and test groups\n",
    "train, validate, test = prepare.split_data(df)\n",
    "# what doe each of these dataframes look like?\n",
    "print(f'   train: {train.shape}')\n",
    "print(f'validate: {validate.shape}')\n",
    "print(f'    test: {test.shape}')"
   ]
  },
  {
   "cell_type": "markdown",
   "metadata": {},
   "source": [
    "### Data Preparation - Key Findings and Takeaways\n",
    "- Starting out with a dataframe that is 7043 rows by 24 columns with no null values\n",
    "- The prep_1_telco function takes the existing dataframe, and generates new columns to convert objects into numerical values\n",
    "    - It also searches for whitespace, and replaces with NaN value, and in this case, drops those 11 rows\n",
    "    - I chose to drop the 11 rows that were so new, they had yet to receive a bill, and thus did not have a total charge\n",
    "    - Since they represented 11/7043 or 0.0015% of the dataframe, there is no issue with data integrity\n",
    "- The prep_2_telco function drops all object and duplicate columns, to give the fewest number of columns\n",
    "- The split_data function takes the df and splits into a train, validate, and test set\n",
    "    - To replicate, please use the same random state of 1221, and stratify on 'has_churn'"
   ]
  },
  {
   "cell_type": "markdown",
   "metadata": {},
   "source": [
    "### Data Exploration"
   ]
  },
  {
   "cell_type": "code",
   "execution_count": 7,
   "metadata": {},
   "outputs": [
    {
     "data": {
      "image/png": "[encoded data removed]",
      "text/plain": [
       "<Figure size 576x432 with 1 Axes>"
      ]
     },
     "metadata": {
      "needs_background": "light"
     },
     "output_type": "display_data"
    }
   ],
   "source": [
    "# let's melt the data, so we can get some fancy vizuals\n",
    "melt = explore.telco_melt(df)\n",
    "explore.telco_strip(melt)"
   ]
  },
  {
   "cell_type": "markdown",
   "metadata": {},
   "source": [
    "###### Stripplot Takeaways\n",
    "- It appears there is a relationship between monthly charges and churn\n",
    "- This is not a good visual for observing potential relationship between tenure and churn"
   ]
  },
  {
   "cell_type": "code",
   "execution_count": 8,
   "metadata": {},
   "outputs": [
    {
     "data": {
      "image/png": "[encoded data removed]",
      "text/plain": [
       "<Figure size 432x288 with 1 Axes>"
      ]
     },
     "metadata": {
      "needs_background": "light"
     },
     "output_type": "display_data"
    }
   ],
   "source": [
    "# overall churn rate of train dataset\n",
    "churn_rate = train['has_churn'].mean()\n",
    "tcr = train['has_churn'].value_counts().plot.bar()\n",
    "plt.title(f'Churn rate of train dataset: {churn_rate:.2%}')\n",
    "plt.xticks(ticks=[0,1], labels=['No Churn', 'Churn'], rotation=0)\n",
    "plt.ylabel('count')\n",
    "plt.show()"
   ]
  },
  {
   "cell_type": "markdown",
   "metadata": {},
   "source": [
    "##### Bar chart takeaways\n",
    "- In the train dataset, roughly 1 in 4 users churns\n",
    "- This means our baseline model of guessing no one churns is 73.43% Accurate\n",
    "- And baseline has a recall rate of 0%"
   ]
  },
  {
   "cell_type": "markdown",
   "metadata": {},
   "source": [
    "### Statistical testing"
   ]
  },
  {
   "cell_type": "markdown",
   "metadata": {},
   "source": [
    "##### Hypothesis 1\n",
    "- alpha = 0.05\n",
    "- ${H_O}$: There is no difference in churn rate between month-to-month and contracted users\n",
    "- ${H_a}$: There is a statistically significant difference in churn rate between month-to-month and contracted users"
   ]
  },
  {
   "cell_type": "code",
   "execution_count": 9,
   "metadata": {},
   "outputs": [
    {
     "name": "stdout",
     "output_type": "stream",
     "text": [
      "chi^2 = 632.7017\n",
      "p     = 0.0000\n",
      "The p-value is less than the alpha: True\n"
     ]
    }
   ],
   "source": [
    "alpha = 0.05\n",
    "observed = pd.crosstab(train['has_churn'], train['m2m'])\n",
    "chi2, p, degf, expected = stats.chi2_contingency(observed)\n",
    "print(f'chi^2 = {chi2:.4f}')\n",
    "print(f'p     = {p:.4f}')\n",
    "print(f'The p-value is less than the alpha: {p < alpha}')"
   ]
  },
  {
   "cell_type": "markdown",
   "metadata": {},
   "source": [
    "##### Conclusion\n",
    "- We reject ${H_O}$ that churn rate is the same for month-to-month and contracted users\n",
    "\n",
    "##### Takeaway\n",
    "- M2M will be a useful feature for my model"
   ]
  },
  {
   "cell_type": "markdown",
   "metadata": {},
   "source": [
    "##### Hypothesis 2\n",
    "- alpha = 0.05\n",
    "- ${H_O}$: Monthly charges have no impact on churn rate (they are independent variables)\n",
    "- ${H_a}$: There is a statistically significant relationship between monthly charges and churn rate"
   ]
  },
  {
   "cell_type": "code",
   "execution_count": 10,
   "metadata": {},
   "outputs": [
    {
     "name": "stdout",
     "output_type": "stream",
     "text": [
      "tscore: 179.87\n",
      "p/2:    0.0\n",
      "The p-value is less than the alpha: True\n"
     ]
    }
   ],
   "source": [
    "churn_rate = train['has_churn'].mean()\n",
    "t, p = stats.ttest_1samp(df['monthly_charges'], churn_rate)\n",
    "print('tscore:', t.round(2))\n",
    "print('p/2:   ', p/2)\n",
    "print(f'The p-value is less than the alpha: {p < alpha}')"
   ]
  },
  {
   "cell_type": "markdown",
   "metadata": {},
   "source": [
    "##### Conclusion\n",
    "- We reject ${H_O}$ that monthly charges have no impact on churn rate\n",
    "\n",
    "##### Takeaway\n",
    "- Monthly charges will also be useful in model building"
   ]
  },
  {
   "cell_type": "markdown",
   "metadata": {},
   "source": [
    "##### What other features will be useful for model building?"
   ]
  },
  {
   "cell_type": "code",
   "execution_count": 11,
   "metadata": {},
   "outputs": [
    {
     "name": "stdout",
     "output_type": "stream",
     "text": [
      "senior_citizen\n",
      "chi^2 = 114.5890\n",
      "p     = 0.0000\n",
      "--------------------------------\n",
      "auto_pay\n",
      "chi^2 = 164.2553\n",
      "p     = 0.0000\n",
      "--------------------------------\n",
      "dsl\n",
      "chi^2 = 63.2535\n",
      "p     = 0.0000\n",
      "--------------------------------\n",
      "fiber\n",
      "chi^2 = 398.3547\n",
      "p     = 0.0000\n",
      "--------------------------------\n",
      "has_internet\n",
      "chi^2 = 217.2718\n",
      "p     = 0.0000\n",
      "--------------------------------\n",
      "m2m\n",
      "chi^2 = 632.7017\n",
      "p     = 0.0000\n",
      "--------------------------------\n",
      "one_year\n",
      "chi^2 = 131.1002\n",
      "p     = 0.0000\n",
      "--------------------------------\n",
      "two_year\n",
      "chi^2 = 338.5036\n",
      "p     = 0.0000\n",
      "--------------------------------\n",
      "has_contract\n",
      "chi^2 = 632.7017\n",
      "p     = 0.0000\n",
      "--------------------------------\n",
      "is_male\n",
      "chi^2 = 1.9712\n",
      "p     = 0.1603\n",
      "--------------------------------\n",
      "has_partner\n",
      "chi^2 = 68.2426\n",
      "p     = 0.0000\n",
      "--------------------------------\n",
      "has_dep\n",
      "chi^2 = 89.8354\n",
      "p     = 0.0000\n",
      "--------------------------------\n",
      "has_phone\n",
      "chi^2 = 0.0721\n",
      "p     = 0.7884\n",
      "--------------------------------\n",
      "multi_phone\n",
      "chi^2 = 5.4421\n",
      "p     = 0.0197\n",
      "--------------------------------\n",
      "has_security\n",
      "chi^2 = 103.5538\n",
      "p     = 0.0000\n",
      "--------------------------------\n",
      "has_backup\n",
      "chi^2 = 23.9851\n",
      "p     = 0.0000\n",
      "--------------------------------\n",
      "has_protection\n",
      "chi^2 = 14.5461\n",
      "p     = 0.0001\n",
      "--------------------------------\n",
      "has_support\n",
      "chi^2 = 101.7196\n",
      "p     = 0.0000\n",
      "--------------------------------\n",
      "stream_tv\n",
      "chi^2 = 14.7009\n",
      "p     = 0.0001\n",
      "--------------------------------\n",
      "stream_movies\n",
      "chi^2 = 18.8427\n",
      "p     = 0.0000\n",
      "--------------------------------\n",
      "has_paperless\n",
      "chi^2 = 137.8913\n",
      "p     = 0.0000\n",
      "--------------------------------\n"
     ]
    }
   ],
   "source": [
    "# this function will run chi^2 test on each categorical variable against has_churn\n",
    "explore.telco_cat_chi(train)"
   ]
  },
  {
   "cell_type": "markdown",
   "metadata": {},
   "source": [
    "##### Chi^2 Takeaways\n",
    "- Strong (Chi^2 > 150)\n",
    "    - auto-pay, fiber, has_internet, m2m, two_year, has_contract    \n",
    "- Moderate (Chi^2 > 100)\n",
    "    - senior_citizen, one_year, has_security, has_support, has_paperless\n",
    "- Low (Chi^2 > 50)\n",
    "    - dsl, has_partner, has_dep,\n",
    "- DO NOT USE\n",
    "    - is_male, has_phone, multi_phone, has_backup, has_protection, stream_tv, stream_movies "
   ]
  },
  {
   "cell_type": "code",
   "execution_count": 12,
   "metadata": {},
   "outputs": [
    {
     "name": "stdout",
     "output_type": "stream",
     "text": [
      "monthly_charges\n",
      "tscore: 179.87\n",
      "p/2:    0.0\n",
      "alpha:  0.01\n",
      "-------------------------------------\n",
      "total_charges\n",
      "tscore: 84.46\n",
      "p/2:    0.0\n",
      "alpha:  0.01\n",
      "-------------------------------------\n",
      "tenure_months\n",
      "tscore: 109.86\n",
      "p/2:    0.0\n",
      "alpha:  0.01\n",
      "-------------------------------------\n"
     ]
    }
   ],
   "source": [
    "# this function will run a ttest of each continuous variable against has_churn\n",
    "explore.telco_quant_ttest(df)"
   ]
  },
  {
   "cell_type": "markdown",
   "metadata": {},
   "source": [
    "##### T-test takeaways\n",
    "- all 3 continuous variables have a strong enough tscore, and low enough p to be useful in model construction"
   ]
  },
  {
   "cell_type": "markdown",
   "metadata": {},
   "source": [
    "### Data Exploration - Key Findings and Takeaways\n",
    "- There appear to be many drivers of churn in the Telco dataset\n",
    "- I will be able to build numerous models utilizing different columns\n",
    "- With more time, I would combine some of the more extraneous columns to see if I could either\n",
    "    - Get more utility out of them, or\n",
    "    - Take up less space at minimum"
   ]
  },
  {
   "cell_type": "markdown",
   "metadata": {},
   "source": [
    "## Model Building & Evaluation"
   ]
  },
  {
   "cell_type": "markdown",
   "metadata": {},
   "source": [
    "### Baseline\n",
    "- If I predict no churn (the most common outcome) for every observation, my accuracy would be 73.43% and my recall would be 0.00%\n",
    "- Conversely, if I predict churn for every observation, my accuracy would be 26.57% and my recall would be 100%\n",
    "- My goal is to keep baseline accuracy near 75%, while improving recall to at least 50%"
   ]
  },
  {
   "cell_type": "code",
   "execution_count": 13,
   "metadata": {},
   "outputs": [
    {
     "name": "stdout",
     "output_type": "stream",
     "text": [
      "My baseline accuracy is 73.43%.\n"
     ]
    }
   ],
   "source": [
    "# what is my baseline?\n",
    "baseline = train['has_churn'].value_counts().nlargest(1) / train.shape[0]\n",
    "print(f'My baseline accuracy is {round(baseline.values[0] * 100,2)}%.')"
   ]
  },
  {
   "cell_type": "markdown",
   "metadata": {},
   "source": [
    "### MVP Models\n",
    "- I am going to try Decision Tree, Random Forest, and KNN Classifiers with\n",
    "    - m2m\n",
    "    - auto-pay\n",
    "    - fiber\n",
    "    - has internet\n",
    "    - monthly charges\n",
    "- My goal is to beat, or maintain my 73% baseline accuracy, while improving my recall from 0% to at least 50%\n",
    "- This will provide a bird's eye view of the performance of each classifier\n",
    "- I will then either advance my best model to the next stage of feature engineering, or adjust hyperparameters until I have a satisfactory model\n",
    "- The hyperparameters I will initially use are:\n",
    "    - Decision Tree - max_depth 3\n",
    "    - Random Forest - max_depth 3\n",
    "    - KNN \n",
    "    - Random state of 1221 for repeatability"
   ]
  },
  {
   "cell_type": "markdown",
   "metadata": {},
   "source": [
    "#### Define X_train, y_train, validate, and test datasets"
   ]
  },
  {
   "cell_type": "code",
   "execution_count": 14,
   "metadata": {},
   "outputs": [],
   "source": [
    "# train\n",
    "X_train = train[['m2m', 'auto_pay', 'fiber', 'has_internet', 'monthly_charges']]\n",
    "y_train = train['has_churn']\n",
    "# validate\n",
    "X_validate = validate[['m2m', 'auto_pay', 'fiber', 'has_internet', 'monthly_charges']]\n",
    "y_validate = validate['has_churn']\n",
    "# test\n",
    "X_test = test[['m2m', 'auto_pay', 'fiber', 'has_internet', 'monthly_charges']]\n",
    "y_test = test['has_churn']"
   ]
  },
  {
   "cell_type": "code",
   "execution_count": 15,
   "metadata": {},
   "outputs": [
    {
     "name": "stdout",
     "output_type": "stream",
     "text": [
      "\n",
      "    Overall Accuracy:  77.52%\n",
      "\n",
      "    True Positive Rate:  48.28%  \n",
      "    True Negative Rate:  88.10%   \n",
      "    False Positive Rate:  11.90%\n",
      "    False Negative Rate:  51.72%\n",
      "\n",
      "    ---------------------------------------------------\n",
      "    \n",
      "\n",
      "    Positive =  'Churn'\n",
      "\n",
      "    Confusion Matrix:\n",
      "    \n"
     ]
    },
    {
     "data": {
      "text/html": [
       "<div>\n",
       "<style scoped>\n",
       "    .dataframe tbody tr th:only-of-type {\n",
       "        vertical-align: middle;\n",
       "    }\n",
       "\n",
       "    .dataframe tbody tr th {\n",
       "        vertical-align: top;\n",
       "    }\n",
       "\n",
       "    .dataframe thead th {\n",
       "        text-align: right;\n",
       "    }\n",
       "</style>\n",
       "<table border=\"1\" class=\"dataframe\">\n",
       "  <thead>\n",
       "    <tr style=\"text-align: right;\">\n",
       "      <th></th>\n",
       "      <th>pred_no_churn</th>\n",
       "      <th>pred_churn</th>\n",
       "    </tr>\n",
       "  </thead>\n",
       "  <tbody>\n",
       "    <tr>\n",
       "      <th>actual_no_churn</th>\n",
       "      <td>TN: 2547</td>\n",
       "      <td>FP: 344</td>\n",
       "    </tr>\n",
       "    <tr>\n",
       "      <th>actual_churn</th>\n",
       "      <td>FN: 541</td>\n",
       "      <td>TP: 505</td>\n",
       "    </tr>\n",
       "  </tbody>\n",
       "</table>\n",
       "</div>"
      ],
      "text/plain": [
       "                pred_no_churn pred_churn\n",
       "actual_no_churn      TN: 2547    FP: 344\n",
       "actual_churn          FN: 541    TP: 505"
      ]
     },
     "metadata": {},
     "output_type": "display_data"
    },
    {
     "name": "stdout",
     "output_type": "stream",
     "text": [
      "\n",
      "\n",
      "    \n",
      "    ---------------------------------------------------\n",
      "    Classification Report:\n",
      "    \n"
     ]
    },
    {
     "data": {
      "text/html": [
       "<div>\n",
       "<style scoped>\n",
       "    .dataframe tbody tr th:only-of-type {\n",
       "        vertical-align: middle;\n",
       "    }\n",
       "\n",
       "    .dataframe tbody tr th {\n",
       "        vertical-align: top;\n",
       "    }\n",
       "\n",
       "    .dataframe thead th {\n",
       "        text-align: right;\n",
       "    }\n",
       "</style>\n",
       "<table border=\"1\" class=\"dataframe\">\n",
       "  <thead>\n",
       "    <tr style=\"text-align: right;\">\n",
       "      <th></th>\n",
       "      <th>precision</th>\n",
       "      <th>recall</th>\n",
       "      <th>f1-score</th>\n",
       "      <th>support</th>\n",
       "    </tr>\n",
       "  </thead>\n",
       "  <tbody>\n",
       "    <tr>\n",
       "      <th>no_churn</th>\n",
       "      <td>0.824806</td>\n",
       "      <td>0.881010</td>\n",
       "      <td>0.851982</td>\n",
       "      <td>2891.00000</td>\n",
       "    </tr>\n",
       "    <tr>\n",
       "      <th>churn</th>\n",
       "      <td>0.594817</td>\n",
       "      <td>0.482792</td>\n",
       "      <td>0.532982</td>\n",
       "      <td>1046.00000</td>\n",
       "    </tr>\n",
       "    <tr>\n",
       "      <th>accuracy</th>\n",
       "      <td>0.775210</td>\n",
       "      <td>0.775210</td>\n",
       "      <td>0.775210</td>\n",
       "      <td>0.77521</td>\n",
       "    </tr>\n",
       "    <tr>\n",
       "      <th>macro avg</th>\n",
       "      <td>0.709812</td>\n",
       "      <td>0.681901</td>\n",
       "      <td>0.692482</td>\n",
       "      <td>3937.00000</td>\n",
       "    </tr>\n",
       "    <tr>\n",
       "      <th>weighted avg</th>\n",
       "      <td>0.763701</td>\n",
       "      <td>0.775210</td>\n",
       "      <td>0.767228</td>\n",
       "      <td>3937.00000</td>\n",
       "    </tr>\n",
       "  </tbody>\n",
       "</table>\n",
       "</div>"
      ],
      "text/plain": [
       "              precision    recall  f1-score     support\n",
       "no_churn       0.824806  0.881010  0.851982  2891.00000\n",
       "churn          0.594817  0.482792  0.532982  1046.00000\n",
       "accuracy       0.775210  0.775210  0.775210     0.77521\n",
       "macro avg      0.709812  0.681901  0.692482  3937.00000\n",
       "weighted avg   0.763701  0.775210  0.767228  3937.00000"
      ]
     },
     "metadata": {},
     "output_type": "display_data"
    }
   ],
   "source": [
    "# Decision Tree\n",
    "tree_1 = DecisionTreeClassifier(max_depth=3, random_state=1221)\n",
    "tree_1.fit(X_train, y_train)\n",
    "explore.model_performs(X_train, y_train, tree_1)"
   ]
  },
  {
   "cell_type": "code",
   "execution_count": 16,
   "metadata": {},
   "outputs": [
    {
     "name": "stdout",
     "output_type": "stream",
     "text": [
      "\n",
      "    Overall Accuracy:  77.62%\n",
      "\n",
      "    True Positive Rate:  47.32%  \n",
      "    True Negative Rate:  88.59%   \n",
      "    False Positive Rate:  11.41%\n",
      "    False Negative Rate:  52.68%\n",
      "\n",
      "    ---------------------------------------------------\n",
      "    \n",
      "\n",
      "    Positive =  'Churn'\n",
      "\n",
      "    Confusion Matrix:\n",
      "    \n"
     ]
    },
    {
     "data": {
      "text/html": [
       "<div>\n",
       "<style scoped>\n",
       "    .dataframe tbody tr th:only-of-type {\n",
       "        vertical-align: middle;\n",
       "    }\n",
       "\n",
       "    .dataframe tbody tr th {\n",
       "        vertical-align: top;\n",
       "    }\n",
       "\n",
       "    .dataframe thead th {\n",
       "        text-align: right;\n",
       "    }\n",
       "</style>\n",
       "<table border=\"1\" class=\"dataframe\">\n",
       "  <thead>\n",
       "    <tr style=\"text-align: right;\">\n",
       "      <th></th>\n",
       "      <th>pred_no_churn</th>\n",
       "      <th>pred_churn</th>\n",
       "    </tr>\n",
       "  </thead>\n",
       "  <tbody>\n",
       "    <tr>\n",
       "      <th>actual_no_churn</th>\n",
       "      <td>TN: 2561</td>\n",
       "      <td>FP: 330</td>\n",
       "    </tr>\n",
       "    <tr>\n",
       "      <th>actual_churn</th>\n",
       "      <td>FN: 551</td>\n",
       "      <td>TP: 495</td>\n",
       "    </tr>\n",
       "  </tbody>\n",
       "</table>\n",
       "</div>"
      ],
      "text/plain": [
       "                pred_no_churn pred_churn\n",
       "actual_no_churn      TN: 2561    FP: 330\n",
       "actual_churn          FN: 551    TP: 495"
      ]
     },
     "metadata": {},
     "output_type": "display_data"
    },
    {
     "name": "stdout",
     "output_type": "stream",
     "text": [
      "\n",
      "\n",
      "    \n",
      "    ---------------------------------------------------\n",
      "    Classification Report:\n",
      "    \n"
     ]
    },
    {
     "data": {
      "text/html": [
       "<div>\n",
       "<style scoped>\n",
       "    .dataframe tbody tr th:only-of-type {\n",
       "        vertical-align: middle;\n",
       "    }\n",
       "\n",
       "    .dataframe tbody tr th {\n",
       "        vertical-align: top;\n",
       "    }\n",
       "\n",
       "    .dataframe thead th {\n",
       "        text-align: right;\n",
       "    }\n",
       "</style>\n",
       "<table border=\"1\" class=\"dataframe\">\n",
       "  <thead>\n",
       "    <tr style=\"text-align: right;\">\n",
       "      <th></th>\n",
       "      <th>precision</th>\n",
       "      <th>recall</th>\n",
       "      <th>f1-score</th>\n",
       "      <th>support</th>\n",
       "    </tr>\n",
       "  </thead>\n",
       "  <tbody>\n",
       "    <tr>\n",
       "      <th>no_churn</th>\n",
       "      <td>0.822943</td>\n",
       "      <td>0.885853</td>\n",
       "      <td>0.853240</td>\n",
       "      <td>2891.000000</td>\n",
       "    </tr>\n",
       "    <tr>\n",
       "      <th>churn</th>\n",
       "      <td>0.600000</td>\n",
       "      <td>0.473231</td>\n",
       "      <td>0.529129</td>\n",
       "      <td>1046.000000</td>\n",
       "    </tr>\n",
       "    <tr>\n",
       "      <th>accuracy</th>\n",
       "      <td>0.776226</td>\n",
       "      <td>0.776226</td>\n",
       "      <td>0.776226</td>\n",
       "      <td>0.776226</td>\n",
       "    </tr>\n",
       "    <tr>\n",
       "      <th>macro avg</th>\n",
       "      <td>0.711472</td>\n",
       "      <td>0.679542</td>\n",
       "      <td>0.691184</td>\n",
       "      <td>3937.000000</td>\n",
       "    </tr>\n",
       "    <tr>\n",
       "      <th>weighted avg</th>\n",
       "      <td>0.763711</td>\n",
       "      <td>0.776226</td>\n",
       "      <td>0.767129</td>\n",
       "      <td>3937.000000</td>\n",
       "    </tr>\n",
       "  </tbody>\n",
       "</table>\n",
       "</div>"
      ],
      "text/plain": [
       "              precision    recall  f1-score      support\n",
       "no_churn       0.822943  0.885853  0.853240  2891.000000\n",
       "churn          0.600000  0.473231  0.529129  1046.000000\n",
       "accuracy       0.776226  0.776226  0.776226     0.776226\n",
       "macro avg      0.711472  0.679542  0.691184  3937.000000\n",
       "weighted avg   0.763711  0.776226  0.767129  3937.000000"
      ]
     },
     "metadata": {},
     "output_type": "display_data"
    }
   ],
   "source": [
    "# Random Forest\n",
    "rf_1 = RandomForestClassifier(bootstrap=True, \n",
    "                            class_weight=None, \n",
    "                            criterion='gini',\n",
    "#                             min_samples_leaf=3,\n",
    "#                             n_estimators=10,\n",
    "                            max_depth=3, \n",
    "                            random_state=1221)\n",
    "rf_1.fit(X_train, y_train)\n",
    "explore.model_performs(X_train, y_train, rf_1)"
   ]
  },
  {
   "cell_type": "code",
   "execution_count": 17,
   "metadata": {},
   "outputs": [
    {
     "name": "stdout",
     "output_type": "stream",
     "text": [
      " 2: 73.22%\n",
      " 4: 73.76%\n",
      " 6: 74.82%\n",
      " 8: 75.36%\n",
      "10: 74.76%\n",
      "12: 74.88%\n",
      "14: 75.18%\n",
      "16: 74.88%\n",
      "18: 75.24%\n"
     ]
    }
   ],
   "source": [
    "# KNN - where to start?\n",
    "for k in range(2, 20, 2):\n",
    "    knn = KNeighborsClassifier(n_neighbors=k)\n",
    "    knn.fit(X_train, y_train)\n",
    "    accuracy = knn.score(X_validate, y_validate)\n",
    "    print(f'{k:2d}: {accuracy:.2%}')"
   ]
  },
  {
   "cell_type": "code",
   "execution_count": 18,
   "metadata": {},
   "outputs": [
    {
     "name": "stdout",
     "output_type": "stream",
     "text": [
      "\n",
      "    Overall Accuracy:  80.19%\n",
      "\n",
      "    True Positive Rate:  43.12%  \n",
      "    True Negative Rate:  93.60%   \n",
      "    False Positive Rate:  6.40%\n",
      "    False Negative Rate:  56.88%\n",
      "\n",
      "    ---------------------------------------------------\n",
      "    \n",
      "\n",
      "    Positive =  'Churn'\n",
      "\n",
      "    Confusion Matrix:\n",
      "    \n"
     ]
    },
    {
     "data": {
      "text/html": [
       "<div>\n",
       "<style scoped>\n",
       "    .dataframe tbody tr th:only-of-type {\n",
       "        vertical-align: middle;\n",
       "    }\n",
       "\n",
       "    .dataframe tbody tr th {\n",
       "        vertical-align: top;\n",
       "    }\n",
       "\n",
       "    .dataframe thead th {\n",
       "        text-align: right;\n",
       "    }\n",
       "</style>\n",
       "<table border=\"1\" class=\"dataframe\">\n",
       "  <thead>\n",
       "    <tr style=\"text-align: right;\">\n",
       "      <th></th>\n",
       "      <th>pred_no_churn</th>\n",
       "      <th>pred_churn</th>\n",
       "    </tr>\n",
       "  </thead>\n",
       "  <tbody>\n",
       "    <tr>\n",
       "      <th>actual_no_churn</th>\n",
       "      <td>TN: 2706</td>\n",
       "      <td>FP: 185</td>\n",
       "    </tr>\n",
       "    <tr>\n",
       "      <th>actual_churn</th>\n",
       "      <td>FN: 595</td>\n",
       "      <td>TP: 451</td>\n",
       "    </tr>\n",
       "  </tbody>\n",
       "</table>\n",
       "</div>"
      ],
      "text/plain": [
       "                pred_no_churn pred_churn\n",
       "actual_no_churn      TN: 2706    FP: 185\n",
       "actual_churn          FN: 595    TP: 451"
      ]
     },
     "metadata": {},
     "output_type": "display_data"
    },
    {
     "name": "stdout",
     "output_type": "stream",
     "text": [
      "\n",
      "\n",
      "    \n",
      "    ---------------------------------------------------\n",
      "    Classification Report:\n",
      "    \n"
     ]
    },
    {
     "data": {
      "text/html": [
       "<div>\n",
       "<style scoped>\n",
       "    .dataframe tbody tr th:only-of-type {\n",
       "        vertical-align: middle;\n",
       "    }\n",
       "\n",
       "    .dataframe tbody tr th {\n",
       "        vertical-align: top;\n",
       "    }\n",
       "\n",
       "    .dataframe thead th {\n",
       "        text-align: right;\n",
       "    }\n",
       "</style>\n",
       "<table border=\"1\" class=\"dataframe\">\n",
       "  <thead>\n",
       "    <tr style=\"text-align: right;\">\n",
       "      <th></th>\n",
       "      <th>precision</th>\n",
       "      <th>recall</th>\n",
       "      <th>f1-score</th>\n",
       "      <th>support</th>\n",
       "    </tr>\n",
       "  </thead>\n",
       "  <tbody>\n",
       "    <tr>\n",
       "      <th>no_churn</th>\n",
       "      <td>0.819752</td>\n",
       "      <td>0.936008</td>\n",
       "      <td>0.874031</td>\n",
       "      <td>2891.00000</td>\n",
       "    </tr>\n",
       "    <tr>\n",
       "      <th>churn</th>\n",
       "      <td>0.709119</td>\n",
       "      <td>0.431166</td>\n",
       "      <td>0.536266</td>\n",
       "      <td>1046.00000</td>\n",
       "    </tr>\n",
       "    <tr>\n",
       "      <th>accuracy</th>\n",
       "      <td>0.801880</td>\n",
       "      <td>0.801880</td>\n",
       "      <td>0.801880</td>\n",
       "      <td>0.80188</td>\n",
       "    </tr>\n",
       "    <tr>\n",
       "      <th>macro avg</th>\n",
       "      <td>0.764436</td>\n",
       "      <td>0.683587</td>\n",
       "      <td>0.705149</td>\n",
       "      <td>3937.00000</td>\n",
       "    </tr>\n",
       "    <tr>\n",
       "      <th>weighted avg</th>\n",
       "      <td>0.790358</td>\n",
       "      <td>0.801880</td>\n",
       "      <td>0.784292</td>\n",
       "      <td>3937.00000</td>\n",
       "    </tr>\n",
       "  </tbody>\n",
       "</table>\n",
       "</div>"
      ],
      "text/plain": [
       "              precision    recall  f1-score     support\n",
       "no_churn       0.819752  0.936008  0.874031  2891.00000\n",
       "churn          0.709119  0.431166  0.536266  1046.00000\n",
       "accuracy       0.801880  0.801880  0.801880     0.80188\n",
       "macro avg      0.764436  0.683587  0.705149  3937.00000\n",
       "weighted avg   0.790358  0.801880  0.784292  3937.00000"
      ]
     },
     "metadata": {},
     "output_type": "display_data"
    }
   ],
   "source": [
    "knn_8 = KNeighborsClassifier(n_neighbors=8)\n",
    "knn_8.fit(X_train, y_train)\n",
    "explore.model_performs(X_train, y_train, knn_8)"
   ]
  },
  {
   "cell_type": "code",
   "execution_count": 19,
   "metadata": {},
   "outputs": [
    {
     "name": "stdout",
     "output_type": "stream",
     "text": [
      "\n",
      "    ******       Model 1  ******                                ******     Model 2  ****** \n",
      "       Overall Accuracy:  77.52%              |                Overall Accuracy:  77.62%  \n",
      "                                                \n",
      "     True Positive Rate:  48.28%              |          The True Positive Rate:  47.32%  \n",
      "    False Positive Rate:  11.90%              |         The False Positive Rate:  11.41% \n",
      "     True Negative Rate:  88.10%              |          The True Negative Rate:  88.59% \n",
      "    False Negative Rate:  51.72%              |         The False Negative Rate:  52.68%\n",
      "\n",
      "    _____________________________________________________________________________________________________________\n",
      "    \n",
      "\n",
      "    Positive =  'Churn'\n",
      "\n",
      "    Confusion Matrix\n",
      "    \n"
     ]
    },
    {
     "data": {
      "text/html": [
       "<style  type=\"text/css\" >\n",
       "</style><table id=\"T_9879f5a0_c2fc_11eb_8ee3_1e00623a1639\" style='display:inline'><caption>Model 1 Confusion Matrix</caption><thead>    <tr>        <th class=\"blank level0\" ></th>        <th class=\"col_heading level0 col0\" >pred_no_churn</th>        <th class=\"col_heading level0 col1\" >pred_churn</th>    </tr></thead><tbody>\n",
       "                <tr>\n",
       "                        <th id=\"T_9879f5a0_c2fc_11eb_8ee3_1e00623a1639level0_row0\" class=\"row_heading level0 row0\" >actual_no_churn</th>\n",
       "                        <td id=\"T_9879f5a0_c2fc_11eb_8ee3_1e00623a1639row0_col0\" class=\"data row0 col0\" >TN: 2547</td>\n",
       "                        <td id=\"T_9879f5a0_c2fc_11eb_8ee3_1e00623a1639row0_col1\" class=\"data row0 col1\" >FP: 344</td>\n",
       "            </tr>\n",
       "            <tr>\n",
       "                        <th id=\"T_9879f5a0_c2fc_11eb_8ee3_1e00623a1639level0_row1\" class=\"row_heading level0 row1\" >actual_churn</th>\n",
       "                        <td id=\"T_9879f5a0_c2fc_11eb_8ee3_1e00623a1639row1_col0\" class=\"data row1 col0\" >FN: 541</td>\n",
       "                        <td id=\"T_9879f5a0_c2fc_11eb_8ee3_1e00623a1639row1_col1\" class=\"data row1 col1\" >TP: 505</td>\n",
       "            </tr>\n",
       "    </tbody></table>                    <style  type=\"text/css\" >\n",
       "</style><table id=\"T_987a095a_c2fc_11eb_8ee3_1e00623a1639\" style='display:inline'><caption>Model 2 Confusion Matrix</caption><thead>    <tr>        <th class=\"blank level0\" ></th>        <th class=\"col_heading level0 col0\" >pred_no_churn</th>        <th class=\"col_heading level0 col1\" >pred_churn</th>    </tr></thead><tbody>\n",
       "                <tr>\n",
       "                        <th id=\"T_987a095a_c2fc_11eb_8ee3_1e00623a1639level0_row0\" class=\"row_heading level0 row0\" >actual_no_churn</th>\n",
       "                        <td id=\"T_987a095a_c2fc_11eb_8ee3_1e00623a1639row0_col0\" class=\"data row0 col0\" >TN: 2561</td>\n",
       "                        <td id=\"T_987a095a_c2fc_11eb_8ee3_1e00623a1639row0_col1\" class=\"data row0 col1\" >FP: 330</td>\n",
       "            </tr>\n",
       "            <tr>\n",
       "                        <th id=\"T_987a095a_c2fc_11eb_8ee3_1e00623a1639level0_row1\" class=\"row_heading level0 row1\" >actual_churn</th>\n",
       "                        <td id=\"T_987a095a_c2fc_11eb_8ee3_1e00623a1639row1_col0\" class=\"data row1 col0\" >FN: 551</td>\n",
       "                        <td id=\"T_987a095a_c2fc_11eb_8ee3_1e00623a1639row1_col1\" class=\"data row1 col1\" >TP: 495</td>\n",
       "            </tr>\n",
       "    </tbody></table>"
      ]
     },
     "metadata": {},
     "output_type": "display_data"
    },
    {
     "name": "stdout",
     "output_type": "stream",
     "text": [
      "\n",
      "\n",
      "    ________________________________________________________________________________\n",
      "    \n",
      "    Classification Report:\n",
      "    \n"
     ]
    },
    {
     "data": {
      "text/html": [
       "<style  type=\"text/css\" >\n",
       "</style><table id=\"T_987a2e80_c2fc_11eb_8ee3_1e00623a1639\" style='display:inline'><caption>Model 1 Classification Report</caption><thead>    <tr>        <th class=\"blank level0\" ></th>        <th class=\"col_heading level0 col0\" >precision</th>        <th class=\"col_heading level0 col1\" >recall</th>        <th class=\"col_heading level0 col2\" >f1-score</th>        <th class=\"col_heading level0 col3\" >support</th>    </tr></thead><tbody>\n",
       "                <tr>\n",
       "                        <th id=\"T_987a2e80_c2fc_11eb_8ee3_1e00623a1639level0_row0\" class=\"row_heading level0 row0\" >no_churn</th>\n",
       "                        <td id=\"T_987a2e80_c2fc_11eb_8ee3_1e00623a1639row0_col0\" class=\"data row0 col0\" >0.824806</td>\n",
       "                        <td id=\"T_987a2e80_c2fc_11eb_8ee3_1e00623a1639row0_col1\" class=\"data row0 col1\" >0.881010</td>\n",
       "                        <td id=\"T_987a2e80_c2fc_11eb_8ee3_1e00623a1639row0_col2\" class=\"data row0 col2\" >0.851982</td>\n",
       "                        <td id=\"T_987a2e80_c2fc_11eb_8ee3_1e00623a1639row0_col3\" class=\"data row0 col3\" >2891.000000</td>\n",
       "            </tr>\n",
       "            <tr>\n",
       "                        <th id=\"T_987a2e80_c2fc_11eb_8ee3_1e00623a1639level0_row1\" class=\"row_heading level0 row1\" >churn</th>\n",
       "                        <td id=\"T_987a2e80_c2fc_11eb_8ee3_1e00623a1639row1_col0\" class=\"data row1 col0\" >0.594817</td>\n",
       "                        <td id=\"T_987a2e80_c2fc_11eb_8ee3_1e00623a1639row1_col1\" class=\"data row1 col1\" >0.482792</td>\n",
       "                        <td id=\"T_987a2e80_c2fc_11eb_8ee3_1e00623a1639row1_col2\" class=\"data row1 col2\" >0.532982</td>\n",
       "                        <td id=\"T_987a2e80_c2fc_11eb_8ee3_1e00623a1639row1_col3\" class=\"data row1 col3\" >1046.000000</td>\n",
       "            </tr>\n",
       "            <tr>\n",
       "                        <th id=\"T_987a2e80_c2fc_11eb_8ee3_1e00623a1639level0_row2\" class=\"row_heading level0 row2\" >accuracy</th>\n",
       "                        <td id=\"T_987a2e80_c2fc_11eb_8ee3_1e00623a1639row2_col0\" class=\"data row2 col0\" >0.775210</td>\n",
       "                        <td id=\"T_987a2e80_c2fc_11eb_8ee3_1e00623a1639row2_col1\" class=\"data row2 col1\" >0.775210</td>\n",
       "                        <td id=\"T_987a2e80_c2fc_11eb_8ee3_1e00623a1639row2_col2\" class=\"data row2 col2\" >0.775210</td>\n",
       "                        <td id=\"T_987a2e80_c2fc_11eb_8ee3_1e00623a1639row2_col3\" class=\"data row2 col3\" >0.775210</td>\n",
       "            </tr>\n",
       "            <tr>\n",
       "                        <th id=\"T_987a2e80_c2fc_11eb_8ee3_1e00623a1639level0_row3\" class=\"row_heading level0 row3\" >macro avg</th>\n",
       "                        <td id=\"T_987a2e80_c2fc_11eb_8ee3_1e00623a1639row3_col0\" class=\"data row3 col0\" >0.709812</td>\n",
       "                        <td id=\"T_987a2e80_c2fc_11eb_8ee3_1e00623a1639row3_col1\" class=\"data row3 col1\" >0.681901</td>\n",
       "                        <td id=\"T_987a2e80_c2fc_11eb_8ee3_1e00623a1639row3_col2\" class=\"data row3 col2\" >0.692482</td>\n",
       "                        <td id=\"T_987a2e80_c2fc_11eb_8ee3_1e00623a1639row3_col3\" class=\"data row3 col3\" >3937.000000</td>\n",
       "            </tr>\n",
       "            <tr>\n",
       "                        <th id=\"T_987a2e80_c2fc_11eb_8ee3_1e00623a1639level0_row4\" class=\"row_heading level0 row4\" >weighted avg</th>\n",
       "                        <td id=\"T_987a2e80_c2fc_11eb_8ee3_1e00623a1639row4_col0\" class=\"data row4 col0\" >0.763701</td>\n",
       "                        <td id=\"T_987a2e80_c2fc_11eb_8ee3_1e00623a1639row4_col1\" class=\"data row4 col1\" >0.775210</td>\n",
       "                        <td id=\"T_987a2e80_c2fc_11eb_8ee3_1e00623a1639row4_col2\" class=\"data row4 col2\" >0.767228</td>\n",
       "                        <td id=\"T_987a2e80_c2fc_11eb_8ee3_1e00623a1639row4_col3\" class=\"data row4 col3\" >3937.000000</td>\n",
       "            </tr>\n",
       "    </tbody></table>                    <style  type=\"text/css\" >\n",
       "</style><table id=\"T_987a4fc8_c2fc_11eb_8ee3_1e00623a1639\" style='display:inline'><caption>Model 2 Classification Report</caption><thead>    <tr>        <th class=\"blank level0\" ></th>        <th class=\"col_heading level0 col0\" >precision</th>        <th class=\"col_heading level0 col1\" >recall</th>        <th class=\"col_heading level0 col2\" >f1-score</th>        <th class=\"col_heading level0 col3\" >support</th>    </tr></thead><tbody>\n",
       "                <tr>\n",
       "                        <th id=\"T_987a4fc8_c2fc_11eb_8ee3_1e00623a1639level0_row0\" class=\"row_heading level0 row0\" >no_churn</th>\n",
       "                        <td id=\"T_987a4fc8_c2fc_11eb_8ee3_1e00623a1639row0_col0\" class=\"data row0 col0\" >0.822943</td>\n",
       "                        <td id=\"T_987a4fc8_c2fc_11eb_8ee3_1e00623a1639row0_col1\" class=\"data row0 col1\" >0.885853</td>\n",
       "                        <td id=\"T_987a4fc8_c2fc_11eb_8ee3_1e00623a1639row0_col2\" class=\"data row0 col2\" >0.853240</td>\n",
       "                        <td id=\"T_987a4fc8_c2fc_11eb_8ee3_1e00623a1639row0_col3\" class=\"data row0 col3\" >2891.000000</td>\n",
       "            </tr>\n",
       "            <tr>\n",
       "                        <th id=\"T_987a4fc8_c2fc_11eb_8ee3_1e00623a1639level0_row1\" class=\"row_heading level0 row1\" >churn</th>\n",
       "                        <td id=\"T_987a4fc8_c2fc_11eb_8ee3_1e00623a1639row1_col0\" class=\"data row1 col0\" >0.600000</td>\n",
       "                        <td id=\"T_987a4fc8_c2fc_11eb_8ee3_1e00623a1639row1_col1\" class=\"data row1 col1\" >0.473231</td>\n",
       "                        <td id=\"T_987a4fc8_c2fc_11eb_8ee3_1e00623a1639row1_col2\" class=\"data row1 col2\" >0.529129</td>\n",
       "                        <td id=\"T_987a4fc8_c2fc_11eb_8ee3_1e00623a1639row1_col3\" class=\"data row1 col3\" >1046.000000</td>\n",
       "            </tr>\n",
       "            <tr>\n",
       "                        <th id=\"T_987a4fc8_c2fc_11eb_8ee3_1e00623a1639level0_row2\" class=\"row_heading level0 row2\" >accuracy</th>\n",
       "                        <td id=\"T_987a4fc8_c2fc_11eb_8ee3_1e00623a1639row2_col0\" class=\"data row2 col0\" >0.776226</td>\n",
       "                        <td id=\"T_987a4fc8_c2fc_11eb_8ee3_1e00623a1639row2_col1\" class=\"data row2 col1\" >0.776226</td>\n",
       "                        <td id=\"T_987a4fc8_c2fc_11eb_8ee3_1e00623a1639row2_col2\" class=\"data row2 col2\" >0.776226</td>\n",
       "                        <td id=\"T_987a4fc8_c2fc_11eb_8ee3_1e00623a1639row2_col3\" class=\"data row2 col3\" >0.776226</td>\n",
       "            </tr>\n",
       "            <tr>\n",
       "                        <th id=\"T_987a4fc8_c2fc_11eb_8ee3_1e00623a1639level0_row3\" class=\"row_heading level0 row3\" >macro avg</th>\n",
       "                        <td id=\"T_987a4fc8_c2fc_11eb_8ee3_1e00623a1639row3_col0\" class=\"data row3 col0\" >0.711472</td>\n",
       "                        <td id=\"T_987a4fc8_c2fc_11eb_8ee3_1e00623a1639row3_col1\" class=\"data row3 col1\" >0.679542</td>\n",
       "                        <td id=\"T_987a4fc8_c2fc_11eb_8ee3_1e00623a1639row3_col2\" class=\"data row3 col2\" >0.691184</td>\n",
       "                        <td id=\"T_987a4fc8_c2fc_11eb_8ee3_1e00623a1639row3_col3\" class=\"data row3 col3\" >3937.000000</td>\n",
       "            </tr>\n",
       "            <tr>\n",
       "                        <th id=\"T_987a4fc8_c2fc_11eb_8ee3_1e00623a1639level0_row4\" class=\"row_heading level0 row4\" >weighted avg</th>\n",
       "                        <td id=\"T_987a4fc8_c2fc_11eb_8ee3_1e00623a1639row4_col0\" class=\"data row4 col0\" >0.763711</td>\n",
       "                        <td id=\"T_987a4fc8_c2fc_11eb_8ee3_1e00623a1639row4_col1\" class=\"data row4 col1\" >0.776226</td>\n",
       "                        <td id=\"T_987a4fc8_c2fc_11eb_8ee3_1e00623a1639row4_col2\" class=\"data row4 col2\" >0.767129</td>\n",
       "                        <td id=\"T_987a4fc8_c2fc_11eb_8ee3_1e00623a1639row4_col3\" class=\"data row4 col3\" >3937.000000</td>\n",
       "            </tr>\n",
       "    </tbody></table>"
      ]
     },
     "metadata": {},
     "output_type": "display_data"
    }
   ],
   "source": [
    "explore.compare(tree_1, rf_1, X_train, y_train)"
   ]
  },
  {
   "cell_type": "code",
   "execution_count": 20,
   "metadata": {},
   "outputs": [
    {
     "name": "stdout",
     "output_type": "stream",
     "text": [
      "Decision Tree training score: 77.52%\n",
      "Decision Tree validate score: 77.49%\n",
      "\n",
      "Random Forest training score: 77.62%\n",
      "Random Forest validate score: 78.02%\n",
      "\n",
      "KNN training score: 80.19%\n",
      "KNN validate score: 75.36%\n"
     ]
    }
   ],
   "source": [
    "print(f'Decision Tree training score: {tree_1.score(X_train, y_train):.2%}')\n",
    "print(f'Decision Tree validate score: {tree_1.score(X_validate, y_validate):.2%}')\n",
    "print('')\n",
    "print(f'Random Forest training score: {rf_1.score(X_train, y_train):.2%}')\n",
    "print(f'Random Forest validate score: {rf_1.score(X_validate, y_validate):.2%}')\n",
    "print('')\n",
    "print(f'KNN training score: {knn_8.score(X_train, y_train):.2%}')\n",
    "print(f'KNN validate score: {knn_8.score(X_validate, y_validate):.2%}')"
   ]
  },
  {
   "cell_type": "markdown",
   "metadata": {},
   "source": [
    "#### MVP Models - Key Findings and Takeaways\n",
    "- All three models improve upon baseline accuracy of 73%\n",
    "- They also have a recall score around 50%\n",
    "- Because they are similar, and KNN is the most computationally expensive, I am going to eliminate this model\n",
    "- I am going to go with Random Forest since it performs the best on my validate dataset"
   ]
  },
  {
   "cell_type": "markdown",
   "metadata": {},
   "source": [
    "### Test My Best Model\n",
    "- I will be testing rf_1 since it performs the best on validate"
   ]
  },
  {
   "cell_type": "code",
   "execution_count": 21,
   "metadata": {},
   "outputs": [
    {
     "name": "stdout",
     "output_type": "stream",
     "text": [
      "\n",
      "    Overall Accuracy:  76.62%\n",
      "\n",
      "    True Positive Rate:  46.26%  \n",
      "    True Negative Rate:  87.61%   \n",
      "    False Positive Rate:  12.39%\n",
      "    False Negative Rate:  53.74%\n",
      "\n",
      "    ---------------------------------------------------\n",
      "    \n",
      "\n",
      "    Positive =  'Churn'\n",
      "\n",
      "    Confusion Matrix:\n",
      "    \n"
     ]
    },
    {
     "data": {
      "text/html": [
       "<div>\n",
       "<style scoped>\n",
       "    .dataframe tbody tr th:only-of-type {\n",
       "        vertical-align: middle;\n",
       "    }\n",
       "\n",
       "    .dataframe tbody tr th {\n",
       "        vertical-align: top;\n",
       "    }\n",
       "\n",
       "    .dataframe thead th {\n",
       "        text-align: right;\n",
       "    }\n",
       "</style>\n",
       "<table border=\"1\" class=\"dataframe\">\n",
       "  <thead>\n",
       "    <tr style=\"text-align: right;\">\n",
       "      <th></th>\n",
       "      <th>pred_no_churn</th>\n",
       "      <th>pred_churn</th>\n",
       "    </tr>\n",
       "  </thead>\n",
       "  <tbody>\n",
       "    <tr>\n",
       "      <th>actual_no_churn</th>\n",
       "      <td>TN: 905</td>\n",
       "      <td>FP: 128</td>\n",
       "    </tr>\n",
       "    <tr>\n",
       "      <th>actual_churn</th>\n",
       "      <td>FN: 201</td>\n",
       "      <td>TP: 173</td>\n",
       "    </tr>\n",
       "  </tbody>\n",
       "</table>\n",
       "</div>"
      ],
      "text/plain": [
       "                pred_no_churn pred_churn\n",
       "actual_no_churn       TN: 905    FP: 128\n",
       "actual_churn          FN: 201    TP: 173"
      ]
     },
     "metadata": {},
     "output_type": "display_data"
    },
    {
     "name": "stdout",
     "output_type": "stream",
     "text": [
      "\n",
      "\n",
      "    \n",
      "    ---------------------------------------------------\n",
      "    Classification Report:\n",
      "    \n"
     ]
    },
    {
     "data": {
      "text/html": [
       "<div>\n",
       "<style scoped>\n",
       "    .dataframe tbody tr th:only-of-type {\n",
       "        vertical-align: middle;\n",
       "    }\n",
       "\n",
       "    .dataframe tbody tr th {\n",
       "        vertical-align: top;\n",
       "    }\n",
       "\n",
       "    .dataframe thead th {\n",
       "        text-align: right;\n",
       "    }\n",
       "</style>\n",
       "<table border=\"1\" class=\"dataframe\">\n",
       "  <thead>\n",
       "    <tr style=\"text-align: right;\">\n",
       "      <th></th>\n",
       "      <th>precision</th>\n",
       "      <th>recall</th>\n",
       "      <th>f1-score</th>\n",
       "      <th>support</th>\n",
       "    </tr>\n",
       "  </thead>\n",
       "  <tbody>\n",
       "    <tr>\n",
       "      <th>no_churn</th>\n",
       "      <td>0.818264</td>\n",
       "      <td>0.876089</td>\n",
       "      <td>0.846190</td>\n",
       "      <td>1033.000000</td>\n",
       "    </tr>\n",
       "    <tr>\n",
       "      <th>churn</th>\n",
       "      <td>0.574751</td>\n",
       "      <td>0.462567</td>\n",
       "      <td>0.512593</td>\n",
       "      <td>374.000000</td>\n",
       "    </tr>\n",
       "    <tr>\n",
       "      <th>accuracy</th>\n",
       "      <td>0.766169</td>\n",
       "      <td>0.766169</td>\n",
       "      <td>0.766169</td>\n",
       "      <td>0.766169</td>\n",
       "    </tr>\n",
       "    <tr>\n",
       "      <th>macro avg</th>\n",
       "      <td>0.696507</td>\n",
       "      <td>0.669328</td>\n",
       "      <td>0.679391</td>\n",
       "      <td>1407.000000</td>\n",
       "    </tr>\n",
       "    <tr>\n",
       "      <th>weighted avg</th>\n",
       "      <td>0.753535</td>\n",
       "      <td>0.766169</td>\n",
       "      <td>0.757515</td>\n",
       "      <td>1407.000000</td>\n",
       "    </tr>\n",
       "  </tbody>\n",
       "</table>\n",
       "</div>"
      ],
      "text/plain": [
       "              precision    recall  f1-score      support\n",
       "no_churn       0.818264  0.876089  0.846190  1033.000000\n",
       "churn          0.574751  0.462567  0.512593   374.000000\n",
       "accuracy       0.766169  0.766169  0.766169     0.766169\n",
       "macro avg      0.696507  0.669328  0.679391  1407.000000\n",
       "weighted avg   0.753535  0.766169  0.757515  1407.000000"
      ]
     },
     "metadata": {},
     "output_type": "display_data"
    }
   ],
   "source": [
    "actual_test = y_test\n",
    "predicted_test = rf_1.predict(X_test)\n",
    "explore.model_performs(X_test, y_test, rf_1)"
   ]
  },
  {
   "cell_type": "markdown",
   "metadata": {},
   "source": [
    "#### Best Model - Key Findings and Takeaways\n",
    "- Slightly improves accuracy from 73% to 77%\n",
    "- Improves recall from 0% to 46%\n",
    "- With more time, I would like to explore hyperparameters to continue to improve recall score of this model"
   ]
  },
  {
   "cell_type": "markdown",
   "metadata": {},
   "source": [
    "#### Create the Predictions CSV\n",
    "- Create a CSV file with the probability of class, prediction of churn (1=churn, 0=no_churn)"
   ]
  },
  {
   "cell_type": "code",
   "execution_count": 22,
   "metadata": {},
   "outputs": [],
   "source": [
    "# mapping my Random Forest probabilities into a DataFrame\n",
    "proba_test = rf_1.predict_proba(X_test)\n",
    "proba_df = pd.DataFrame(proba_test, columns=rf_1.classes_.tolist())"
   ]
  },
  {
   "cell_type": "code",
   "execution_count": 23,
   "metadata": {},
   "outputs": [],
   "source": [
    "# reseting index on my test DataFrame\n",
    "reset_test = test.reset_index()"
   ]
  },
  {
   "cell_type": "code",
   "execution_count": 24,
   "metadata": {},
   "outputs": [],
   "source": [
    "# concat these DataFrames...\n",
    "test_proba_df = pd.concat([reset_test, proba_df], axis=1)"
   ]
  },
  {
   "cell_type": "code",
   "execution_count": 25,
   "metadata": {},
   "outputs": [],
   "source": [
    "# adding my prediction column\n",
    "test_proba_df['prediction'] = predicted_test"
   ]
  },
  {
   "cell_type": "code",
   "execution_count": 26,
   "metadata": {},
   "outputs": [],
   "source": [
    "# final DataFrame to turn in...\n",
    "telco_final = test_proba_df[['customer_id', 1, 'prediction']]"
   ]
  },
  {
   "cell_type": "code",
   "execution_count": 27,
   "metadata": {},
   "outputs": [],
   "source": [
    "# save to csv\n",
    "telco_final.to_csv('telco_final.csv')"
   ]
  },
  {
   "cell_type": "markdown",
   "metadata": {},
   "source": [
    "### Conclusion\n",
    "\n",
    "#### Key Findings and Takeaways\n",
    "- There are many drivers of churn in the Telco Dataset\n",
    "- There is no single \"smoking gun\" driver\n",
    "- The top drivers are:\n",
    "    - m2m\n",
    "    - auto-pay\n",
    "    - fiber\n",
    "    - has internet\n",
    "    - monthly charges\n",
    "    \n",
    "I chose my Random Forest Classifier because it had the best performance between my train and validate sets, as well as a slight improvment in overall accuracy, and a huge improvement in recall.\n",
    "\n",
    "#### Recommendations & Next Steps\n",
    "- Identify likely churners and proactively offer incentives to get them to sign a contract and/or convert to auto-pay\n",
    "- Implement a study to see why the churn rate of fiber optic internet users is so high\n",
    "    - Are we overpromising and underdelivering?\n",
    "    - Is the reliability questionabile?\n",
    "    - Are we priced competetively?\n",
    "- Adjust hyperparameters to fine-tune model\n",
    "- Create a metric to judge our incentive program(s) moving forward\n",
    "- Set check-in dates to monitor our progress\n",
    "\n"
   ]
  }
 ],
 "metadata": {
  "kernelspec": {
   "display_name": "Python 3.8.5 64-bit ('base': conda)",
   "language": "python",
   "name": "python385jvsc74a57bd0b64057e63add2b45b1ffc7eab9b09c8889b419c878e2fdf0d08f837f0fc857a7"
  },
  "language_info": {
   "codemirror_mode": {
    "name": "ipython",
    "version": 3
   },
   "file_extension": ".py",
   "mimetype": "text/x-python",
   "name": "python",
   "nbconvert_exporter": "python",
   "pygments_lexer": "ipython3",
   "version": "3.8.5"
  }
 },
 "nbformat": 4,
 "nbformat_minor": 4
}
