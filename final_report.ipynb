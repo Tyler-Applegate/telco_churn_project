{
 "cells": [
  {
   "cell_type": "markdown",
   "metadata": {},
   "source": [
    "# Telco Churn Classification Project\n",
    "### Tyler Applegate     -     Florence Cohort     -     2021.06.01"
   ]
  },
  {
   "cell_type": "code",
   "execution_count": 1,
   "metadata": {},
   "outputs": [],
   "source": [
    "# imports\n",
    "\n",
    "# general imports\n",
    "import pandas as pd\n",
    "import numpy as np\n",
    "import os\n",
    "import scipy.stats as stats\n",
    "\n",
    "# my specific imports\n",
    "import acquire\n",
    "import prepare\n",
    "import explore\n",
    "# import model\n",
    "\n",
    "# acquire imports\n",
    "from env import host, user, password\n",
    "\n",
    "# prepare imports\n",
    "from sklearn.model_selection import train_test_split\n",
    "\n",
    "# explore imports\n",
    "import matplotlib.pyplot as plt\n",
    "import seaborn as sns\n",
    "# model imports\n",
    "\n",
    "# evaluate imports"
   ]
  },
  {
   "cell_type": "markdown",
   "metadata": {},
   "source": [
    "### Project Planning"
   ]
  },
  {
   "cell_type": "markdown",
   "metadata": {},
   "source": [
    "- Create a README.md ith project and business goals, as well as data dictionay and initial hypothoses.\n",
    "- Create a function (or functions) to automate the process of connecting to the Codeup Database, and acquiring the telco_churn dataframe.\n",
    "- Save these functions to aquire.py so they can be imported into the final_report notebook.\n",
    "- Create a series of functions to automate the process of cleaning and preparing the newly acquired telco_churn dataframe to get it ready for the exploratory, modeling, and MVP stages of the pipeline.\n",
    "- Save these functions to prepare.py so they can be imported into the final_report notebook.\n",
    "- Clearly define at least two hypotheses, set an alpha, run necessary statistical testing, reject, or fail to reject each null hypothesis, and document findings are key takeaways.\n",
    "- Establish a baseline accuracy, model improvement goals.\n",
    "- Train at least 3 different classification models.\n",
    "- Evaluate these models on the train, and validate data sets.\n",
    "- Choose the best model to evaluate on the test dataset.\n",
    "- Create a csv file with the customer id, churn prediction, and actual churn.\n",
    "- Document takeways, key findings, conclusions, and next steps in the final report notebook."
   ]
  },
  {
   "cell_type": "markdown",
   "metadata": {},
   "source": [
    "### Executive Summary - Conclusion & Next Steps"
   ]
  },
  {
   "cell_type": "code",
   "execution_count": null,
   "metadata": {},
   "outputs": [],
   "source": []
  },
  {
   "cell_type": "markdown",
   "metadata": {},
   "source": [
    "### Data Acquisition"
   ]
  },
  {
   "cell_type": "code",
   "execution_count": 2,
   "metadata": {},
   "outputs": [],
   "source": [
    "# connect to Codeup Database and read in telco_churn to a DataFrame\n",
    "df = acquire.get_telco_data()"
   ]
  },
  {
   "cell_type": "code",
   "execution_count": 3,
   "metadata": {},
   "outputs": [
    {
     "name": "stdout",
     "output_type": "stream",
     "text": [
      "This dataframe has 7043 rows and 24 columns.\n",
      "----------------------------------\n",
      "\n",
      "<class 'pandas.core.frame.DataFrame'>\n",
      "Int64Index: 7043 entries, 0 to 7042\n",
      "Data columns (total 24 columns):\n",
      " #   Column                    Non-Null Count  Dtype  \n",
      "---  ------                    --------------  -----  \n",
      " 0   payment_type_id           7043 non-null   int64  \n",
      " 1   internet_service_type_id  7043 non-null   int64  \n",
      " 2   contract_type_id          7043 non-null   int64  \n",
      " 3   customer_id               7043 non-null   object \n",
      " 4   gender                    7043 non-null   object \n",
      " 5   senior_citizen            7043 non-null   int64  \n",
      " 6   partner                   7043 non-null   object \n",
      " 7   dependents                7043 non-null   object \n",
      " 8   tenure                    7043 non-null   int64  \n",
      " 9   phone_service             7043 non-null   object \n",
      " 10  multiple_lines            7043 non-null   object \n",
      " 11  online_security           7043 non-null   object \n",
      " 12  online_backup             7043 non-null   object \n",
      " 13  device_protection         7043 non-null   object \n",
      " 14  tech_support              7043 non-null   object \n",
      " 15  streaming_tv              7043 non-null   object \n",
      " 16  streaming_movies          7043 non-null   object \n",
      " 17  paperless_billing         7043 non-null   object \n",
      " 18  monthly_charges           7043 non-null   float64\n",
      " 19  total_charges             7043 non-null   object \n",
      " 20  churn                     7043 non-null   object \n",
      " 21  contract_type             7043 non-null   object \n",
      " 22  internet_service_type     7043 non-null   object \n",
      " 23  payment_type              7043 non-null   object \n",
      "dtypes: float64(1), int64(5), object(18)\n",
      "memory usage: 1.3+ MB\n",
      "None\n",
      "----------------------------------\n",
      "\n",
      "Unique value counts of each column\n",
      "\n",
      "payment_type_id                4\n",
      "internet_service_type_id       3\n",
      "contract_type_id               3\n",
      "customer_id                 7043\n",
      "gender                         2\n",
      "senior_citizen                 2\n",
      "partner                        2\n",
      "dependents                     2\n",
      "tenure                        73\n",
      "phone_service                  2\n",
      "multiple_lines                 3\n",
      "online_security                3\n",
      "online_backup                  3\n",
      "device_protection              3\n",
      "tech_support                   3\n",
      "streaming_tv                   3\n",
      "streaming_movies               3\n",
      "paperless_billing              2\n",
      "monthly_charges             1585\n",
      "total_charges               6531\n",
      "churn                          2\n",
      "contract_type                  3\n",
      "internet_service_type          3\n",
      "payment_type                   4\n",
      "dtype: int64\n",
      "----------------------------------\n",
      "\n",
      "Stats on Numeric Columns\n",
      "\n",
      "       payment_type_id  internet_service_type_id  contract_type_id  \\\n",
      "count      7043.000000               7043.000000       7043.000000   \n",
      "mean          2.315633                  1.872923          1.690473   \n",
      "std           1.148907                  0.737796          0.833755   \n",
      "min           1.000000                  1.000000          1.000000   \n",
      "25%           1.000000                  1.000000          1.000000   \n",
      "50%           2.000000                  2.000000          1.000000   \n",
      "75%           3.000000                  2.000000          2.000000   \n",
      "max           4.000000                  3.000000          3.000000   \n",
      "\n",
      "       senior_citizen       tenure  monthly_charges  \n",
      "count     7043.000000  7043.000000      7043.000000  \n",
      "mean         0.162147    32.371149        64.761692  \n",
      "std          0.368612    24.559481        30.090047  \n",
      "min          0.000000     0.000000        18.250000  \n",
      "25%          0.000000     9.000000        35.500000  \n",
      "50%          0.000000    29.000000        70.350000  \n",
      "75%          0.000000    55.000000        89.850000  \n",
      "max          1.000000    72.000000       118.750000  \n"
     ]
    }
   ],
   "source": [
    "# let's see what we're working with\n",
    "acquire.overview(df)"
   ]
  },
  {
   "cell_type": "markdown",
   "metadata": {},
   "source": [
    "### Data Acquisition - Key Findings and Takeaways:\n",
    "- Always remember to push up the .gitignore first, to keep login credentials private/secure\n",
    "- The get_connection function will work for any database in the Codeup database (IF you have login credentials.)\n",
    "    - If you do not, this function can be adjusted to work with whatever database you do have credentials for\n",
    "- The new_telco_data function is great for this project, and can be tweaked to work for others...\n",
    "    - Always test of the sql_query in Sequal Ace first!!!!!\n",
    "    - This query can be as simple of complex as you need it to be\n",
    "- The get_telco_data function is a wonderful time saver / effeciency optimisor\n",
    "    - The function will first look to see if there is a .csv of the db stored locally, and open it if available\n",
    "    - If not, it will run the new_telco_data function to acquire the telco_churn, and store it to the local\n",
    "- The overview function is a great way to get a bird's eye view of the dataset\n",
    "- This dataset is 7043 rows, by 24 columns.\n",
    "- At first glance, there do not appear to be any missing values."
   ]
  },
  {
   "cell_type": "markdown",
   "metadata": {},
   "source": [
    "### Data Preparation"
   ]
  },
  {
   "cell_type": "code",
   "execution_count": 4,
   "metadata": {},
   "outputs": [
    {
     "name": "stdout",
     "output_type": "stream",
     "text": [
      "<class 'pandas.core.frame.DataFrame'>\n",
      "Index: 7032 entries, 0016-QLJIS to 9986-BONCE\n",
      "Data columns (total 45 columns):\n",
      " #   Column                    Non-Null Count  Dtype  \n",
      "---  ------                    --------------  -----  \n",
      " 0   payment_type_id           7032 non-null   int64  \n",
      " 1   internet_service_type_id  7032 non-null   int64  \n",
      " 2   contract_type_id          7032 non-null   int64  \n",
      " 3   gender                    7032 non-null   object \n",
      " 4   senior_citizen            7032 non-null   int64  \n",
      " 5   partner                   7032 non-null   object \n",
      " 6   dependents                7032 non-null   object \n",
      " 7   tenure                    7032 non-null   int64  \n",
      " 8   phone_service             7032 non-null   object \n",
      " 9   multiple_lines            7032 non-null   object \n",
      " 10  online_security           7032 non-null   object \n",
      " 11  online_backup             7032 non-null   object \n",
      " 12  device_protection         7032 non-null   object \n",
      " 13  tech_support              7032 non-null   object \n",
      " 14  streaming_tv              7032 non-null   object \n",
      " 15  streaming_movies          7032 non-null   object \n",
      " 16  paperless_billing         7032 non-null   object \n",
      " 17  monthly_charges           7032 non-null   float64\n",
      " 18  total_charges             7032 non-null   float64\n",
      " 19  churn                     7032 non-null   object \n",
      " 20  contract_type             7032 non-null   object \n",
      " 21  internet_service_type     7032 non-null   object \n",
      " 22  payment_type              7032 non-null   object \n",
      " 23  auto_pay                  7032 non-null   int64  \n",
      " 24  dsl                       7032 non-null   int64  \n",
      " 25  fiber                     7032 non-null   int64  \n",
      " 26  has_internet              7032 non-null   int64  \n",
      " 27  m2m                       7032 non-null   int64  \n",
      " 28  one_year                  7032 non-null   int64  \n",
      " 29  two_year                  7032 non-null   int64  \n",
      " 30  has_contract              7032 non-null   int64  \n",
      " 31  is_male                   7032 non-null   int64  \n",
      " 32  has_partner               7032 non-null   int64  \n",
      " 33  has_dep                   7032 non-null   int64  \n",
      " 34  tenure_months             7032 non-null   int64  \n",
      " 35  has_phone                 7032 non-null   int64  \n",
      " 36  multi_phone               7032 non-null   int64  \n",
      " 37  has_security              7032 non-null   int64  \n",
      " 38  has_backup                7032 non-null   int64  \n",
      " 39  has_protection            7032 non-null   int64  \n",
      " 40  has_support               7032 non-null   int64  \n",
      " 41  stream_tv                 7032 non-null   int64  \n",
      " 42  stream_movies             7032 non-null   int64  \n",
      " 43  has_paperless             7032 non-null   int64  \n",
      " 44  has_churn                 7032 non-null   int64  \n",
      "dtypes: float64(2), int64(27), object(16)\n",
      "memory usage: 2.5+ MB\n"
     ]
    }
   ],
   "source": [
    "# reassign the df variable using my prep_1_telco function\n",
    "df = prepare.prep_1_telco(df)\n",
    "# what does the new df look like?\n",
    "df.info()\n",
    "# I chose to add new columns, before deleting/altering existing ones, so that I could double-check my work,\n",
    "# and have a fallback/restart point if necessary in the future"
   ]
  },
  {
   "cell_type": "code",
   "execution_count": 5,
   "metadata": {},
   "outputs": [
    {
     "name": "stdout",
     "output_type": "stream",
     "text": [
      "<class 'pandas.core.frame.DataFrame'>\n",
      "Index: 7032 entries, 0016-QLJIS to 9986-BONCE\n",
      "Data columns (total 25 columns):\n",
      " #   Column           Non-Null Count  Dtype  \n",
      "---  ------           --------------  -----  \n",
      " 0   senior_citizen   7032 non-null   int64  \n",
      " 1   monthly_charges  7032 non-null   float64\n",
      " 2   total_charges    7032 non-null   float64\n",
      " 3   auto_pay         7032 non-null   int64  \n",
      " 4   dsl              7032 non-null   int64  \n",
      " 5   fiber            7032 non-null   int64  \n",
      " 6   has_internet     7032 non-null   int64  \n",
      " 7   m2m              7032 non-null   int64  \n",
      " 8   one_year         7032 non-null   int64  \n",
      " 9   two_year         7032 non-null   int64  \n",
      " 10  has_contract     7032 non-null   int64  \n",
      " 11  is_male          7032 non-null   int64  \n",
      " 12  has_partner      7032 non-null   int64  \n",
      " 13  has_dep          7032 non-null   int64  \n",
      " 14  tenure_months    7032 non-null   int64  \n",
      " 15  has_phone        7032 non-null   int64  \n",
      " 16  multi_phone      7032 non-null   int64  \n",
      " 17  has_security     7032 non-null   int64  \n",
      " 18  has_backup       7032 non-null   int64  \n",
      " 19  has_protection   7032 non-null   int64  \n",
      " 20  has_support      7032 non-null   int64  \n",
      " 21  stream_tv        7032 non-null   int64  \n",
      " 22  stream_movies    7032 non-null   int64  \n",
      " 23  has_paperless    7032 non-null   int64  \n",
      " 24  has_churn        7032 non-null   int64  \n",
      "dtypes: float64(2), int64(23)\n",
      "memory usage: 1.4+ MB\n"
     ]
    }
   ],
   "source": [
    "# now I'm going to use my prep_2_telco function to delete duplicate/extraneous columns\n",
    "df = prepare.prep_2_telco(df)\n",
    "# what does it look like now?\n",
    "df.info()"
   ]
  },
  {
   "cell_type": "code",
   "execution_count": 6,
   "metadata": {},
   "outputs": [
    {
     "name": "stdout",
     "output_type": "stream",
     "text": [
      "   train: (3937, 25)\n",
      "validate: (1688, 25)\n",
      "    test: (1407, 25)\n"
     ]
    }
   ],
   "source": [
    "# let's split the data into train, validate, and test groups\n",
    "train, validate, test = prepare.split_data(df)\n",
    "# what doe each of these dataframes look like?\n",
    "print(f'   train: {train.shape}')\n",
    "print(f'validate: {validate.shape}')\n",
    "print(f'    test: {test.shape}')"
   ]
  },
  {
   "cell_type": "markdown",
   "metadata": {},
   "source": [
    "### Data Preparation - Key Findings and Takeaways\n",
    "- Starting out with a dataframe that is 7043 rows by 24 columns with no null values\n",
    "- The prep_1_telco function takes the existing dataframe, and generates new columns to convert objects into numerical values\n",
    "    - It also searches for whitespace, and replaces with NaN value, and in this case, drops those 11 rows\n",
    "    - I chose to drop the 11 rows that were so new, they had yet to receive a bill, and thus did not have a total charge\n",
    "    - Since they represented 11/7043 or 0.0015% of the dataframe, there is no issue with data integrity\n",
    "- The prep_2_telco function drops all object and duplicate columns, to give the fewest number of columns\n",
    "- The split_data function takes the df and splits into a train, validate, and test set\n",
    "    - To replicate, please use the same random state of 1221, and stratify on 'has_churn'"
   ]
  },
  {
   "cell_type": "markdown",
   "metadata": {},
   "source": [
    "### Data Exploration"
   ]
  },
  {
   "cell_type": "code",
   "execution_count": 7,
   "metadata": {},
   "outputs": [
    {
     "data": {
      "image/png": "[encoded data removed]",
      "text/plain": [
       "<Figure size 576x432 with 1 Axes>"
      ]
     },
     "metadata": {
      "needs_background": "light"
     },
     "output_type": "display_data"
    }
   ],
   "source": [
    "# let's melt the data, so we can get some fancy vizuals\n",
    "melt = explore.telco_melt(df)\n",
    "explore.telco_strip(melt)"
   ]
  },
  {
   "cell_type": "markdown",
   "metadata": {},
   "source": [
    "###### Stripplot Takeaways\n",
    "- It appears there is a relationship between monthly charges and churn\n",
    "- This is not a good visual for observing potential relationship between tenure and churn"
   ]
  },
  {
   "cell_type": "code",
   "execution_count": 8,
   "metadata": {},
   "outputs": [
    {
     "data": {
      "image/png": "[encoded data removed]",
      "text/plain": [
       "<Figure size 432x288 with 1 Axes>"
      ]
     },
     "metadata": {
      "needs_background": "light"
     },
     "output_type": "display_data"
    }
   ],
   "source": [
    "# overall churn rate of train dataset\n",
    "churn_rate = train['has_churn'].mean()\n",
    "tcr = train['has_churn'].value_counts().plot.bar()\n",
    "plt.title(f'Churn rate of train dataset: {churn_rate:.2%}')\n",
    "plt.xticks(ticks=[0,1], labels=['No Churn', 'Churn'], rotation=0)\n",
    "plt.ylabel('count')\n",
    "plt.show()"
   ]
  },
  {
   "cell_type": "markdown",
   "metadata": {},
   "source": [
    "##### Bar chart takeaways\n",
    "- In the train dataset, roughly 1 in 4 users churns\n",
    "- This means our baseline model of guessing no one churns is 73.43% Accurate\n",
    "- And baseline has a recall rate of 0%"
   ]
  },
  {
   "cell_type": "markdown",
   "metadata": {},
   "source": [
    "### Statistical testing"
   ]
  },
  {
   "cell_type": "markdown",
   "metadata": {},
   "source": [
    "##### Hypothesis 1\n",
    "- alpha = 0.05\n",
    "- ${H_O}$: There is no difference in churn rate between month-to-month and contracted users\n",
    "- ${H_a}$: There is a statistically significant difference in churn rate between month-to-month and contracted users"
   ]
  },
  {
   "cell_type": "code",
   "execution_count": 9,
   "metadata": {},
   "outputs": [
    {
     "name": "stdout",
     "output_type": "stream",
     "text": [
      "chi^2 = 632.7017\n",
      "p     = 0.0000\n",
      "The p-value is less than the alpha: True\n"
     ]
    }
   ],
   "source": [
    "alpha = 0.05\n",
    "observed = pd.crosstab(train['has_churn'], train['m2m'])\n",
    "chi2, p, degf, expected = stats.chi2_contingency(observed)\n",
    "print(f'chi^2 = {chi2:.4f}')\n",
    "print(f'p     = {p:.4f}')\n",
    "print(f'The p-value is less than the alpha: {p < alpha}')"
   ]
  },
  {
   "cell_type": "markdown",
   "metadata": {},
   "source": [
    "##### Conclusion\n",
    "- We reject ${H_O}$ that churn rate is the same for month-to-month and contracted users\n",
    "\n",
    "##### Takeaway\n",
    "- M2M will be a useful feature for my model"
   ]
  },
  {
   "cell_type": "markdown",
   "metadata": {},
   "source": [
    "##### Hypothesis 2\n",
    "- alpha = 0.05\n",
    "- ${H_O}$: Monthly charges have no impact on churn rate (they are independent variables)\n",
    "- ${H_a}$: There is a statistically significant relationship between monthly charges and churn rate"
   ]
  },
  {
   "cell_type": "code",
   "execution_count": 10,
   "metadata": {},
   "outputs": [
    {
     "name": "stdout",
     "output_type": "stream",
     "text": [
      "tscore: 179.87\n",
      "p/2:    0.0\n",
      "The p-value is less than the alpha: True\n"
     ]
    }
   ],
   "source": [
    "churn_rate = train['has_churn'].mean()\n",
    "t, p = stats.ttest_1samp(df['monthly_charges'], churn_rate)\n",
    "print('tscore:', t.round(2))\n",
    "print('p/2:   ', p/2)\n",
    "print(f'The p-value is less than the alpha: {p < alpha}')"
   ]
  },
  {
   "cell_type": "markdown",
   "metadata": {},
   "source": [
    "##### Conclusion\n",
    "- We reject ${H_O}$ that monthly charges have no impact on churn rate\n",
    "\n",
    "##### Takeaway\n",
    "- Monthly charges will also be useful in model building"
   ]
  },
  {
   "cell_type": "markdown",
   "metadata": {},
   "source": [
    "##### What other features will be useful for model building?"
   ]
  },
  {
   "cell_type": "code",
   "execution_count": 11,
   "metadata": {},
   "outputs": [
    {
     "name": "stdout",
     "output_type": "stream",
     "text": [
      "senior_citizen\n",
      "chi^2 = 114.5890\n",
      "p     = 0.0000\n",
      "--------------------------------\n",
      "auto_pay\n",
      "chi^2 = 164.2553\n",
      "p     = 0.0000\n",
      "--------------------------------\n",
      "dsl\n",
      "chi^2 = 63.2535\n",
      "p     = 0.0000\n",
      "--------------------------------\n",
      "fiber\n",
      "chi^2 = 398.3547\n",
      "p     = 0.0000\n",
      "--------------------------------\n",
      "has_internet\n",
      "chi^2 = 217.2718\n",
      "p     = 0.0000\n",
      "--------------------------------\n",
      "m2m\n",
      "chi^2 = 632.7017\n",
      "p     = 0.0000\n",
      "--------------------------------\n",
      "one_year\n",
      "chi^2 = 131.1002\n",
      "p     = 0.0000\n",
      "--------------------------------\n",
      "two_year\n",
      "chi^2 = 338.5036\n",
      "p     = 0.0000\n",
      "--------------------------------\n",
      "has_contract\n",
      "chi^2 = 632.7017\n",
      "p     = 0.0000\n",
      "--------------------------------\n",
      "is_male\n",
      "chi^2 = 1.9712\n",
      "p     = 0.1603\n",
      "--------------------------------\n",
      "has_partner\n",
      "chi^2 = 68.2426\n",
      "p     = 0.0000\n",
      "--------------------------------\n",
      "has_dep\n",
      "chi^2 = 89.8354\n",
      "p     = 0.0000\n",
      "--------------------------------\n",
      "has_phone\n",
      "chi^2 = 0.0721\n",
      "p     = 0.7884\n",
      "--------------------------------\n",
      "multi_phone\n",
      "chi^2 = 5.4421\n",
      "p     = 0.0197\n",
      "--------------------------------\n",
      "has_security\n",
      "chi^2 = 103.5538\n",
      "p     = 0.0000\n",
      "--------------------------------\n",
      "has_backup\n",
      "chi^2 = 23.9851\n",
      "p     = 0.0000\n",
      "--------------------------------\n",
      "has_protection\n",
      "chi^2 = 14.5461\n",
      "p     = 0.0001\n",
      "--------------------------------\n",
      "has_support\n",
      "chi^2 = 101.7196\n",
      "p     = 0.0000\n",
      "--------------------------------\n",
      "stream_tv\n",
      "chi^2 = 14.7009\n",
      "p     = 0.0001\n",
      "--------------------------------\n",
      "stream_movies\n",
      "chi^2 = 18.8427\n",
      "p     = 0.0000\n",
      "--------------------------------\n",
      "has_paperless\n",
      "chi^2 = 137.8913\n",
      "p     = 0.0000\n",
      "--------------------------------\n"
     ]
    }
   ],
   "source": [
    "# this function will run chi^2 test on each categorical variable against has_churn\n",
    "explore.telco_cat_chi(train)"
   ]
  },
  {
   "cell_type": "markdown",
   "metadata": {},
   "source": [
    "##### Chi^2 Takeaways\n",
    "- Strong (Chi^2 > 150)\n",
    "    - auto-pay, fiber, has_internet, m2m, two_year, has_contract    \n",
    "- Moderate (Chi^2 > 100)\n",
    "    - senior_citizen, one_year, has_security, has_support, has_paperless\n",
    "- Low (Chi^2 > 50)\n",
    "    - dsl, has_partner, has_dep,\n",
    "- DO NOT USE\n",
    "    - is_male, has_phone, multi_phone, has_backup, has_protection, stream_tv, stream_movies "
   ]
  },
  {
   "cell_type": "code",
   "execution_count": null,
   "metadata": {},
   "outputs": [],
   "source": []
  },
  {
   "cell_type": "code",
   "execution_count": null,
   "metadata": {},
   "outputs": [],
   "source": []
  }
 ],
 "metadata": {
  "kernelspec": {
   "display_name": "Python 3.8.5 64-bit ('base': conda)",
   "language": "python",
   "name": "python385jvsc74a57bd0b64057e63add2b45b1ffc7eab9b09c8889b419c878e2fdf0d08f837f0fc857a7"
  },
  "language_info": {
   "codemirror_mode": {
    "name": "ipython",
    "version": 3
   },
   "file_extension": ".py",
   "mimetype": "text/x-python",
   "name": "python",
   "nbconvert_exporter": "python",
   "pygments_lexer": "ipython3",
   "version": "3.8.5"
  }
 },
 "nbformat": 4,
 "nbformat_minor": 4
}
