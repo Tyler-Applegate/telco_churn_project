{
 "cells": [
  {
   "cell_type": "code",
   "execution_count": 1,
   "metadata": {},
   "outputs": [],
   "source": [
    "# imports\n",
    "import pandas as pd\n",
    "import numpy as np\n",
    "from env import host, user, password\n",
    "import acquire\n",
    "import prepare"
   ]
  },
  {
   "cell_type": "code",
   "execution_count": 2,
   "metadata": {},
   "outputs": [],
   "source": [
    "# use my functions to acquire telco_churn \n",
    "telco_df = acquire.get_telco_data()"
   ]
  },
  {
   "cell_type": "code",
   "execution_count": 3,
   "metadata": {},
   "outputs": [
    {
     "name": "stdout",
     "output_type": "stream",
     "text": [
      "<class 'pandas.core.frame.DataFrame'>\n",
      "Int64Index: 7043 entries, 0 to 7042\n",
      "Data columns (total 24 columns):\n",
      " #   Column                    Non-Null Count  Dtype  \n",
      "---  ------                    --------------  -----  \n",
      " 0   payment_type_id           7043 non-null   int64  \n",
      " 1   internet_service_type_id  7043 non-null   int64  \n",
      " 2   contract_type_id          7043 non-null   int64  \n",
      " 3   customer_id               7043 non-null   object \n",
      " 4   gender                    7043 non-null   object \n",
      " 5   senior_citizen            7043 non-null   int64  \n",
      " 6   partner                   7043 non-null   object \n",
      " 7   dependents                7043 non-null   object \n",
      " 8   tenure                    7043 non-null   int64  \n",
      " 9   phone_service             7043 non-null   object \n",
      " 10  multiple_lines            7043 non-null   object \n",
      " 11  online_security           7043 non-null   object \n",
      " 12  online_backup             7043 non-null   object \n",
      " 13  device_protection         7043 non-null   object \n",
      " 14  tech_support              7043 non-null   object \n",
      " 15  streaming_tv              7043 non-null   object \n",
      " 16  streaming_movies          7043 non-null   object \n",
      " 17  paperless_billing         7043 non-null   object \n",
      " 18  monthly_charges           7043 non-null   float64\n",
      " 19  total_charges             7043 non-null   object \n",
      " 20  churn                     7043 non-null   object \n",
      " 21  contract_type             7043 non-null   object \n",
      " 22  internet_service_type     7043 non-null   object \n",
      " 23  payment_type              7043 non-null   object \n",
      "dtypes: float64(1), int64(5), object(18)\n",
      "memory usage: 1.3+ MB\n"
     ]
    }
   ],
   "source": [
    "# let's see what we're working with...\n",
    "telco_df.info()"
   ]
  },
  {
   "cell_type": "code",
   "execution_count": 4,
   "metadata": {},
   "outputs": [
    {
     "data": {
      "text/plain": [
       "7043"
      ]
     },
     "execution_count": 4,
     "metadata": {},
     "output_type": "execute_result"
    }
   ],
   "source": [
    "telco_df['customer_id'].nunique()"
   ]
  },
  {
   "cell_type": "code",
   "execution_count": 5,
   "metadata": {},
   "outputs": [],
   "source": [
    "# reset the customer_id to be the index\n",
    "telco_df = telco_df.set_index('customer_id')"
   ]
  },
  {
   "cell_type": "code",
   "execution_count": 6,
   "metadata": {},
   "outputs": [
    {
     "name": "stdout",
     "output_type": "stream",
     "text": [
      "<class 'pandas.core.frame.DataFrame'>\n",
      "Index: 7043 entries, 0016-QLJIS to 9986-BONCE\n",
      "Data columns (total 23 columns):\n",
      " #   Column                    Non-Null Count  Dtype  \n",
      "---  ------                    --------------  -----  \n",
      " 0   payment_type_id           7043 non-null   int64  \n",
      " 1   internet_service_type_id  7043 non-null   int64  \n",
      " 2   contract_type_id          7043 non-null   int64  \n",
      " 3   gender                    7043 non-null   object \n",
      " 4   senior_citizen            7043 non-null   int64  \n",
      " 5   partner                   7043 non-null   object \n",
      " 6   dependents                7043 non-null   object \n",
      " 7   tenure                    7043 non-null   int64  \n",
      " 8   phone_service             7043 non-null   object \n",
      " 9   multiple_lines            7043 non-null   object \n",
      " 10  online_security           7043 non-null   object \n",
      " 11  online_backup             7043 non-null   object \n",
      " 12  device_protection         7043 non-null   object \n",
      " 13  tech_support              7043 non-null   object \n",
      " 14  streaming_tv              7043 non-null   object \n",
      " 15  streaming_movies          7043 non-null   object \n",
      " 16  paperless_billing         7043 non-null   object \n",
      " 17  monthly_charges           7043 non-null   float64\n",
      " 18  total_charges             7043 non-null   object \n",
      " 19  churn                     7043 non-null   object \n",
      " 20  contract_type             7043 non-null   object \n",
      " 21  internet_service_type     7043 non-null   object \n",
      " 22  payment_type              7043 non-null   object \n",
      "dtypes: float64(1), int64(5), object(17)\n",
      "memory usage: 1.3+ MB\n"
     ]
    }
   ],
   "source": [
    "telco_df.info()"
   ]
  },
  {
   "cell_type": "code",
   "execution_count": null,
   "metadata": {},
   "outputs": [],
   "source": []
  },
  {
   "cell_type": "code",
   "execution_count": null,
   "metadata": {},
   "outputs": [],
   "source": [
    "# are there any null values / whitespace?\n",
    "# This replaces empty cells with nan (null values)\n",
    "telco_df = telco_df.replace(' ', np.nan)"
   ]
  },
  {
   "cell_type": "code",
   "execution_count": null,
   "metadata": {},
   "outputs": [],
   "source": [
    "telco_df.info()"
   ]
  },
  {
   "cell_type": "code",
   "execution_count": null,
   "metadata": {},
   "outputs": [],
   "source": [
    "# drop the nulls...\n",
    "telco_df = telco_df.dropna(axis=0)\n",
    "telco_df.info()"
   ]
  },
  {
   "cell_type": "code",
   "execution_count": null,
   "metadata": {},
   "outputs": [],
   "source": [
    "# convert payment types to 1:auto-pay, 0:not auto-pay\n",
    "telco_df['auto_pay'] = telco_df['payment_type_id'].replace({1:0, 2:0, 3:1, 4:1})"
   ]
  },
  {
   "cell_type": "code",
   "execution_count": null,
   "metadata": {},
   "outputs": [],
   "source": [
    "# create DSL column where 1:has DSL, 0:No DSL\n",
    "telco_df['dsl'] = telco_df['internet_service_type_id'].replace({1:1, 2:0, 3:0})"
   ]
  },
  {
   "cell_type": "code",
   "execution_count": null,
   "metadata": {},
   "outputs": [],
   "source": [
    "# create Fiber column where 1:has Fiber service, 0:No Fiber\n",
    "telco_df['fiber'] = telco_df['internet_service_type_id'].replace({1:0, 2:1, 3:0})"
   ]
  },
  {
   "cell_type": "code",
   "execution_count": null,
   "metadata": {},
   "outputs": [],
   "source": [
    "# create Has Internet column where 1:Has Internet 0:No internet service\n",
    "telco_df['has_internet'] = telco_df['internet_service_type_id'].replace({1:1, 2:1, 3:0})"
   ]
  },
  {
   "cell_type": "code",
   "execution_count": null,
   "metadata": {},
   "outputs": [],
   "source": [
    "# separte contract_type_id into three columns...\n",
    "# create m2m column where 1:Month-to-Month service, 2:contract\n",
    "telco_df['m2m'] = telco_df['contract_type_id'].replace({1:1, 2:0, 3:0})"
   ]
  },
  {
   "cell_type": "code",
   "execution_count": null,
   "metadata": {},
   "outputs": [],
   "source": [
    "# create one_year column where 1:One year contract, 0:no contract, or m2m\n",
    "telco_df['one_year'] = telco_df['contract_type_id'].replace({1:0, 2:1, 3:0})"
   ]
  },
  {
   "cell_type": "code",
   "execution_count": null,
   "metadata": {},
   "outputs": [],
   "source": [
    "# create teo_year column where 1:two year contract, 0:less than 2 year contract\n",
    "telco_df['two_year'] = telco_df['contract_type_id'].replace({1:0, 2:0, 3:1})"
   ]
  },
  {
   "cell_type": "code",
   "execution_count": null,
   "metadata": {},
   "outputs": [],
   "source": [
    "# create has contract column where 1:has contract, 0:no contract\n",
    "telco_df['has_contract'] = telco_df['contract_type_id'].replace({1:0, 2:1, 3:1})"
   ]
  },
  {
   "cell_type": "code",
   "execution_count": null,
   "metadata": {},
   "outputs": [],
   "source": [
    "# create column to convert gender to int 1:male, 0:female\n",
    "telco_df['is_male'] = telco_df['gender'].replace({'Male':1, 'Female':0})"
   ]
  },
  {
   "cell_type": "code",
   "execution_count": null,
   "metadata": {},
   "outputs": [],
   "source": [
    "# create reusable dictionary for replacing 'No', 'Yes', 'No internet service', 'No phone service'\n",
    "rep_dict = {\n",
    "    'No': 0,\n",
    "    'Yes': 1,\n",
    "    'No internet service': 0,\n",
    "    'No phone service': 0\n",
    "}"
   ]
  },
  {
   "cell_type": "code",
   "execution_count": null,
   "metadata": {},
   "outputs": [],
   "source": [
    "# create has_partner column where 1:has partner, 0:no partner\n",
    "telco_df['has_partner'] = telco_df['partner'].replace(rep_dict)"
   ]
  },
  {
   "cell_type": "code",
   "execution_count": null,
   "metadata": {},
   "outputs": [],
   "source": [
    "# create has_dep column where 1:has dependents, 0:no dependents\n",
    "telco_df['has_dep'] = telco_df['dependents'].replace(rep_dict)"
   ]
  },
  {
   "cell_type": "code",
   "execution_count": null,
   "metadata": {},
   "outputs": [],
   "source": [
    "# better identify tenure in months by renaming column...\n",
    "telco_df['tenure_months'] = telco_df['tenure']"
   ]
  },
  {
   "cell_type": "code",
   "execution_count": null,
   "metadata": {},
   "outputs": [],
   "source": [
    "# create has_phone column where 1:has phone, 0:no phone\n",
    "telco_df['has_phone'] = telco_df['phone_service'].replace(rep_dict)"
   ]
  },
  {
   "cell_type": "code",
   "execution_count": null,
   "metadata": {},
   "outputs": [],
   "source": [
    "# create multi_phone column where 1:multiple phone lines, 0:One or fewer phone lines\n",
    "telco_df['multi_phone'] = telco_df['multiple_lines'].replace(rep_dict)"
   ]
  },
  {
   "cell_type": "code",
   "execution_count": null,
   "metadata": {},
   "outputs": [],
   "source": [
    "# create security column where 1:has online security, 2:no security\n",
    "telco_df['has_security'] = telco_df['online_security'].replace(rep_dict)"
   ]
  },
  {
   "cell_type": "code",
   "execution_count": null,
   "metadata": {},
   "outputs": [],
   "source": [
    "# create has_backup column where 1:has online backup, 0:no backup\n",
    "telco_df['has_backup'] = telco_df['online_backup'].replace(rep_dict)"
   ]
  },
  {
   "cell_type": "code",
   "execution_count": null,
   "metadata": {},
   "outputs": [],
   "source": [
    "# create has_protection column where 1:has device protection, 0:no device protection\n",
    "telco_df['has_protection'] = telco_df['device_protection'].replace(rep_dict)"
   ]
  },
  {
   "cell_type": "code",
   "execution_count": null,
   "metadata": {},
   "outputs": [],
   "source": [
    "# create has_support column where 1:has tech support, 0:no tech support\n",
    "telco_df['has_support'] = telco_df['tech_support'].replace(rep_dict)"
   ]
  },
  {
   "cell_type": "code",
   "execution_count": null,
   "metadata": {},
   "outputs": [],
   "source": [
    "# create stream_tv column where 1:streams tv, 0:no streaming tv\n",
    "telco_df['stream_tv'] = telco_df['streaming_tv'].replace(rep_dict)"
   ]
  },
  {
   "cell_type": "code",
   "execution_count": null,
   "metadata": {},
   "outputs": [],
   "source": [
    "# create stream_movies column where 1:streams movies, 0:no streaming movies\n",
    "telco_df['stream_movies'] = telco_df['streaming_movies'].replace(rep_dict)"
   ]
  },
  {
   "cell_type": "code",
   "execution_count": null,
   "metadata": {},
   "outputs": [],
   "source": [
    "# create has_paperless column where 1:has paperless billing, 0:no paperless billing\n",
    "telco_df['has_paperless'] = telco_df['paperless_billing'].replace(rep_dict)"
   ]
  },
  {
   "cell_type": "code",
   "execution_count": null,
   "metadata": {},
   "outputs": [],
   "source": [
    "# convert total_charges to float\n",
    "telco_df['total_charges'] = telco_df['total_charges'].astype(float)"
   ]
  },
  {
   "cell_type": "code",
   "execution_count": null,
   "metadata": {},
   "outputs": [],
   "source": [
    "# create has_churn column where 1:has churn, 0:no churn\n",
    "telco_df['has_churn'] = telco_df['churn'].replace(rep_dict)"
   ]
  },
  {
   "cell_type": "code",
   "execution_count": null,
   "metadata": {},
   "outputs": [],
   "source": [
    "telco_df.info()"
   ]
  },
  {
   "cell_type": "code",
   "execution_count": null,
   "metadata": {},
   "outputs": [],
   "source": []
  },
  {
   "cell_type": "code",
   "execution_count": null,
   "metadata": {},
   "outputs": [],
   "source": []
  },
  {
   "cell_type": "code",
   "execution_count": null,
   "metadata": {},
   "outputs": [],
   "source": [
    "# convert gender to int...\n",
    "# create dictionary to map Male and Female as 1,0\n",
    "gender = {\n",
    "    'Male': 1,\n",
    "    'Female': 0\n",
    "}\n",
    "# create new column 'is_male' that returns 1 if male, 0 if female\n",
    "telco_df['is_male'] = telco_df['gender'].map(gender)\n",
    "# drops old 'gender' column\n",
    "telco_df = telco_df.drop(columns = 'gender')"
   ]
  },
  {
   "cell_type": "code",
   "execution_count": null,
   "metadata": {},
   "outputs": [],
   "source": [
    "# convert partner to int...\n",
    "# create dictionary to map 'Yes' partner and 'No' partner as 1,0\n",
    "partner = {\n",
    "    'Yes': 1,\n",
    "    'No': 0\n",
    "}\n",
    "# create new column 'is_male' that returns 1 if male, 0 if female\n",
    "telco_df['has_partner'] = telco_df['partner'].map(partner)\n",
    "# drops old 'partner' column\n",
    "telco_df = telco_df.drop(columns = 'partner')"
   ]
  },
  {
   "cell_type": "code",
   "execution_count": null,
   "metadata": {},
   "outputs": [],
   "source": []
  },
  {
   "cell_type": "code",
   "execution_count": null,
   "metadata": {},
   "outputs": [],
   "source": [
    "# convert dependents to int...\n",
    "# create dictionary to map 'Yes' dependents and 'No' dependents as 1,0\n",
    "dependents = {\n",
    "    'Yes': 1,\n",
    "    'No': 0\n",
    "}\n",
    "# create new column 'is_male' that returns 1 if male, 0 if female\n",
    "telco_df['has_dependents'] = telco_df['dependents'].map(dependents)\n",
    "# drops old 'dependents' column\n",
    "telco_df = telco_df.drop(columns = 'dependents')"
   ]
  },
  {
   "cell_type": "code",
   "execution_count": null,
   "metadata": {},
   "outputs": [],
   "source": [
    "# convert phone service to int...\n",
    "# create dictionary to map 'Yes' phone service and 'No' phone service as 1,0\n",
    "has_phone = {\n",
    "    'Yes': 1,\n",
    "    'No': 0\n",
    "}\n",
    "# create new column 'is_male' that returns 1 if male, 0 if female\n",
    "telco_df['has_phone'] = telco_df['phone_service'].map(has_phone)\n",
    "# drops old 'phone_service' column\n",
    "telco_df = telco_df.drop(columns = 'phone_service')"
   ]
  },
  {
   "cell_type": "code",
   "execution_count": null,
   "metadata": {},
   "outputs": [],
   "source": [
    "# convert multiple phone lines to int...\n",
    "# create dictionary to map 'No phone service', 'No', and 'Yes' as 0, 1, 2.\n",
    "qty_phone = {\n",
    "    'No phone service': 0,\n",
    "    'No': 1,\n",
    "    'Yes': 2\n",
    "}\n",
    "# create new column 'qty_phone' that returns 0 if none, 1 if 1, and 2 if multiple\n",
    "telco_df['qty_phone'] = telco_df['multiple_lines'].map(qty_phone)\n",
    "# drops old 'multiple_lines' column\n",
    "telco_df = telco_df.drop(columns = 'multiple_lines')"
   ]
  },
  {
   "cell_type": "code",
   "execution_count": null,
   "metadata": {},
   "outputs": [],
   "source": [
    "# convert 'online_security' to int...\n",
    "# create dictionary to map 'No internet service', 'No', and 'Yes' as 0, 1, 2.\n",
    "online_3 = {\n",
    "    'No internet service': 0,\n",
    "    'No': 1,\n",
    "    'Yes': 2\n",
    "}\n",
    "# create new column 'online_sec' that returns 0 if 'No intenet service', 1 if 'No', and 2 if 'Yes'\n",
    "telco_df['online_sec'] = telco_df['online_security'].map(online_3)\n",
    "# drops old 'online_security' column\n",
    "telco_df = telco_df.drop(columns = 'online_security')"
   ]
  },
  {
   "cell_type": "code",
   "execution_count": null,
   "metadata": {},
   "outputs": [],
   "source": [
    "# convert 'online_backup' to int...\n",
    "# create dictionary to map 'No internet service', 'No', and 'Yes' as 0, 1, 2.\n",
    "online_3 = {\n",
    "    'No internet service': 0,\n",
    "    'No': 1,\n",
    "    'Yes': 2\n",
    "}\n",
    "# Edit column 'online_backup' so that it returns 0 if 'No intenet service', 1 if 'No', and 2 if 'Yes'\n",
    "telco_df['online_backup'] = telco_df['online_backup'].map(online_3)"
   ]
  },
  {
   "cell_type": "code",
   "execution_count": null,
   "metadata": {},
   "outputs": [],
   "source": []
  },
  {
   "cell_type": "code",
   "execution_count": null,
   "metadata": {},
   "outputs": [],
   "source": []
  },
  {
   "cell_type": "code",
   "execution_count": null,
   "metadata": {},
   "outputs": [],
   "source": [
    "telco_df.nunique()"
   ]
  },
  {
   "cell_type": "code",
   "execution_count": null,
   "metadata": {},
   "outputs": [],
   "source": [
    "cont_vars = ['customer_id', 'tenure', 'monthly_charges', 'total_charges']"
   ]
  },
  {
   "cell_type": "code",
   "execution_count": null,
   "metadata": {},
   "outputs": [],
   "source": []
  },
  {
   "cell_type": "code",
   "execution_count": null,
   "metadata": {},
   "outputs": [],
   "source": []
  },
  {
   "cell_type": "code",
   "execution_count": null,
   "metadata": {},
   "outputs": [],
   "source": []
  }
 ],
 "metadata": {
  "kernelspec": {
   "display_name": "Python 3.8.5 64-bit ('base': conda)",
   "language": "python",
   "name": "python385jvsc74a57bd0b64057e63add2b45b1ffc7eab9b09c8889b419c878e2fdf0d08f837f0fc857a7"
  },
  "language_info": {
   "codemirror_mode": {
    "name": "ipython",
    "version": 3
   },
   "file_extension": ".py",
   "mimetype": "text/x-python",
   "name": "python",
   "nbconvert_exporter": "python",
   "pygments_lexer": "ipython3",
   "version": "3.8.5"
  }
 },
 "nbformat": 4,
 "nbformat_minor": 4
}
