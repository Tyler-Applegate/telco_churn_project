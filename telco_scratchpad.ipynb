{
 "cells": [
  {
   "cell_type": "code",
   "execution_count": 83,
   "metadata": {},
   "outputs": [],
   "source": [
    "# imports\n",
    "import pandas as pd\n",
    "import numpy as np\n",
    "from scipy import stats\n",
    "from env import host, user, password\n",
    "import acquire\n",
    "import prepare\n",
    "import mf\n",
    "# imports specific to prepare\n",
    "from sklearn.model_selection import train_test_split\n",
    "import matplotlib.pyplot as plt\n",
    "import seaborn as sns\n",
    "from sklearn.dummy import DummyClassifier\n",
    "from sklearn.metrics import accuracy_score\n",
    "from sklearn.metrics import precision_score\n",
    "from sklearn.metrics import recall_score\n",
    "from sklearn.metrics import classification_report\n",
    "from sklearn.metrics import confusion_matrix\n",
    "from sklearn.tree import DecisionTreeClassifier, plot_tree, export_text\n",
    "from sklearn.ensemble import RandomForestClassifier\n",
    "from sklearn.neighbors import KNeighborsClassifier\n",
    "from sklearn.linear_model import LogisticRegression\n",
    "from sklearn.feature_selection import chi2\n",
    "from sklearn.feature_selection import SelectKBest"
   ]
  },
  {
   "cell_type": "code",
   "execution_count": 2,
   "metadata": {},
   "outputs": [],
   "source": [
    "# use my functions to acquire telco_churn \n",
    "df = acquire.get_telco_data()"
   ]
  },
  {
   "cell_type": "code",
   "execution_count": 3,
   "metadata": {},
   "outputs": [],
   "source": [
    "# let's see the value counts...\n",
    "col_list = df.columns"
   ]
  },
  {
   "cell_type": "code",
   "execution_count": 4,
   "metadata": {},
   "outputs": [
    {
     "data": {
      "text/plain": [
       "Index(['payment_type_id', 'internet_service_type_id', 'contract_type_id',\n",
       "       'customer_id', 'gender', 'senior_citizen', 'partner', 'dependents',\n",
       "       'tenure', 'phone_service', 'multiple_lines', 'online_security',\n",
       "       'online_backup', 'device_protection', 'tech_support', 'streaming_tv',\n",
       "       'streaming_movies', 'paperless_billing', 'monthly_charges',\n",
       "       'total_charges', 'churn', 'contract_type', 'internet_service_type',\n",
       "       'payment_type'],\n",
       "      dtype='object')"
      ]
     },
     "execution_count": 4,
     "metadata": {},
     "output_type": "execute_result"
    }
   ],
   "source": [
    "col_list"
   ]
  },
  {
   "cell_type": "code",
   "execution_count": 5,
   "metadata": {},
   "outputs": [
    {
     "name": "stdout",
     "output_type": "stream",
     "text": [
      "payment_type_id\n",
      "1    2365\n",
      "2    1612\n",
      "3    1544\n",
      "4    1522\n",
      "Name: payment_type_id, dtype: int64\n",
      "--------------------------------\n",
      "internet_service_type_id\n",
      "2    3096\n",
      "1    2421\n",
      "3    1526\n",
      "Name: internet_service_type_id, dtype: int64\n",
      "--------------------------------\n",
      "contract_type_id\n",
      "1    3875\n",
      "3    1695\n",
      "2    1473\n",
      "Name: contract_type_id, dtype: int64\n",
      "--------------------------------\n",
      "customer_id\n",
      "7586-ZATGZ    1\n",
      "4043-MKDTV    1\n",
      "5226-NOZFC    1\n",
      "7668-XCFYV    1\n",
      "4632-XJMEX    1\n",
      "             ..\n",
      "5393-RXQSZ    1\n",
      "1193-RTSLK    1\n",
      "0674-GCDXG    1\n",
      "7089-XXAYG    1\n",
      "5998-DZLYR    1\n",
      "Name: customer_id, Length: 7043, dtype: int64\n",
      "--------------------------------\n",
      "gender\n",
      "Male      3555\n",
      "Female    3488\n",
      "Name: gender, dtype: int64\n",
      "--------------------------------\n",
      "senior_citizen\n",
      "0    5901\n",
      "1    1142\n",
      "Name: senior_citizen, dtype: int64\n",
      "--------------------------------\n",
      "partner\n",
      "No     3641\n",
      "Yes    3402\n",
      "Name: partner, dtype: int64\n",
      "--------------------------------\n",
      "dependents\n",
      "No     4933\n",
      "Yes    2110\n",
      "Name: dependents, dtype: int64\n",
      "--------------------------------\n",
      "tenure\n",
      "1     613\n",
      "72    362\n",
      "2     238\n",
      "3     200\n",
      "4     176\n",
      "     ... \n",
      "28     57\n",
      "39     56\n",
      "44     51\n",
      "36     50\n",
      "0      11\n",
      "Name: tenure, Length: 73, dtype: int64\n",
      "--------------------------------\n",
      "phone_service\n",
      "Yes    6361\n",
      "No      682\n",
      "Name: phone_service, dtype: int64\n",
      "--------------------------------\n",
      "multiple_lines\n",
      "No                  3390\n",
      "Yes                 2971\n",
      "No phone service     682\n",
      "Name: multiple_lines, dtype: int64\n",
      "--------------------------------\n",
      "online_security\n",
      "No                     3498\n",
      "Yes                    2019\n",
      "No internet service    1526\n",
      "Name: online_security, dtype: int64\n",
      "--------------------------------\n",
      "online_backup\n",
      "No                     3088\n",
      "Yes                    2429\n",
      "No internet service    1526\n",
      "Name: online_backup, dtype: int64\n",
      "--------------------------------\n",
      "device_protection\n",
      "No                     3095\n",
      "Yes                    2422\n",
      "No internet service    1526\n",
      "Name: device_protection, dtype: int64\n",
      "--------------------------------\n",
      "tech_support\n",
      "No                     3473\n",
      "Yes                    2044\n",
      "No internet service    1526\n",
      "Name: tech_support, dtype: int64\n",
      "--------------------------------\n",
      "streaming_tv\n",
      "No                     2810\n",
      "Yes                    2707\n",
      "No internet service    1526\n",
      "Name: streaming_tv, dtype: int64\n",
      "--------------------------------\n",
      "streaming_movies\n",
      "No                     2785\n",
      "Yes                    2732\n",
      "No internet service    1526\n",
      "Name: streaming_movies, dtype: int64\n",
      "--------------------------------\n",
      "paperless_billing\n",
      "Yes    4171\n",
      "No     2872\n",
      "Name: paperless_billing, dtype: int64\n",
      "--------------------------------\n",
      "monthly_charges\n",
      "20.05     61\n",
      "19.85     45\n",
      "19.95     44\n",
      "19.90     44\n",
      "20.00     43\n",
      "          ..\n",
      "56.85      1\n",
      "92.65      1\n",
      "109.85     1\n",
      "35.70      1\n",
      "61.95      1\n",
      "Name: monthly_charges, Length: 1585, dtype: int64\n",
      "--------------------------------\n",
      "total_charges\n",
      "           11\n",
      "20.2       11\n",
      "19.75       9\n",
      "19.65       8\n",
      "20.05       8\n",
      "           ..\n",
      "483.7       1\n",
      "1029.35     1\n",
      "775.3       1\n",
      "2566.5      1\n",
      "7898.45     1\n",
      "Name: total_charges, Length: 6531, dtype: int64\n",
      "--------------------------------\n",
      "churn\n",
      "No     5174\n",
      "Yes    1869\n",
      "Name: churn, dtype: int64\n",
      "--------------------------------\n",
      "contract_type\n",
      "Month-to-month    3875\n",
      "Two year          1695\n",
      "One year          1473\n",
      "Name: contract_type, dtype: int64\n",
      "--------------------------------\n",
      "internet_service_type\n",
      "Fiber optic    3096\n",
      "DSL            2421\n",
      "None           1526\n",
      "Name: internet_service_type, dtype: int64\n",
      "--------------------------------\n",
      "payment_type\n",
      "Electronic check             2365\n",
      "Mailed check                 1612\n",
      "Bank transfer (automatic)    1544\n",
      "Credit card (automatic)      1522\n",
      "Name: payment_type, dtype: int64\n",
      "--------------------------------\n"
     ]
    }
   ],
   "source": [
    "# let's look at all columns value_counts\n",
    "for col in col_list:\n",
    "    print(col)\n",
    "    print(df[col].value_counts())\n",
    "    print('--------------------------------')"
   ]
  },
  {
   "cell_type": "code",
   "execution_count": null,
   "metadata": {},
   "outputs": [],
   "source": []
  },
  {
   "cell_type": "code",
   "execution_count": null,
   "metadata": {},
   "outputs": [],
   "source": []
  },
  {
   "cell_type": "code",
   "execution_count": 6,
   "metadata": {},
   "outputs": [
    {
     "name": "stdout",
     "output_type": "stream",
     "text": [
      "<class 'pandas.core.frame.DataFrame'>\n",
      "Int64Index: 7043 entries, 0 to 7042\n",
      "Data columns (total 24 columns):\n",
      " #   Column                    Non-Null Count  Dtype  \n",
      "---  ------                    --------------  -----  \n",
      " 0   payment_type_id           7043 non-null   int64  \n",
      " 1   internet_service_type_id  7043 non-null   int64  \n",
      " 2   contract_type_id          7043 non-null   int64  \n",
      " 3   customer_id               7043 non-null   object \n",
      " 4   gender                    7043 non-null   object \n",
      " 5   senior_citizen            7043 non-null   int64  \n",
      " 6   partner                   7043 non-null   object \n",
      " 7   dependents                7043 non-null   object \n",
      " 8   tenure                    7043 non-null   int64  \n",
      " 9   phone_service             7043 non-null   object \n",
      " 10  multiple_lines            7043 non-null   object \n",
      " 11  online_security           7043 non-null   object \n",
      " 12  online_backup             7043 non-null   object \n",
      " 13  device_protection         7043 non-null   object \n",
      " 14  tech_support              7043 non-null   object \n",
      " 15  streaming_tv              7043 non-null   object \n",
      " 16  streaming_movies          7043 non-null   object \n",
      " 17  paperless_billing         7043 non-null   object \n",
      " 18  monthly_charges           7043 non-null   float64\n",
      " 19  total_charges             7043 non-null   object \n",
      " 20  churn                     7043 non-null   object \n",
      " 21  contract_type             7043 non-null   object \n",
      " 22  internet_service_type     7043 non-null   object \n",
      " 23  payment_type              7043 non-null   object \n",
      "dtypes: float64(1), int64(5), object(18)\n",
      "memory usage: 1.3+ MB\n"
     ]
    }
   ],
   "source": [
    "# let's see what we're working with...\n",
    "df.info()"
   ]
  },
  {
   "cell_type": "code",
   "execution_count": 7,
   "metadata": {},
   "outputs": [
    {
     "data": {
      "text/plain": [
       "7043"
      ]
     },
     "execution_count": 7,
     "metadata": {},
     "output_type": "execute_result"
    }
   ],
   "source": [
    "df['customer_id'].nunique()"
   ]
  },
  {
   "cell_type": "code",
   "execution_count": 8,
   "metadata": {},
   "outputs": [],
   "source": [
    "# reset the customer_id to be the index\n",
    "df = df.set_index('customer_id')"
   ]
  },
  {
   "cell_type": "code",
   "execution_count": 9,
   "metadata": {},
   "outputs": [
    {
     "data": {
      "text/plain": [
       "Index(['0016-QLJIS', '0017-DINOC', '0019-GFNTW', '0056-EPFBG', '0078-XZMHT',\n",
       "       '0114-IGABW', '0123-CRBRT', '0191-EQUUH', '0214-JHPFW', '0229-LFJAF',\n",
       "       ...\n",
       "       '9837-FWLCH', '9860-LISIZ', '9867-NNXLC', '9929-PLVPA', '9932-WBWIK',\n",
       "       '9962-BFPDU', '9967-ATRFS', '9970-QBCDA', '9975-SKRNR', '9986-BONCE'],\n",
       "      dtype='object', name='customer_id', length=7043)"
      ]
     },
     "execution_count": 9,
     "metadata": {},
     "output_type": "execute_result"
    }
   ],
   "source": [
    "df.index"
   ]
  },
  {
   "cell_type": "code",
   "execution_count": 10,
   "metadata": {},
   "outputs": [
    {
     "data": {
      "text/html": [
       "<div>\n",
       "<style scoped>\n",
       "    .dataframe tbody tr th:only-of-type {\n",
       "        vertical-align: middle;\n",
       "    }\n",
       "\n",
       "    .dataframe tbody tr th {\n",
       "        vertical-align: top;\n",
       "    }\n",
       "\n",
       "    .dataframe thead th {\n",
       "        text-align: right;\n",
       "    }\n",
       "</style>\n",
       "<table border=\"1\" class=\"dataframe\">\n",
       "  <thead>\n",
       "    <tr style=\"text-align: right;\">\n",
       "      <th></th>\n",
       "      <th>payment_type_id</th>\n",
       "      <th>internet_service_type_id</th>\n",
       "      <th>contract_type_id</th>\n",
       "      <th>gender</th>\n",
       "      <th>senior_citizen</th>\n",
       "      <th>partner</th>\n",
       "      <th>dependents</th>\n",
       "      <th>tenure</th>\n",
       "      <th>phone_service</th>\n",
       "      <th>multiple_lines</th>\n",
       "      <th>...</th>\n",
       "      <th>tech_support</th>\n",
       "      <th>streaming_tv</th>\n",
       "      <th>streaming_movies</th>\n",
       "      <th>paperless_billing</th>\n",
       "      <th>monthly_charges</th>\n",
       "      <th>total_charges</th>\n",
       "      <th>churn</th>\n",
       "      <th>contract_type</th>\n",
       "      <th>internet_service_type</th>\n",
       "      <th>payment_type</th>\n",
       "    </tr>\n",
       "    <tr>\n",
       "      <th>customer_id</th>\n",
       "      <th></th>\n",
       "      <th></th>\n",
       "      <th></th>\n",
       "      <th></th>\n",
       "      <th></th>\n",
       "      <th></th>\n",
       "      <th></th>\n",
       "      <th></th>\n",
       "      <th></th>\n",
       "      <th></th>\n",
       "      <th></th>\n",
       "      <th></th>\n",
       "      <th></th>\n",
       "      <th></th>\n",
       "      <th></th>\n",
       "      <th></th>\n",
       "      <th></th>\n",
       "      <th></th>\n",
       "      <th></th>\n",
       "      <th></th>\n",
       "      <th></th>\n",
       "    </tr>\n",
       "  </thead>\n",
       "  <tbody>\n",
       "    <tr>\n",
       "      <th>0016-QLJIS</th>\n",
       "      <td>2</td>\n",
       "      <td>1</td>\n",
       "      <td>3</td>\n",
       "      <td>Female</td>\n",
       "      <td>0</td>\n",
       "      <td>Yes</td>\n",
       "      <td>Yes</td>\n",
       "      <td>65</td>\n",
       "      <td>Yes</td>\n",
       "      <td>Yes</td>\n",
       "      <td>...</td>\n",
       "      <td>Yes</td>\n",
       "      <td>Yes</td>\n",
       "      <td>Yes</td>\n",
       "      <td>Yes</td>\n",
       "      <td>90.45</td>\n",
       "      <td>5957.9</td>\n",
       "      <td>No</td>\n",
       "      <td>Two year</td>\n",
       "      <td>DSL</td>\n",
       "      <td>Mailed check</td>\n",
       "    </tr>\n",
       "    <tr>\n",
       "      <th>0017-DINOC</th>\n",
       "      <td>4</td>\n",
       "      <td>1</td>\n",
       "      <td>3</td>\n",
       "      <td>Male</td>\n",
       "      <td>0</td>\n",
       "      <td>No</td>\n",
       "      <td>No</td>\n",
       "      <td>54</td>\n",
       "      <td>No</td>\n",
       "      <td>No phone service</td>\n",
       "      <td>...</td>\n",
       "      <td>Yes</td>\n",
       "      <td>Yes</td>\n",
       "      <td>No</td>\n",
       "      <td>No</td>\n",
       "      <td>45.20</td>\n",
       "      <td>2460.55</td>\n",
       "      <td>No</td>\n",
       "      <td>Two year</td>\n",
       "      <td>DSL</td>\n",
       "      <td>Credit card (automatic)</td>\n",
       "    </tr>\n",
       "    <tr>\n",
       "      <th>0019-GFNTW</th>\n",
       "      <td>3</td>\n",
       "      <td>1</td>\n",
       "      <td>3</td>\n",
       "      <td>Female</td>\n",
       "      <td>0</td>\n",
       "      <td>No</td>\n",
       "      <td>No</td>\n",
       "      <td>56</td>\n",
       "      <td>No</td>\n",
       "      <td>No phone service</td>\n",
       "      <td>...</td>\n",
       "      <td>Yes</td>\n",
       "      <td>No</td>\n",
       "      <td>No</td>\n",
       "      <td>No</td>\n",
       "      <td>45.05</td>\n",
       "      <td>2560.1</td>\n",
       "      <td>No</td>\n",
       "      <td>Two year</td>\n",
       "      <td>DSL</td>\n",
       "      <td>Bank transfer (automatic)</td>\n",
       "    </tr>\n",
       "    <tr>\n",
       "      <th>0056-EPFBG</th>\n",
       "      <td>4</td>\n",
       "      <td>1</td>\n",
       "      <td>3</td>\n",
       "      <td>Male</td>\n",
       "      <td>0</td>\n",
       "      <td>Yes</td>\n",
       "      <td>Yes</td>\n",
       "      <td>20</td>\n",
       "      <td>No</td>\n",
       "      <td>No phone service</td>\n",
       "      <td>...</td>\n",
       "      <td>Yes</td>\n",
       "      <td>No</td>\n",
       "      <td>No</td>\n",
       "      <td>Yes</td>\n",
       "      <td>39.40</td>\n",
       "      <td>825.4</td>\n",
       "      <td>No</td>\n",
       "      <td>Two year</td>\n",
       "      <td>DSL</td>\n",
       "      <td>Credit card (automatic)</td>\n",
       "    </tr>\n",
       "    <tr>\n",
       "      <th>0078-XZMHT</th>\n",
       "      <td>3</td>\n",
       "      <td>1</td>\n",
       "      <td>3</td>\n",
       "      <td>Male</td>\n",
       "      <td>0</td>\n",
       "      <td>Yes</td>\n",
       "      <td>No</td>\n",
       "      <td>72</td>\n",
       "      <td>Yes</td>\n",
       "      <td>Yes</td>\n",
       "      <td>...</td>\n",
       "      <td>Yes</td>\n",
       "      <td>Yes</td>\n",
       "      <td>Yes</td>\n",
       "      <td>Yes</td>\n",
       "      <td>85.15</td>\n",
       "      <td>6316.2</td>\n",
       "      <td>No</td>\n",
       "      <td>Two year</td>\n",
       "      <td>DSL</td>\n",
       "      <td>Bank transfer (automatic)</td>\n",
       "    </tr>\n",
       "  </tbody>\n",
       "</table>\n",
       "<p>5 rows × 23 columns</p>\n",
       "</div>"
      ],
      "text/plain": [
       "             payment_type_id  internet_service_type_id  contract_type_id  \\\n",
       "customer_id                                                                \n",
       "0016-QLJIS                 2                         1                 3   \n",
       "0017-DINOC                 4                         1                 3   \n",
       "0019-GFNTW                 3                         1                 3   \n",
       "0056-EPFBG                 4                         1                 3   \n",
       "0078-XZMHT                 3                         1                 3   \n",
       "\n",
       "             gender  senior_citizen partner dependents  tenure phone_service  \\\n",
       "customer_id                                                                    \n",
       "0016-QLJIS   Female               0     Yes        Yes      65           Yes   \n",
       "0017-DINOC     Male               0      No         No      54            No   \n",
       "0019-GFNTW   Female               0      No         No      56            No   \n",
       "0056-EPFBG     Male               0     Yes        Yes      20            No   \n",
       "0078-XZMHT     Male               0     Yes         No      72           Yes   \n",
       "\n",
       "               multiple_lines  ... tech_support streaming_tv streaming_movies  \\\n",
       "customer_id                    ...                                              \n",
       "0016-QLJIS                Yes  ...          Yes          Yes              Yes   \n",
       "0017-DINOC   No phone service  ...          Yes          Yes               No   \n",
       "0019-GFNTW   No phone service  ...          Yes           No               No   \n",
       "0056-EPFBG   No phone service  ...          Yes           No               No   \n",
       "0078-XZMHT                Yes  ...          Yes          Yes              Yes   \n",
       "\n",
       "            paperless_billing monthly_charges total_charges churn  \\\n",
       "customer_id                                                         \n",
       "0016-QLJIS                Yes           90.45        5957.9    No   \n",
       "0017-DINOC                 No           45.20       2460.55    No   \n",
       "0019-GFNTW                 No           45.05        2560.1    No   \n",
       "0056-EPFBG                Yes           39.40         825.4    No   \n",
       "0078-XZMHT                Yes           85.15        6316.2    No   \n",
       "\n",
       "             contract_type internet_service_type               payment_type  \n",
       "customer_id                                                                  \n",
       "0016-QLJIS        Two year                   DSL               Mailed check  \n",
       "0017-DINOC        Two year                   DSL    Credit card (automatic)  \n",
       "0019-GFNTW        Two year                   DSL  Bank transfer (automatic)  \n",
       "0056-EPFBG        Two year                   DSL    Credit card (automatic)  \n",
       "0078-XZMHT        Two year                   DSL  Bank transfer (automatic)  \n",
       "\n",
       "[5 rows x 23 columns]"
      ]
     },
     "execution_count": 10,
     "metadata": {},
     "output_type": "execute_result"
    }
   ],
   "source": [
    "df.head()"
   ]
  },
  {
   "cell_type": "code",
   "execution_count": 11,
   "metadata": {},
   "outputs": [
    {
     "data": {
      "text/plain": [
       "7043"
      ]
     },
     "execution_count": 11,
     "metadata": {},
     "output_type": "execute_result"
    }
   ],
   "source": [
    "df.index.nunique()"
   ]
  },
  {
   "cell_type": "code",
   "execution_count": 12,
   "metadata": {},
   "outputs": [],
   "source": [
    "# are there any null values / whitespace?\n",
    "# This replaces empty cells with nan (null values)\n",
    "df = df.replace(' ', np.nan)"
   ]
  },
  {
   "cell_type": "code",
   "execution_count": 13,
   "metadata": {},
   "outputs": [
    {
     "name": "stdout",
     "output_type": "stream",
     "text": [
      "<class 'pandas.core.frame.DataFrame'>\n",
      "Index: 7043 entries, 0016-QLJIS to 9986-BONCE\n",
      "Data columns (total 23 columns):\n",
      " #   Column                    Non-Null Count  Dtype  \n",
      "---  ------                    --------------  -----  \n",
      " 0   payment_type_id           7043 non-null   int64  \n",
      " 1   internet_service_type_id  7043 non-null   int64  \n",
      " 2   contract_type_id          7043 non-null   int64  \n",
      " 3   gender                    7043 non-null   object \n",
      " 4   senior_citizen            7043 non-null   int64  \n",
      " 5   partner                   7043 non-null   object \n",
      " 6   dependents                7043 non-null   object \n",
      " 7   tenure                    7043 non-null   int64  \n",
      " 8   phone_service             7043 non-null   object \n",
      " 9   multiple_lines            7043 non-null   object \n",
      " 10  online_security           7043 non-null   object \n",
      " 11  online_backup             7043 non-null   object \n",
      " 12  device_protection         7043 non-null   object \n",
      " 13  tech_support              7043 non-null   object \n",
      " 14  streaming_tv              7043 non-null   object \n",
      " 15  streaming_movies          7043 non-null   object \n",
      " 16  paperless_billing         7043 non-null   object \n",
      " 17  monthly_charges           7043 non-null   float64\n",
      " 18  total_charges             7032 non-null   object \n",
      " 19  churn                     7043 non-null   object \n",
      " 20  contract_type             7043 non-null   object \n",
      " 21  internet_service_type     7043 non-null   object \n",
      " 22  payment_type              7043 non-null   object \n",
      "dtypes: float64(1), int64(5), object(17)\n",
      "memory usage: 1.3+ MB\n"
     ]
    }
   ],
   "source": [
    "df.info()"
   ]
  },
  {
   "cell_type": "code",
   "execution_count": 14,
   "metadata": {},
   "outputs": [
    {
     "name": "stdout",
     "output_type": "stream",
     "text": [
      "<class 'pandas.core.frame.DataFrame'>\n",
      "Index: 7032 entries, 0016-QLJIS to 9986-BONCE\n",
      "Data columns (total 23 columns):\n",
      " #   Column                    Non-Null Count  Dtype  \n",
      "---  ------                    --------------  -----  \n",
      " 0   payment_type_id           7032 non-null   int64  \n",
      " 1   internet_service_type_id  7032 non-null   int64  \n",
      " 2   contract_type_id          7032 non-null   int64  \n",
      " 3   gender                    7032 non-null   object \n",
      " 4   senior_citizen            7032 non-null   int64  \n",
      " 5   partner                   7032 non-null   object \n",
      " 6   dependents                7032 non-null   object \n",
      " 7   tenure                    7032 non-null   int64  \n",
      " 8   phone_service             7032 non-null   object \n",
      " 9   multiple_lines            7032 non-null   object \n",
      " 10  online_security           7032 non-null   object \n",
      " 11  online_backup             7032 non-null   object \n",
      " 12  device_protection         7032 non-null   object \n",
      " 13  tech_support              7032 non-null   object \n",
      " 14  streaming_tv              7032 non-null   object \n",
      " 15  streaming_movies          7032 non-null   object \n",
      " 16  paperless_billing         7032 non-null   object \n",
      " 17  monthly_charges           7032 non-null   float64\n",
      " 18  total_charges             7032 non-null   object \n",
      " 19  churn                     7032 non-null   object \n",
      " 20  contract_type             7032 non-null   object \n",
      " 21  internet_service_type     7032 non-null   object \n",
      " 22  payment_type              7032 non-null   object \n",
      "dtypes: float64(1), int64(5), object(17)\n",
      "memory usage: 1.3+ MB\n"
     ]
    }
   ],
   "source": [
    "# drop the nulls...\n",
    "df = df.dropna(axis=0)\n",
    "df.info()"
   ]
  },
  {
   "cell_type": "code",
   "execution_count": 15,
   "metadata": {},
   "outputs": [],
   "source": [
    "# convert payment types to 1:auto-pay, 0:not auto-pay\n",
    "df['auto_pay'] = df['payment_type_id'].replace({1:0, 2:0, 3:1, 4:1})"
   ]
  },
  {
   "cell_type": "code",
   "execution_count": 16,
   "metadata": {},
   "outputs": [],
   "source": [
    "# create DSL column where 1:has DSL, 0:No DSL\n",
    "df['dsl'] = df['internet_service_type_id'].replace({1:1, 2:0, 3:0})"
   ]
  },
  {
   "cell_type": "code",
   "execution_count": 17,
   "metadata": {},
   "outputs": [],
   "source": [
    "# create Fiber column where 1:has Fiber service, 0:No Fiber\n",
    "df['fiber'] = df['internet_service_type_id'].replace({1:0, 2:1, 3:0})"
   ]
  },
  {
   "cell_type": "code",
   "execution_count": 18,
   "metadata": {},
   "outputs": [],
   "source": [
    "# create Has Internet column where 1:Has Internet 0:No internet service\n",
    "df['has_internet'] = df['internet_service_type_id'].replace({1:1, 2:1, 3:0})"
   ]
  },
  {
   "cell_type": "code",
   "execution_count": 19,
   "metadata": {},
   "outputs": [],
   "source": [
    "# separte contract_type_id into three columns...\n",
    "# create m2m column where 1:Month-to-Month service, 2:contract\n",
    "df['m2m'] = df['contract_type_id'].replace({1:1, 2:0, 3:0})"
   ]
  },
  {
   "cell_type": "code",
   "execution_count": 20,
   "metadata": {},
   "outputs": [],
   "source": [
    "# create one_year column where 1:One year contract, 0:no contract, or m2m\n",
    "df['one_year'] = df['contract_type_id'].replace({1:0, 2:1, 3:0})"
   ]
  },
  {
   "cell_type": "code",
   "execution_count": 21,
   "metadata": {},
   "outputs": [],
   "source": [
    "# create teo_year column where 1:two year contract, 0:less than 2 year contract\n",
    "df['two_year'] = df['contract_type_id'].replace({1:0, 2:0, 3:1})"
   ]
  },
  {
   "cell_type": "code",
   "execution_count": 22,
   "metadata": {},
   "outputs": [],
   "source": [
    "# create has contract column where 1:has contract, 0:no contract\n",
    "df['has_contract'] = df['contract_type_id'].replace({1:0, 2:1, 3:1})"
   ]
  },
  {
   "cell_type": "code",
   "execution_count": 23,
   "metadata": {},
   "outputs": [],
   "source": [
    "# create column to convert gender to int 1:male, 0:female\n",
    "df['is_male'] = df['gender'].replace({'Male':1, 'Female':0})"
   ]
  },
  {
   "cell_type": "code",
   "execution_count": 24,
   "metadata": {},
   "outputs": [],
   "source": [
    "# create reusable dictionary for replacing 'No', 'Yes', 'No internet service', 'No phone service'\n",
    "rep_dict = {\n",
    "    'No': 0,\n",
    "    'Yes': 1,\n",
    "    'No internet service': 0,\n",
    "    'No phone service': 0\n",
    "}"
   ]
  },
  {
   "cell_type": "code",
   "execution_count": 25,
   "metadata": {},
   "outputs": [],
   "source": [
    "# create has_partner column where 1:has partner, 0:no partner\n",
    "df['has_partner'] = df['partner'].replace(rep_dict)"
   ]
  },
  {
   "cell_type": "code",
   "execution_count": 26,
   "metadata": {},
   "outputs": [],
   "source": [
    "# create has_dep column where 1:has dependents, 0:no dependents\n",
    "df['has_dep'] = df['dependents'].replace(rep_dict)"
   ]
  },
  {
   "cell_type": "code",
   "execution_count": 27,
   "metadata": {},
   "outputs": [],
   "source": [
    "# better identify tenure in months by renaming column...\n",
    "df['tenure_months'] = df['tenure']"
   ]
  },
  {
   "cell_type": "code",
   "execution_count": 28,
   "metadata": {},
   "outputs": [],
   "source": [
    "# create has_phone column where 1:has phone, 0:no phone\n",
    "df['has_phone'] = df['phone_service'].replace(rep_dict)"
   ]
  },
  {
   "cell_type": "code",
   "execution_count": 29,
   "metadata": {},
   "outputs": [],
   "source": [
    "# create multi_phone column where 1:multiple phone lines, 0:One or fewer phone lines\n",
    "df['multi_phone'] = df['multiple_lines'].replace(rep_dict)"
   ]
  },
  {
   "cell_type": "code",
   "execution_count": 30,
   "metadata": {},
   "outputs": [],
   "source": [
    "# create security column where 1:has online security, 2:no security\n",
    "df['has_security'] = df['online_security'].replace(rep_dict)"
   ]
  },
  {
   "cell_type": "code",
   "execution_count": 31,
   "metadata": {},
   "outputs": [],
   "source": [
    "# create has_backup column where 1:has online backup, 0:no backup\n",
    "df['has_backup'] = df['online_backup'].replace(rep_dict)"
   ]
  },
  {
   "cell_type": "code",
   "execution_count": 32,
   "metadata": {},
   "outputs": [],
   "source": [
    "# create has_protection column where 1:has device protection, 0:no device protection\n",
    "df['has_protection'] = df['device_protection'].replace(rep_dict)"
   ]
  },
  {
   "cell_type": "code",
   "execution_count": 33,
   "metadata": {},
   "outputs": [],
   "source": [
    "# create has_support column where 1:has tech support, 0:no tech support\n",
    "df['has_support'] = df['tech_support'].replace(rep_dict)"
   ]
  },
  {
   "cell_type": "code",
   "execution_count": 34,
   "metadata": {},
   "outputs": [],
   "source": [
    "# create stream_tv column where 1:streams tv, 0:no streaming tv\n",
    "df['stream_tv'] = df['streaming_tv'].replace(rep_dict)"
   ]
  },
  {
   "cell_type": "code",
   "execution_count": 35,
   "metadata": {},
   "outputs": [],
   "source": [
    "# create stream_movies column where 1:streams movies, 0:no streaming movies\n",
    "df['stream_movies'] = df['streaming_movies'].replace(rep_dict)"
   ]
  },
  {
   "cell_type": "code",
   "execution_count": 36,
   "metadata": {},
   "outputs": [],
   "source": [
    "# create has_paperless column where 1:has paperless billing, 0:no paperless billing\n",
    "df['has_paperless'] = df['paperless_billing'].replace(rep_dict)"
   ]
  },
  {
   "cell_type": "code",
   "execution_count": 37,
   "metadata": {},
   "outputs": [],
   "source": [
    "# convert total_charges to float\n",
    "df['total_charges'] = df['total_charges'].astype(float)"
   ]
  },
  {
   "cell_type": "code",
   "execution_count": 38,
   "metadata": {},
   "outputs": [],
   "source": [
    "# create has_churn column where 1:has churn, 0:no churn\n",
    "df['has_churn'] = df['churn'].replace(rep_dict)"
   ]
  },
  {
   "cell_type": "code",
   "execution_count": 39,
   "metadata": {},
   "outputs": [
    {
     "name": "stdout",
     "output_type": "stream",
     "text": [
      "<class 'pandas.core.frame.DataFrame'>\n",
      "Index: 7032 entries, 0016-QLJIS to 9986-BONCE\n",
      "Data columns (total 45 columns):\n",
      " #   Column                    Non-Null Count  Dtype  \n",
      "---  ------                    --------------  -----  \n",
      " 0   payment_type_id           7032 non-null   int64  \n",
      " 1   internet_service_type_id  7032 non-null   int64  \n",
      " 2   contract_type_id          7032 non-null   int64  \n",
      " 3   gender                    7032 non-null   object \n",
      " 4   senior_citizen            7032 non-null   int64  \n",
      " 5   partner                   7032 non-null   object \n",
      " 6   dependents                7032 non-null   object \n",
      " 7   tenure                    7032 non-null   int64  \n",
      " 8   phone_service             7032 non-null   object \n",
      " 9   multiple_lines            7032 non-null   object \n",
      " 10  online_security           7032 non-null   object \n",
      " 11  online_backup             7032 non-null   object \n",
      " 12  device_protection         7032 non-null   object \n",
      " 13  tech_support              7032 non-null   object \n",
      " 14  streaming_tv              7032 non-null   object \n",
      " 15  streaming_movies          7032 non-null   object \n",
      " 16  paperless_billing         7032 non-null   object \n",
      " 17  monthly_charges           7032 non-null   float64\n",
      " 18  total_charges             7032 non-null   float64\n",
      " 19  churn                     7032 non-null   object \n",
      " 20  contract_type             7032 non-null   object \n",
      " 21  internet_service_type     7032 non-null   object \n",
      " 22  payment_type              7032 non-null   object \n",
      " 23  auto_pay                  7032 non-null   int64  \n",
      " 24  dsl                       7032 non-null   int64  \n",
      " 25  fiber                     7032 non-null   int64  \n",
      " 26  has_internet              7032 non-null   int64  \n",
      " 27  m2m                       7032 non-null   int64  \n",
      " 28  one_year                  7032 non-null   int64  \n",
      " 29  two_year                  7032 non-null   int64  \n",
      " 30  has_contract              7032 non-null   int64  \n",
      " 31  is_male                   7032 non-null   int64  \n",
      " 32  has_partner               7032 non-null   int64  \n",
      " 33  has_dep                   7032 non-null   int64  \n",
      " 34  tenure_months             7032 non-null   int64  \n",
      " 35  has_phone                 7032 non-null   int64  \n",
      " 36  multi_phone               7032 non-null   int64  \n",
      " 37  has_security              7032 non-null   int64  \n",
      " 38  has_backup                7032 non-null   int64  \n",
      " 39  has_protection            7032 non-null   int64  \n",
      " 40  has_support               7032 non-null   int64  \n",
      " 41  stream_tv                 7032 non-null   int64  \n",
      " 42  stream_movies             7032 non-null   int64  \n",
      " 43  has_paperless             7032 non-null   int64  \n",
      " 44  has_churn                 7032 non-null   int64  \n",
      "dtypes: float64(2), int64(27), object(16)\n",
      "memory usage: 2.5+ MB\n"
     ]
    }
   ],
   "source": [
    "df.info()"
   ]
  },
  {
   "cell_type": "code",
   "execution_count": 40,
   "metadata": {},
   "outputs": [],
   "source": [
    "# now I have my wide DataFrame, let's prep round 2"
   ]
  },
  {
   "cell_type": "code",
   "execution_count": 41,
   "metadata": {},
   "outputs": [],
   "source": [
    "# I want to make sure I keep all columns in this df, but I want to eliminate\n",
    "# some for me to work with. That way, if I need a visual check, I can look back, but\n",
    "# I want have as much out of my way as possible for me to work with"
   ]
  },
  {
   "cell_type": "code",
   "execution_count": 42,
   "metadata": {},
   "outputs": [
    {
     "data": {
      "text/plain": [
       "['gender',\n",
       " 'partner',\n",
       " 'dependents',\n",
       " 'phone_service',\n",
       " 'multiple_lines',\n",
       " 'online_security',\n",
       " 'online_backup',\n",
       " 'device_protection',\n",
       " 'tech_support',\n",
       " 'streaming_tv',\n",
       " 'streaming_movies',\n",
       " 'paperless_billing',\n",
       " 'churn',\n",
       " 'contract_type',\n",
       " 'internet_service_type',\n",
       " 'payment_type']"
      ]
     },
     "execution_count": 42,
     "metadata": {},
     "output_type": "execute_result"
    }
   ],
   "source": [
    "# let's get a list of columns to drop\n",
    "list(df.select_dtypes('object').columns)"
   ]
  },
  {
   "cell_type": "code",
   "execution_count": 43,
   "metadata": {},
   "outputs": [],
   "source": [
    "# all object columns in a variable to drop\n",
    "obj_cols = list(df.select_dtypes('object').columns)"
   ]
  },
  {
   "cell_type": "code",
   "execution_count": 44,
   "metadata": {},
   "outputs": [],
   "source": [
    "# other columns to drop...\n",
    "other_drops = ['payment_type_id', 'internet_service_type_id', 'contract_type_id', 'tenure']"
   ]
  },
  {
   "cell_type": "code",
   "execution_count": 45,
   "metadata": {},
   "outputs": [],
   "source": [
    "# combine all drops into 1 list\n",
    "all_drops = obj_cols + other_drops"
   ]
  },
  {
   "cell_type": "code",
   "execution_count": 46,
   "metadata": {},
   "outputs": [],
   "source": [
    "# return a new, clean dataframe\n",
    "df_1 = df.drop(columns=all_drops)"
   ]
  },
  {
   "cell_type": "code",
   "execution_count": 47,
   "metadata": {},
   "outputs": [
    {
     "name": "stdout",
     "output_type": "stream",
     "text": [
      "<class 'pandas.core.frame.DataFrame'>\n",
      "Index: 7032 entries, 0016-QLJIS to 9986-BONCE\n",
      "Data columns (total 25 columns):\n",
      " #   Column           Non-Null Count  Dtype  \n",
      "---  ------           --------------  -----  \n",
      " 0   senior_citizen   7032 non-null   int64  \n",
      " 1   monthly_charges  7032 non-null   float64\n",
      " 2   total_charges    7032 non-null   float64\n",
      " 3   auto_pay         7032 non-null   int64  \n",
      " 4   dsl              7032 non-null   int64  \n",
      " 5   fiber            7032 non-null   int64  \n",
      " 6   has_internet     7032 non-null   int64  \n",
      " 7   m2m              7032 non-null   int64  \n",
      " 8   one_year         7032 non-null   int64  \n",
      " 9   two_year         7032 non-null   int64  \n",
      " 10  has_contract     7032 non-null   int64  \n",
      " 11  is_male          7032 non-null   int64  \n",
      " 12  has_partner      7032 non-null   int64  \n",
      " 13  has_dep          7032 non-null   int64  \n",
      " 14  tenure_months    7032 non-null   int64  \n",
      " 15  has_phone        7032 non-null   int64  \n",
      " 16  multi_phone      7032 non-null   int64  \n",
      " 17  has_security     7032 non-null   int64  \n",
      " 18  has_backup       7032 non-null   int64  \n",
      " 19  has_protection   7032 non-null   int64  \n",
      " 20  has_support      7032 non-null   int64  \n",
      " 21  stream_tv        7032 non-null   int64  \n",
      " 22  stream_movies    7032 non-null   int64  \n",
      " 23  has_paperless    7032 non-null   int64  \n",
      " 24  has_churn        7032 non-null   int64  \n",
      "dtypes: float64(2), int64(23)\n",
      "memory usage: 1.4+ MB\n"
     ]
    }
   ],
   "source": [
    "# what's it look like?\n",
    "df_1.info()"
   ]
  },
  {
   "cell_type": "code",
   "execution_count": 48,
   "metadata": {},
   "outputs": [
    {
     "data": {
      "text/plain": [
       "senior_citizen        2\n",
       "monthly_charges    1584\n",
       "total_charges      6530\n",
       "auto_pay              2\n",
       "dsl                   2\n",
       "fiber                 2\n",
       "has_internet          2\n",
       "m2m                   2\n",
       "one_year              2\n",
       "two_year              2\n",
       "has_contract          2\n",
       "is_male               2\n",
       "has_partner           2\n",
       "has_dep               2\n",
       "tenure_months        72\n",
       "has_phone             2\n",
       "multi_phone           2\n",
       "has_security          2\n",
       "has_backup            2\n",
       "has_protection        2\n",
       "has_support           2\n",
       "stream_tv             2\n",
       "stream_movies         2\n",
       "has_paperless         2\n",
       "has_churn             2\n",
       "dtype: int64"
      ]
     },
     "execution_count": 48,
     "metadata": {},
     "output_type": "execute_result"
    }
   ],
   "source": [
    "df_1.nunique()"
   ]
  },
  {
   "cell_type": "code",
   "execution_count": 49,
   "metadata": {},
   "outputs": [],
   "source": [
    "def split_data(df):\n",
    "    '''\n",
    "    take in a DataFrame and return train, validate, and test DataFrames; stratify on has_churn.\n",
    "    return train, validate, test DataFrames.\n",
    "    '''\n",
    "    train_validate, test = train_test_split(df, test_size=.2, random_state=1221, stratify=df.has_churn)\n",
    "    train, validate = train_test_split(train_validate, \n",
    "                                       test_size=.3, \n",
    "                                       random_state=1221, \n",
    "                                       stratify=train_validate.has_churn)\n",
    "    return train, validate, test"
   ]
  },
  {
   "cell_type": "code",
   "execution_count": 50,
   "metadata": {},
   "outputs": [],
   "source": [
    "train, validate, test = split_data(df_1)"
   ]
  },
  {
   "cell_type": "code",
   "execution_count": 51,
   "metadata": {},
   "outputs": [
    {
     "data": {
      "text/plain": [
       "((3937, 25), (1688, 25), (1407, 25))"
      ]
     },
     "execution_count": 51,
     "metadata": {},
     "output_type": "execute_result"
    }
   ],
   "source": [
    "# what do each of my new splits look like?\n",
    "train.shape, validate.shape, test.shape"
   ]
  },
  {
   "cell_type": "code",
   "execution_count": 52,
   "metadata": {},
   "outputs": [],
   "source": [
    "# ok, I should be good to move on to exploration"
   ]
  },
  {
   "cell_type": "code",
   "execution_count": 53,
   "metadata": {},
   "outputs": [
    {
     "name": "stdout",
     "output_type": "stream",
     "text": [
      "<class 'pandas.core.frame.DataFrame'>\n",
      "Index: 3937 entries, 3976-HXHCE to 9606-PBKBQ\n",
      "Data columns (total 25 columns):\n",
      " #   Column           Non-Null Count  Dtype  \n",
      "---  ------           --------------  -----  \n",
      " 0   senior_citizen   3937 non-null   int64  \n",
      " 1   monthly_charges  3937 non-null   float64\n",
      " 2   total_charges    3937 non-null   float64\n",
      " 3   auto_pay         3937 non-null   int64  \n",
      " 4   dsl              3937 non-null   int64  \n",
      " 5   fiber            3937 non-null   int64  \n",
      " 6   has_internet     3937 non-null   int64  \n",
      " 7   m2m              3937 non-null   int64  \n",
      " 8   one_year         3937 non-null   int64  \n",
      " 9   two_year         3937 non-null   int64  \n",
      " 10  has_contract     3937 non-null   int64  \n",
      " 11  is_male          3937 non-null   int64  \n",
      " 12  has_partner      3937 non-null   int64  \n",
      " 13  has_dep          3937 non-null   int64  \n",
      " 14  tenure_months    3937 non-null   int64  \n",
      " 15  has_phone        3937 non-null   int64  \n",
      " 16  multi_phone      3937 non-null   int64  \n",
      " 17  has_security     3937 non-null   int64  \n",
      " 18  has_backup       3937 non-null   int64  \n",
      " 19  has_protection   3937 non-null   int64  \n",
      " 20  has_support      3937 non-null   int64  \n",
      " 21  stream_tv        3937 non-null   int64  \n",
      " 22  stream_movies    3937 non-null   int64  \n",
      " 23  has_paperless    3937 non-null   int64  \n",
      " 24  has_churn        3937 non-null   int64  \n",
      "dtypes: float64(2), int64(23)\n",
      "memory usage: 799.7+ KB\n"
     ]
    }
   ],
   "source": [
    "# first, I'm going to look at my training data set\n",
    "train.info()"
   ]
  },
  {
   "cell_type": "code",
   "execution_count": 54,
   "metadata": {},
   "outputs": [
    {
     "data": {
      "text/plain": [
       "senior_citizen        2\n",
       "monthly_charges    1333\n",
       "total_charges      3743\n",
       "auto_pay              2\n",
       "dsl                   2\n",
       "fiber                 2\n",
       "has_internet          2\n",
       "m2m                   2\n",
       "one_year              2\n",
       "two_year              2\n",
       "has_contract          2\n",
       "is_male               2\n",
       "has_partner           2\n",
       "has_dep               2\n",
       "tenure_months        72\n",
       "has_phone             2\n",
       "multi_phone           2\n",
       "has_security          2\n",
       "has_backup            2\n",
       "has_protection        2\n",
       "has_support           2\n",
       "stream_tv             2\n",
       "stream_movies         2\n",
       "has_paperless         2\n",
       "has_churn             2\n",
       "dtype: int64"
      ]
     },
     "execution_count": 54,
     "metadata": {},
     "output_type": "execute_result"
    }
   ],
   "source": [
    "# looking at categorical vs continuous variables\n",
    "train.nunique()"
   ]
  },
  {
   "cell_type": "code",
   "execution_count": 55,
   "metadata": {},
   "outputs": [
    {
     "data": {
      "text/html": [
       "<div>\n",
       "<style scoped>\n",
       "    .dataframe tbody tr th:only-of-type {\n",
       "        vertical-align: middle;\n",
       "    }\n",
       "\n",
       "    .dataframe tbody tr th {\n",
       "        vertical-align: top;\n",
       "    }\n",
       "\n",
       "    .dataframe thead th {\n",
       "        text-align: right;\n",
       "    }\n",
       "</style>\n",
       "<table border=\"1\" class=\"dataframe\">\n",
       "  <thead>\n",
       "    <tr style=\"text-align: right;\">\n",
       "      <th></th>\n",
       "      <th>count</th>\n",
       "      <th>mean</th>\n",
       "      <th>std</th>\n",
       "      <th>min</th>\n",
       "      <th>25%</th>\n",
       "      <th>50%</th>\n",
       "      <th>75%</th>\n",
       "      <th>max</th>\n",
       "    </tr>\n",
       "  </thead>\n",
       "  <tbody>\n",
       "    <tr>\n",
       "      <th>senior_citizen</th>\n",
       "      <td>3937.0</td>\n",
       "      <td>0.169418</td>\n",
       "      <td>0.375169</td>\n",
       "      <td>0.00</td>\n",
       "      <td>0.0</td>\n",
       "      <td>0.00</td>\n",
       "      <td>0.0</td>\n",
       "      <td>1.00</td>\n",
       "    </tr>\n",
       "    <tr>\n",
       "      <th>monthly_charges</th>\n",
       "      <td>3937.0</td>\n",
       "      <td>64.487071</td>\n",
       "      <td>29.887050</td>\n",
       "      <td>18.25</td>\n",
       "      <td>35.5</td>\n",
       "      <td>70.15</td>\n",
       "      <td>89.7</td>\n",
       "      <td>118.35</td>\n",
       "    </tr>\n",
       "    <tr>\n",
       "      <th>total_charges</th>\n",
       "      <td>3937.0</td>\n",
       "      <td>2267.968606</td>\n",
       "      <td>2251.870938</td>\n",
       "      <td>18.80</td>\n",
       "      <td>397.0</td>\n",
       "      <td>1388.45</td>\n",
       "      <td>3810.8</td>\n",
       "      <td>8684.80</td>\n",
       "    </tr>\n",
       "    <tr>\n",
       "      <th>auto_pay</th>\n",
       "      <td>3937.0</td>\n",
       "      <td>0.433579</td>\n",
       "      <td>0.495632</td>\n",
       "      <td>0.00</td>\n",
       "      <td>0.0</td>\n",
       "      <td>0.00</td>\n",
       "      <td>1.0</td>\n",
       "      <td>1.00</td>\n",
       "    </tr>\n",
       "    <tr>\n",
       "      <th>dsl</th>\n",
       "      <td>3937.0</td>\n",
       "      <td>0.347473</td>\n",
       "      <td>0.476228</td>\n",
       "      <td>0.00</td>\n",
       "      <td>0.0</td>\n",
       "      <td>0.00</td>\n",
       "      <td>1.0</td>\n",
       "      <td>1.00</td>\n",
       "    </tr>\n",
       "    <tr>\n",
       "      <th>fiber</th>\n",
       "      <td>3937.0</td>\n",
       "      <td>0.434341</td>\n",
       "      <td>0.495733</td>\n",
       "      <td>0.00</td>\n",
       "      <td>0.0</td>\n",
       "      <td>0.00</td>\n",
       "      <td>1.0</td>\n",
       "      <td>1.00</td>\n",
       "    </tr>\n",
       "    <tr>\n",
       "      <th>has_internet</th>\n",
       "      <td>3937.0</td>\n",
       "      <td>0.781814</td>\n",
       "      <td>0.413067</td>\n",
       "      <td>0.00</td>\n",
       "      <td>1.0</td>\n",
       "      <td>1.00</td>\n",
       "      <td>1.0</td>\n",
       "      <td>1.00</td>\n",
       "    </tr>\n",
       "    <tr>\n",
       "      <th>m2m</th>\n",
       "      <td>3937.0</td>\n",
       "      <td>0.552451</td>\n",
       "      <td>0.497304</td>\n",
       "      <td>0.00</td>\n",
       "      <td>0.0</td>\n",
       "      <td>1.00</td>\n",
       "      <td>1.0</td>\n",
       "      <td>1.00</td>\n",
       "    </tr>\n",
       "    <tr>\n",
       "      <th>one_year</th>\n",
       "      <td>3937.0</td>\n",
       "      <td>0.211328</td>\n",
       "      <td>0.408303</td>\n",
       "      <td>0.00</td>\n",
       "      <td>0.0</td>\n",
       "      <td>0.00</td>\n",
       "      <td>0.0</td>\n",
       "      <td>1.00</td>\n",
       "    </tr>\n",
       "    <tr>\n",
       "      <th>two_year</th>\n",
       "      <td>3937.0</td>\n",
       "      <td>0.236220</td>\n",
       "      <td>0.424813</td>\n",
       "      <td>0.00</td>\n",
       "      <td>0.0</td>\n",
       "      <td>0.00</td>\n",
       "      <td>0.0</td>\n",
       "      <td>1.00</td>\n",
       "    </tr>\n",
       "    <tr>\n",
       "      <th>has_contract</th>\n",
       "      <td>3937.0</td>\n",
       "      <td>0.447549</td>\n",
       "      <td>0.497304</td>\n",
       "      <td>0.00</td>\n",
       "      <td>0.0</td>\n",
       "      <td>0.00</td>\n",
       "      <td>1.0</td>\n",
       "      <td>1.00</td>\n",
       "    </tr>\n",
       "    <tr>\n",
       "      <th>is_male</th>\n",
       "      <td>3937.0</td>\n",
       "      <td>0.513335</td>\n",
       "      <td>0.499886</td>\n",
       "      <td>0.00</td>\n",
       "      <td>0.0</td>\n",
       "      <td>1.00</td>\n",
       "      <td>1.0</td>\n",
       "      <td>1.00</td>\n",
       "    </tr>\n",
       "    <tr>\n",
       "      <th>has_partner</th>\n",
       "      <td>3937.0</td>\n",
       "      <td>0.474981</td>\n",
       "      <td>0.499437</td>\n",
       "      <td>0.00</td>\n",
       "      <td>0.0</td>\n",
       "      <td>0.00</td>\n",
       "      <td>1.0</td>\n",
       "      <td>1.00</td>\n",
       "    </tr>\n",
       "    <tr>\n",
       "      <th>has_dep</th>\n",
       "      <td>3937.0</td>\n",
       "      <td>0.293625</td>\n",
       "      <td>0.455480</td>\n",
       "      <td>0.00</td>\n",
       "      <td>0.0</td>\n",
       "      <td>0.00</td>\n",
       "      <td>1.0</td>\n",
       "      <td>1.00</td>\n",
       "    </tr>\n",
       "    <tr>\n",
       "      <th>tenure_months</th>\n",
       "      <td>3937.0</td>\n",
       "      <td>32.364237</td>\n",
       "      <td>24.627271</td>\n",
       "      <td>1.00</td>\n",
       "      <td>8.0</td>\n",
       "      <td>29.00</td>\n",
       "      <td>56.0</td>\n",
       "      <td>72.00</td>\n",
       "    </tr>\n",
       "    <tr>\n",
       "      <th>has_phone</th>\n",
       "      <td>3937.0</td>\n",
       "      <td>0.903734</td>\n",
       "      <td>0.294993</td>\n",
       "      <td>0.00</td>\n",
       "      <td>1.0</td>\n",
       "      <td>1.00</td>\n",
       "      <td>1.0</td>\n",
       "      <td>1.00</td>\n",
       "    </tr>\n",
       "    <tr>\n",
       "      <th>multi_phone</th>\n",
       "      <td>3937.0</td>\n",
       "      <td>0.422149</td>\n",
       "      <td>0.493965</td>\n",
       "      <td>0.00</td>\n",
       "      <td>0.0</td>\n",
       "      <td>0.00</td>\n",
       "      <td>1.0</td>\n",
       "      <td>1.00</td>\n",
       "    </tr>\n",
       "    <tr>\n",
       "      <th>has_security</th>\n",
       "      <td>3937.0</td>\n",
       "      <td>0.289053</td>\n",
       "      <td>0.453380</td>\n",
       "      <td>0.00</td>\n",
       "      <td>0.0</td>\n",
       "      <td>0.00</td>\n",
       "      <td>1.0</td>\n",
       "      <td>1.00</td>\n",
       "    </tr>\n",
       "    <tr>\n",
       "      <th>has_backup</th>\n",
       "      <td>3937.0</td>\n",
       "      <td>0.343155</td>\n",
       "      <td>0.474823</td>\n",
       "      <td>0.00</td>\n",
       "      <td>0.0</td>\n",
       "      <td>0.00</td>\n",
       "      <td>1.0</td>\n",
       "      <td>1.00</td>\n",
       "    </tr>\n",
       "    <tr>\n",
       "      <th>has_protection</th>\n",
       "      <td>3937.0</td>\n",
       "      <td>0.342901</td>\n",
       "      <td>0.474739</td>\n",
       "      <td>0.00</td>\n",
       "      <td>0.0</td>\n",
       "      <td>0.00</td>\n",
       "      <td>1.0</td>\n",
       "      <td>1.00</td>\n",
       "    </tr>\n",
       "    <tr>\n",
       "      <th>has_support</th>\n",
       "      <td>3937.0</td>\n",
       "      <td>0.291085</td>\n",
       "      <td>0.454320</td>\n",
       "      <td>0.00</td>\n",
       "      <td>0.0</td>\n",
       "      <td>0.00</td>\n",
       "      <td>1.0</td>\n",
       "      <td>1.00</td>\n",
       "    </tr>\n",
       "    <tr>\n",
       "      <th>stream_tv</th>\n",
       "      <td>3937.0</td>\n",
       "      <td>0.376683</td>\n",
       "      <td>0.484616</td>\n",
       "      <td>0.00</td>\n",
       "      <td>0.0</td>\n",
       "      <td>0.00</td>\n",
       "      <td>1.0</td>\n",
       "      <td>1.00</td>\n",
       "    </tr>\n",
       "    <tr>\n",
       "      <th>stream_movies</th>\n",
       "      <td>3937.0</td>\n",
       "      <td>0.384303</td>\n",
       "      <td>0.486492</td>\n",
       "      <td>0.00</td>\n",
       "      <td>0.0</td>\n",
       "      <td>0.00</td>\n",
       "      <td>1.0</td>\n",
       "      <td>1.00</td>\n",
       "    </tr>\n",
       "    <tr>\n",
       "      <th>has_paperless</th>\n",
       "      <td>3937.0</td>\n",
       "      <td>0.593345</td>\n",
       "      <td>0.491272</td>\n",
       "      <td>0.00</td>\n",
       "      <td>0.0</td>\n",
       "      <td>1.00</td>\n",
       "      <td>1.0</td>\n",
       "      <td>1.00</td>\n",
       "    </tr>\n",
       "    <tr>\n",
       "      <th>has_churn</th>\n",
       "      <td>3937.0</td>\n",
       "      <td>0.265685</td>\n",
       "      <td>0.441753</td>\n",
       "      <td>0.00</td>\n",
       "      <td>0.0</td>\n",
       "      <td>0.00</td>\n",
       "      <td>1.0</td>\n",
       "      <td>1.00</td>\n",
       "    </tr>\n",
       "  </tbody>\n",
       "</table>\n",
       "</div>"
      ],
      "text/plain": [
       "                  count         mean          std    min    25%      50%  \\\n",
       "senior_citizen   3937.0     0.169418     0.375169   0.00    0.0     0.00   \n",
       "monthly_charges  3937.0    64.487071    29.887050  18.25   35.5    70.15   \n",
       "total_charges    3937.0  2267.968606  2251.870938  18.80  397.0  1388.45   \n",
       "auto_pay         3937.0     0.433579     0.495632   0.00    0.0     0.00   \n",
       "dsl              3937.0     0.347473     0.476228   0.00    0.0     0.00   \n",
       "fiber            3937.0     0.434341     0.495733   0.00    0.0     0.00   \n",
       "has_internet     3937.0     0.781814     0.413067   0.00    1.0     1.00   \n",
       "m2m              3937.0     0.552451     0.497304   0.00    0.0     1.00   \n",
       "one_year         3937.0     0.211328     0.408303   0.00    0.0     0.00   \n",
       "two_year         3937.0     0.236220     0.424813   0.00    0.0     0.00   \n",
       "has_contract     3937.0     0.447549     0.497304   0.00    0.0     0.00   \n",
       "is_male          3937.0     0.513335     0.499886   0.00    0.0     1.00   \n",
       "has_partner      3937.0     0.474981     0.499437   0.00    0.0     0.00   \n",
       "has_dep          3937.0     0.293625     0.455480   0.00    0.0     0.00   \n",
       "tenure_months    3937.0    32.364237    24.627271   1.00    8.0    29.00   \n",
       "has_phone        3937.0     0.903734     0.294993   0.00    1.0     1.00   \n",
       "multi_phone      3937.0     0.422149     0.493965   0.00    0.0     0.00   \n",
       "has_security     3937.0     0.289053     0.453380   0.00    0.0     0.00   \n",
       "has_backup       3937.0     0.343155     0.474823   0.00    0.0     0.00   \n",
       "has_protection   3937.0     0.342901     0.474739   0.00    0.0     0.00   \n",
       "has_support      3937.0     0.291085     0.454320   0.00    0.0     0.00   \n",
       "stream_tv        3937.0     0.376683     0.484616   0.00    0.0     0.00   \n",
       "stream_movies    3937.0     0.384303     0.486492   0.00    0.0     0.00   \n",
       "has_paperless    3937.0     0.593345     0.491272   0.00    0.0     1.00   \n",
       "has_churn        3937.0     0.265685     0.441753   0.00    0.0     0.00   \n",
       "\n",
       "                    75%      max  \n",
       "senior_citizen      0.0     1.00  \n",
       "monthly_charges    89.7   118.35  \n",
       "total_charges    3810.8  8684.80  \n",
       "auto_pay            1.0     1.00  \n",
       "dsl                 1.0     1.00  \n",
       "fiber               1.0     1.00  \n",
       "has_internet        1.0     1.00  \n",
       "m2m                 1.0     1.00  \n",
       "one_year            0.0     1.00  \n",
       "two_year            0.0     1.00  \n",
       "has_contract        1.0     1.00  \n",
       "is_male             1.0     1.00  \n",
       "has_partner         1.0     1.00  \n",
       "has_dep             1.0     1.00  \n",
       "tenure_months      56.0    72.00  \n",
       "has_phone           1.0     1.00  \n",
       "multi_phone         1.0     1.00  \n",
       "has_security        1.0     1.00  \n",
       "has_backup          1.0     1.00  \n",
       "has_protection      1.0     1.00  \n",
       "has_support         1.0     1.00  \n",
       "stream_tv           1.0     1.00  \n",
       "stream_movies       1.0     1.00  \n",
       "has_paperless       1.0     1.00  \n",
       "has_churn           1.0     1.00  "
      ]
     },
     "execution_count": 55,
     "metadata": {},
     "output_type": "execute_result"
    }
   ],
   "source": [
    "# what about the math\n",
    "train.describe().T"
   ]
  },
  {
   "cell_type": "code",
   "execution_count": 56,
   "metadata": {},
   "outputs": [
    {
     "data": {
      "text/plain": [
       "Index(['senior_citizen', 'monthly_charges', 'total_charges', 'auto_pay', 'dsl',\n",
       "       'fiber', 'has_internet', 'm2m', 'one_year', 'two_year', 'has_contract',\n",
       "       'is_male', 'has_partner', 'has_dep', 'tenure_months', 'has_phone',\n",
       "       'multi_phone', 'has_security', 'has_backup', 'has_protection',\n",
       "       'has_support', 'stream_tv', 'stream_movies', 'has_paperless',\n",
       "       'has_churn'],\n",
       "      dtype='object')"
      ]
     },
     "execution_count": 56,
     "metadata": {},
     "output_type": "execute_result"
    }
   ],
   "source": [
    "train.columns"
   ]
  },
  {
   "cell_type": "code",
   "execution_count": 57,
   "metadata": {},
   "outputs": [],
   "source": [
    "# let's get a list of categorical variables...\n",
    "cat_vars = ['senior_citizen', 'auto_pay', 'dsl', 'fiber', 'has_internet', 'm2m', 'one_year',\n",
    "       'two_year', 'has_contract', 'is_male', 'has_partner', 'has_dep', 'has_phone', 'multi_phone', 'has_security',\n",
    "       'has_backup', 'has_protection', 'has_support', 'stream_tv',\n",
    "       'stream_movies', 'has_paperless']"
   ]
  },
  {
   "cell_type": "code",
   "execution_count": 58,
   "metadata": {},
   "outputs": [],
   "source": [
    "quant_vars = ['monthly_charges', 'total_charges', 'tenure_months']"
   ]
  },
  {
   "cell_type": "code",
   "execution_count": 59,
   "metadata": {},
   "outputs": [
    {
     "name": "stdout",
     "output_type": "stream",
     "text": [
      "senior_citizen\n",
      "chi^2 = 114.5890\n",
      "p     = 0.0000\n",
      "--------------------------------\n",
      "auto_pay\n",
      "chi^2 = 164.2553\n",
      "p     = 0.0000\n",
      "--------------------------------\n",
      "dsl\n",
      "chi^2 = 63.2535\n",
      "p     = 0.0000\n",
      "--------------------------------\n",
      "fiber\n",
      "chi^2 = 398.3547\n",
      "p     = 0.0000\n",
      "--------------------------------\n",
      "has_internet\n",
      "chi^2 = 217.2718\n",
      "p     = 0.0000\n",
      "--------------------------------\n",
      "m2m\n",
      "chi^2 = 632.7017\n",
      "p     = 0.0000\n",
      "--------------------------------\n",
      "one_year\n",
      "chi^2 = 131.1002\n",
      "p     = 0.0000\n",
      "--------------------------------\n",
      "two_year\n",
      "chi^2 = 338.5036\n",
      "p     = 0.0000\n",
      "--------------------------------\n",
      "has_contract\n",
      "chi^2 = 632.7017\n",
      "p     = 0.0000\n",
      "--------------------------------\n",
      "is_male\n",
      "chi^2 = 1.9712\n",
      "p     = 0.1603\n",
      "--------------------------------\n",
      "has_partner\n",
      "chi^2 = 68.2426\n",
      "p     = 0.0000\n",
      "--------------------------------\n",
      "has_dep\n",
      "chi^2 = 89.8354\n",
      "p     = 0.0000\n",
      "--------------------------------\n",
      "has_phone\n",
      "chi^2 = 0.0721\n",
      "p     = 0.7884\n",
      "--------------------------------\n",
      "multi_phone\n",
      "chi^2 = 5.4421\n",
      "p     = 0.0197\n",
      "--------------------------------\n",
      "has_security\n",
      "chi^2 = 103.5538\n",
      "p     = 0.0000\n",
      "--------------------------------\n",
      "has_backup\n",
      "chi^2 = 23.9851\n",
      "p     = 0.0000\n",
      "--------------------------------\n",
      "has_protection\n",
      "chi^2 = 14.5461\n",
      "p     = 0.0001\n",
      "--------------------------------\n",
      "has_support\n",
      "chi^2 = 101.7196\n",
      "p     = 0.0000\n",
      "--------------------------------\n",
      "stream_tv\n",
      "chi^2 = 14.7009\n",
      "p     = 0.0001\n",
      "--------------------------------\n",
      "stream_movies\n",
      "chi^2 = 18.8427\n",
      "p     = 0.0000\n",
      "--------------------------------\n",
      "has_paperless\n",
      "chi^2 = 137.8913\n",
      "p     = 0.0000\n",
      "--------------------------------\n"
     ]
    }
   ],
   "source": [
    "# can I make a function to look at chi^2 for all categorical variables against has_churn?\n",
    "for cat in cat_vars:\n",
    "    print(cat)\n",
    "    observed = pd.crosstab(train['has_churn'], train[cat])\n",
    "    chi2, p, degf, expected = stats.chi2_contingency(observed)\n",
    "    print(f'chi^2 = {chi2:.4f}')\n",
    "    print(f'p     = {p:.4f}')\n",
    "    print('--------------------------------')"
   ]
  },
  {
   "cell_type": "code",
   "execution_count": 60,
   "metadata": {},
   "outputs": [],
   "source": [
    "# can I make a function to look at chi^2 for all categorical variables against has_churn?\n",
    "def telco_cat_chi(df):\n",
    "    for cat in cat_vars:\n",
    "        print(cat)\n",
    "        observed = pd.crosstab(train['has_churn'], train[cat])\n",
    "        chi2, p, degf, expected = stats.chi2_contingency(observed)\n",
    "        print(f'chi^2 = {chi2:.4f}')\n",
    "        print(f'p     = {p:.4f}')\n",
    "        print('--------------------------------')"
   ]
  },
  {
   "cell_type": "code",
   "execution_count": 61,
   "metadata": {},
   "outputs": [
    {
     "name": "stdout",
     "output_type": "stream",
     "text": [
      "senior_citizen\n",
      "chi^2 = 114.5890\n",
      "p     = 0.0000\n",
      "--------------------------------\n",
      "auto_pay\n",
      "chi^2 = 164.2553\n",
      "p     = 0.0000\n",
      "--------------------------------\n",
      "dsl\n",
      "chi^2 = 63.2535\n",
      "p     = 0.0000\n",
      "--------------------------------\n",
      "fiber\n",
      "chi^2 = 398.3547\n",
      "p     = 0.0000\n",
      "--------------------------------\n",
      "has_internet\n",
      "chi^2 = 217.2718\n",
      "p     = 0.0000\n",
      "--------------------------------\n",
      "m2m\n",
      "chi^2 = 632.7017\n",
      "p     = 0.0000\n",
      "--------------------------------\n",
      "one_year\n",
      "chi^2 = 131.1002\n",
      "p     = 0.0000\n",
      "--------------------------------\n",
      "two_year\n",
      "chi^2 = 338.5036\n",
      "p     = 0.0000\n",
      "--------------------------------\n",
      "has_contract\n",
      "chi^2 = 632.7017\n",
      "p     = 0.0000\n",
      "--------------------------------\n",
      "is_male\n",
      "chi^2 = 1.9712\n",
      "p     = 0.1603\n",
      "--------------------------------\n",
      "has_partner\n",
      "chi^2 = 68.2426\n",
      "p     = 0.0000\n",
      "--------------------------------\n",
      "has_dep\n",
      "chi^2 = 89.8354\n",
      "p     = 0.0000\n",
      "--------------------------------\n",
      "has_phone\n",
      "chi^2 = 0.0721\n",
      "p     = 0.7884\n",
      "--------------------------------\n",
      "multi_phone\n",
      "chi^2 = 5.4421\n",
      "p     = 0.0197\n",
      "--------------------------------\n",
      "has_security\n",
      "chi^2 = 103.5538\n",
      "p     = 0.0000\n",
      "--------------------------------\n",
      "has_backup\n",
      "chi^2 = 23.9851\n",
      "p     = 0.0000\n",
      "--------------------------------\n",
      "has_protection\n",
      "chi^2 = 14.5461\n",
      "p     = 0.0001\n",
      "--------------------------------\n",
      "has_support\n",
      "chi^2 = 101.7196\n",
      "p     = 0.0000\n",
      "--------------------------------\n",
      "stream_tv\n",
      "chi^2 = 14.7009\n",
      "p     = 0.0001\n",
      "--------------------------------\n",
      "stream_movies\n",
      "chi^2 = 18.8427\n",
      "p     = 0.0000\n",
      "--------------------------------\n",
      "has_paperless\n",
      "chi^2 = 137.8913\n",
      "p     = 0.0000\n",
      "--------------------------------\n"
     ]
    }
   ],
   "source": [
    "telco_cat_chi(train)"
   ]
  },
  {
   "cell_type": "code",
   "execution_count": 62,
   "metadata": {},
   "outputs": [],
   "source": [
    "# now let's do ttests of continuous variables against has_churn\n",
    "def telco_quant_ttest(df):\n",
    "    for quant in quant_vars:\n",
    "        churn_rate = df['has_churn'].mean()\n",
    "        alpha = 0.01\n",
    "        t, p = stats.ttest_1samp(df[quant], churn_rate)\n",
    "        print(quant)\n",
    "        print('tscore:', t.round(2))\n",
    "        print('p/2:   ', p/2)\n",
    "        print('alpha: ', alpha)\n",
    "        print('-------------------------------------')"
   ]
  },
  {
   "cell_type": "code",
   "execution_count": 63,
   "metadata": {},
   "outputs": [
    {
     "name": "stdout",
     "output_type": "stream",
     "text": [
      "monthly_charges\n",
      "tscore: 134.83\n",
      "p/2:    0.0\n",
      "alpha:  0.01\n",
      "-------------------------------------\n",
      "total_charges\n",
      "tscore: 63.19\n",
      "p/2:    0.0\n",
      "alpha:  0.01\n",
      "-------------------------------------\n",
      "tenure_months\n",
      "tscore: 81.78\n",
      "p/2:    0.0\n",
      "alpha:  0.01\n",
      "-------------------------------------\n"
     ]
    }
   ],
   "source": [
    "telco_quant_ttest(train)"
   ]
  },
  {
   "cell_type": "code",
   "execution_count": 64,
   "metadata": {},
   "outputs": [],
   "source": [
    "# let's visualize some of this\n",
    "\n",
    "def telco_melt(df):\n",
    "    '''\n",
    "    This function will take in the cleaned/prepped/split telco_train and return a melted\n",
    "    dataframe of all numerical/continuous variables\n",
    "    '''\n",
    "#     melts the data into 3 cols (has_churn, measurement, value)\n",
    "# has_churn=[1,0]\n",
    "# measurement=['monthly_charges', 'tenure_months']\n",
    "# value = specific numerical value of each measurement\n",
    "    df = df[['has_churn', 'monthly_charges', 'tenure_months']].melt(id_vars = ['has_churn'],\n",
    "                         var_name = 'measurement',\n",
    "                         value_name = 'value')\n",
    "    return df"
   ]
  },
  {
   "cell_type": "code",
   "execution_count": 65,
   "metadata": {},
   "outputs": [],
   "source": [
    "telco_quant_melt = telco_melt(train)"
   ]
  },
  {
   "cell_type": "code",
   "execution_count": 66,
   "metadata": {},
   "outputs": [],
   "source": [
    "# ok, I have my melt, now can I swarmplot?\n",
    "\n",
    "def telco_swarm(df):\n",
    "    '''\n",
    "    takes in my melted telco_train df and returns a swarm plot of all numerical/\n",
    "    continuous variables on the x-axis, with the value on the y-axis, and\n",
    "    includes a color hue to distinguish between churn vs no churn\n",
    "    '''\n",
    "    plt.figure(figsize=(8,6))\n",
    "    p = sns.stripplot(\n",
    "    x='measurement',\n",
    "    y='value',\n",
    "    hue='has_churn',\n",
    "    data=df,\n",
    "    )\n",
    "    p.set(xlabel='')\n",
    "    return plt.show()\n"
   ]
  },
  {
   "cell_type": "code",
   "execution_count": 67,
   "metadata": {},
   "outputs": [
    {
     "data": {
      "image/png": "[encoded data removed]",
      "text/plain": [
       "<Figure size 576x432 with 1 Axes>"
      ]
     },
     "metadata": {
      "needs_background": "light"
     },
     "output_type": "display_data"
    }
   ],
   "source": [
    "telco_swarm(telco_quant_melt)"
   ]
  },
  {
   "cell_type": "code",
   "execution_count": 68,
   "metadata": {},
   "outputs": [
    {
     "data": {
      "text/plain": [
       "<AxesSubplot:>"
      ]
     },
     "execution_count": 68,
     "metadata": {},
     "output_type": "execute_result"
    },
    {
     "data": {
      "image/png": "[encoded data removed]",
      "text/plain": [
       "<Figure size 432x288 with 2 Axes>"
      ]
     },
     "metadata": {
      "needs_background": "light"
     },
     "output_type": "display_data"
    }
   ],
   "source": [
    "sns.heatmap(train.corr(), cmap='mako', center=0, linewidth= 1, linecolor= 'k', annot= True, fmt='.2f', )"
   ]
  },
  {
   "cell_type": "code",
   "execution_count": 69,
   "metadata": {},
   "outputs": [],
   "source": [
    "features_1 = ['senior_citizen', 'auto_pay', 'dsl', 'fiber', 'has_internet', 'm2m', 'has_churn']"
   ]
  },
  {
   "cell_type": "code",
   "execution_count": 70,
   "metadata": {},
   "outputs": [
    {
     "data": {
      "text/plain": [
       "<seaborn.axisgrid.PairGrid at 0x7fdcf031fe80>"
      ]
     },
     "execution_count": 70,
     "metadata": {},
     "output_type": "execute_result"
    },
    {
     "data": {
      "image/png": "[encoded data removed]",
      "text/plain": [
       "<Figure size 1139.38x1080 with 27 Axes>"
      ]
     },
     "metadata": {
      "needs_background": "light"
     },
     "output_type": "display_data"
    }
   ],
   "source": [
    "sns.pairplot(train[features_1], hue='has_churn', corner=True)"
   ]
  },
  {
   "cell_type": "code",
   "execution_count": null,
   "metadata": {},
   "outputs": [],
   "source": []
  },
  {
   "cell_type": "code",
   "execution_count": null,
   "metadata": {},
   "outputs": [],
   "source": []
  },
  {
   "cell_type": "code",
   "execution_count": null,
   "metadata": {},
   "outputs": [],
   "source": []
  },
  {
   "cell_type": "code",
   "execution_count": null,
   "metadata": {},
   "outputs": [],
   "source": []
  },
  {
   "cell_type": "code",
   "execution_count": null,
   "metadata": {},
   "outputs": [],
   "source": []
  },
  {
   "cell_type": "code",
   "execution_count": null,
   "metadata": {},
   "outputs": [],
   "source": []
  },
  {
   "cell_type": "code",
   "execution_count": null,
   "metadata": {},
   "outputs": [],
   "source": []
  },
  {
   "cell_type": "code",
   "execution_count": null,
   "metadata": {},
   "outputs": [],
   "source": []
  },
  {
   "cell_type": "code",
   "execution_count": null,
   "metadata": {},
   "outputs": [],
   "source": []
  },
  {
   "cell_type": "code",
   "execution_count": null,
   "metadata": {},
   "outputs": [],
   "source": []
  },
  {
   "cell_type": "markdown",
   "metadata": {},
   "source": [
    "# Model Building"
   ]
  },
  {
   "cell_type": "markdown",
   "metadata": {},
   "source": [
    "- Positive: Churn\n",
    "- Negative: No Churn\n",
    "- True Positive: Model predicts churn, and there actually was churn\n",
    "- True Negative: Model predicts no churn, and there actually was no churn\n",
    "- False Positive: Model predicts churn, when in fact there was no churn\n",
    "- False Negative: Model predicts no churn, when in fact customer churned"
   ]
  },
  {
   "cell_type": "code",
   "execution_count": 71,
   "metadata": {},
   "outputs": [
    {
     "name": "stdout",
     "output_type": "stream",
     "text": [
      "Baseline accuracy: 0.7343\n"
     ]
    }
   ],
   "source": [
    "# first let's get a baseline...\n",
    "X_train, y_train = train.drop(columns='has_churn'), train['has_churn']\n",
    "# 1. Create the object\n",
    "baseline = DummyClassifier(strategy='constant', constant=0)\n",
    "# 2. Fit the object\n",
    "baseline.fit(X_train, y_train)\n",
    "# how does it do on training data set?\n",
    "print('Baseline accuracy: %.4f' % baseline.score(X_train, y_train))"
   ]
  },
  {
   "cell_type": "code",
   "execution_count": 72,
   "metadata": {},
   "outputs": [
    {
     "data": {
      "text/plain": [
       "0.7896875793751588"
      ]
     },
     "execution_count": 72,
     "metadata": {},
     "output_type": "execute_result"
    }
   ],
   "source": [
    "# now let's see a decision tree with all variables...\n",
    "tree_1 = DecisionTreeClassifier(max_depth=3)\n",
    "tree_1.fit(X_train, y_train)\n",
    "tree_1.score(X_train,y_train)"
   ]
  },
  {
   "cell_type": "code",
   "execution_count": 78,
   "metadata": {},
   "outputs": [],
   "source": [
    "# how about random forest...\n",
    "rf_1 = RandomForestClassifier(bootstrap=True, \n",
    "                            class_weight=None, \n",
    "                            criterion='gini',\n",
    "                            min_samples_leaf=3,\n",
    "                            n_estimators=100,\n",
    "                            max_depth=8, \n",
    "                            random_state=1221)"
   ]
  },
  {
   "cell_type": "code",
   "execution_count": 79,
   "metadata": {},
   "outputs": [
    {
     "name": "stdout",
     "output_type": "stream",
     "text": [
      "\n",
      "       Overall Accuracy:  78.97%\n",
      "\n",
      "     True Positive Rate:  38.53%  \n",
      "     True Negative Rate:  93.60%   \n",
      "    False Positive Rate:  6.40%\n",
      "    False Negative Rate:  61.47%\n",
      "\n",
      "    ---------------------------------------------------\n",
      "    \n",
      "\n",
      "    Positive =  'Churn'\n",
      "\n",
      "    Confusion Matrix:\n",
      "    \n"
     ]
    },
    {
     "data": {
      "text/html": [
       "<div>\n",
       "<style scoped>\n",
       "    .dataframe tbody tr th:only-of-type {\n",
       "        vertical-align: middle;\n",
       "    }\n",
       "\n",
       "    .dataframe tbody tr th {\n",
       "        vertical-align: top;\n",
       "    }\n",
       "\n",
       "    .dataframe thead th {\n",
       "        text-align: right;\n",
       "    }\n",
       "</style>\n",
       "<table border=\"1\" class=\"dataframe\">\n",
       "  <thead>\n",
       "    <tr style=\"text-align: right;\">\n",
       "      <th></th>\n",
       "      <th>pred_no_churn</th>\n",
       "      <th>pred_churn</th>\n",
       "    </tr>\n",
       "  </thead>\n",
       "  <tbody>\n",
       "    <tr>\n",
       "      <th>actual_no_churn</th>\n",
       "      <td>TN: 2706</td>\n",
       "      <td>FP: 185</td>\n",
       "    </tr>\n",
       "    <tr>\n",
       "      <th>actual_churn</th>\n",
       "      <td>FN: 643</td>\n",
       "      <td>TP: 403</td>\n",
       "    </tr>\n",
       "  </tbody>\n",
       "</table>\n",
       "</div>"
      ],
      "text/plain": [
       "                pred_no_churn pred_churn\n",
       "actual_no_churn      TN: 2706    FP: 185\n",
       "actual_churn          FN: 643    TP: 403"
      ]
     },
     "metadata": {},
     "output_type": "display_data"
    },
    {
     "name": "stdout",
     "output_type": "stream",
     "text": [
      "\n",
      "\n",
      "    \n",
      "    ---------------------------------------------------\n",
      "    Classification Report:\n",
      "    \n"
     ]
    },
    {
     "data": {
      "text/html": [
       "<div>\n",
       "<style scoped>\n",
       "    .dataframe tbody tr th:only-of-type {\n",
       "        vertical-align: middle;\n",
       "    }\n",
       "\n",
       "    .dataframe tbody tr th {\n",
       "        vertical-align: top;\n",
       "    }\n",
       "\n",
       "    .dataframe thead th {\n",
       "        text-align: right;\n",
       "    }\n",
       "</style>\n",
       "<table border=\"1\" class=\"dataframe\">\n",
       "  <thead>\n",
       "    <tr style=\"text-align: right;\">\n",
       "      <th></th>\n",
       "      <th>precision</th>\n",
       "      <th>recall</th>\n",
       "      <th>f1-score</th>\n",
       "      <th>support</th>\n",
       "    </tr>\n",
       "  </thead>\n",
       "  <tbody>\n",
       "    <tr>\n",
       "      <th>no_churn</th>\n",
       "      <td>0.808002</td>\n",
       "      <td>0.936008</td>\n",
       "      <td>0.867308</td>\n",
       "      <td>2891.000000</td>\n",
       "    </tr>\n",
       "    <tr>\n",
       "      <th>churn</th>\n",
       "      <td>0.685374</td>\n",
       "      <td>0.385277</td>\n",
       "      <td>0.493268</td>\n",
       "      <td>1046.000000</td>\n",
       "    </tr>\n",
       "    <tr>\n",
       "      <th>accuracy</th>\n",
       "      <td>0.789688</td>\n",
       "      <td>0.789688</td>\n",
       "      <td>0.789688</td>\n",
       "      <td>0.789688</td>\n",
       "    </tr>\n",
       "    <tr>\n",
       "      <th>macro avg</th>\n",
       "      <td>0.746688</td>\n",
       "      <td>0.660643</td>\n",
       "      <td>0.680288</td>\n",
       "      <td>3937.000000</td>\n",
       "    </tr>\n",
       "    <tr>\n",
       "      <th>weighted avg</th>\n",
       "      <td>0.775422</td>\n",
       "      <td>0.789688</td>\n",
       "      <td>0.767931</td>\n",
       "      <td>3937.000000</td>\n",
       "    </tr>\n",
       "  </tbody>\n",
       "</table>\n",
       "</div>"
      ],
      "text/plain": [
       "              precision    recall  f1-score      support\n",
       "no_churn       0.808002  0.936008  0.867308  2891.000000\n",
       "churn          0.685374  0.385277  0.493268  1046.000000\n",
       "accuracy       0.789688  0.789688  0.789688     0.789688\n",
       "macro avg      0.746688  0.660643  0.680288  3937.000000\n",
       "weighted avg   0.775422  0.789688  0.767931  3937.000000"
      ]
     },
     "metadata": {},
     "output_type": "display_data"
    }
   ],
   "source": [
    "mf.model_performs(X_train, y_train, tree_1)"
   ]
  },
  {
   "cell_type": "code",
   "execution_count": 80,
   "metadata": {},
   "outputs": [
    {
     "name": "stdout",
     "output_type": "stream",
     "text": [
      "Accuracy of random forest classifier on training set: 0.83\n"
     ]
    }
   ],
   "source": [
    "rf_1.fit(X_train, y_train)\n",
    "y_pred = rf_1.predict(X_train)\n",
    "y_pred_proba = rf_1.predict_proba(X_train)\n",
    "print('Accuracy of random forest classifier on training set: {:.2f}'\n",
    "     .format(rf_1.score(X_train, y_train)))"
   ]
  },
  {
   "cell_type": "code",
   "execution_count": 81,
   "metadata": {},
   "outputs": [
    {
     "data": {
      "text/plain": [
       "senior_citizen     0.015657\n",
       "monthly_charges    0.113918\n",
       "total_charges      0.137835\n",
       "auto_pay           0.018713\n",
       "dsl                0.023098\n",
       "fiber              0.092914\n",
       "has_internet       0.039954\n",
       "m2m                0.093522\n",
       "one_year           0.020425\n",
       "two_year           0.033257\n",
       "has_contract       0.110056\n",
       "is_male            0.009606\n",
       "has_partner        0.008435\n",
       "has_dep            0.007866\n",
       "tenure_months      0.156583\n",
       "has_phone          0.006890\n",
       "multi_phone        0.011148\n",
       "has_security       0.014502\n",
       "has_backup         0.010793\n",
       "has_protection     0.008267\n",
       "has_support        0.015222\n",
       "stream_tv          0.013728\n",
       "stream_movies      0.013700\n",
       "has_paperless      0.023909\n",
       "dtype: float64"
      ]
     },
     "execution_count": 81,
     "metadata": {},
     "output_type": "execute_result"
    }
   ],
   "source": [
    "pd.Series(dict(zip(X_train.columns, rf_1.feature_importances_)))"
   ]
  },
  {
   "cell_type": "code",
   "execution_count": 82,
   "metadata": {},
   "outputs": [
    {
     "name": "stdout",
     "output_type": "stream",
     "text": [
      "\n",
      "       Overall Accuracy:  83.39%\n",
      "\n",
      "     True Positive Rate:  58.13%  \n",
      "     True Negative Rate:  92.53%   \n",
      "    False Positive Rate:  7.47%\n",
      "    False Negative Rate:  41.87%\n",
      "\n",
      "    ---------------------------------------------------\n",
      "    \n",
      "\n",
      "    Positive =  'Churn'\n",
      "\n",
      "    Confusion Matrix:\n",
      "    \n"
     ]
    },
    {
     "data": {
      "text/html": [
       "<div>\n",
       "<style scoped>\n",
       "    .dataframe tbody tr th:only-of-type {\n",
       "        vertical-align: middle;\n",
       "    }\n",
       "\n",
       "    .dataframe tbody tr th {\n",
       "        vertical-align: top;\n",
       "    }\n",
       "\n",
       "    .dataframe thead th {\n",
       "        text-align: right;\n",
       "    }\n",
       "</style>\n",
       "<table border=\"1\" class=\"dataframe\">\n",
       "  <thead>\n",
       "    <tr style=\"text-align: right;\">\n",
       "      <th></th>\n",
       "      <th>pred_no_churn</th>\n",
       "      <th>pred_churn</th>\n",
       "    </tr>\n",
       "  </thead>\n",
       "  <tbody>\n",
       "    <tr>\n",
       "      <th>actual_no_churn</th>\n",
       "      <td>TN: 2675</td>\n",
       "      <td>FP: 216</td>\n",
       "    </tr>\n",
       "    <tr>\n",
       "      <th>actual_churn</th>\n",
       "      <td>FN: 438</td>\n",
       "      <td>TP: 608</td>\n",
       "    </tr>\n",
       "  </tbody>\n",
       "</table>\n",
       "</div>"
      ],
      "text/plain": [
       "                pred_no_churn pred_churn\n",
       "actual_no_churn      TN: 2675    FP: 216\n",
       "actual_churn          FN: 438    TP: 608"
      ]
     },
     "metadata": {},
     "output_type": "display_data"
    },
    {
     "name": "stdout",
     "output_type": "stream",
     "text": [
      "\n",
      "\n",
      "    \n",
      "    ---------------------------------------------------\n",
      "    Classification Report:\n",
      "    \n"
     ]
    },
    {
     "data": {
      "text/html": [
       "<div>\n",
       "<style scoped>\n",
       "    .dataframe tbody tr th:only-of-type {\n",
       "        vertical-align: middle;\n",
       "    }\n",
       "\n",
       "    .dataframe tbody tr th {\n",
       "        vertical-align: top;\n",
       "    }\n",
       "\n",
       "    .dataframe thead th {\n",
       "        text-align: right;\n",
       "    }\n",
       "</style>\n",
       "<table border=\"1\" class=\"dataframe\">\n",
       "  <thead>\n",
       "    <tr style=\"text-align: right;\">\n",
       "      <th></th>\n",
       "      <th>precision</th>\n",
       "      <th>recall</th>\n",
       "      <th>f1-score</th>\n",
       "      <th>support</th>\n",
       "    </tr>\n",
       "  </thead>\n",
       "  <tbody>\n",
       "    <tr>\n",
       "      <th>no_churn</th>\n",
       "      <td>0.859300</td>\n",
       "      <td>0.925285</td>\n",
       "      <td>0.891073</td>\n",
       "      <td>2891.000000</td>\n",
       "    </tr>\n",
       "    <tr>\n",
       "      <th>churn</th>\n",
       "      <td>0.737864</td>\n",
       "      <td>0.581262</td>\n",
       "      <td>0.650267</td>\n",
       "      <td>1046.000000</td>\n",
       "    </tr>\n",
       "    <tr>\n",
       "      <th>accuracy</th>\n",
       "      <td>0.833884</td>\n",
       "      <td>0.833884</td>\n",
       "      <td>0.833884</td>\n",
       "      <td>0.833884</td>\n",
       "    </tr>\n",
       "    <tr>\n",
       "      <th>macro avg</th>\n",
       "      <td>0.798582</td>\n",
       "      <td>0.753274</td>\n",
       "      <td>0.770670</td>\n",
       "      <td>3937.000000</td>\n",
       "    </tr>\n",
       "    <tr>\n",
       "      <th>weighted avg</th>\n",
       "      <td>0.827036</td>\n",
       "      <td>0.833884</td>\n",
       "      <td>0.827094</td>\n",
       "      <td>3937.000000</td>\n",
       "    </tr>\n",
       "  </tbody>\n",
       "</table>\n",
       "</div>"
      ],
      "text/plain": [
       "              precision    recall  f1-score      support\n",
       "no_churn       0.859300  0.925285  0.891073  2891.000000\n",
       "churn          0.737864  0.581262  0.650267  1046.000000\n",
       "accuracy       0.833884  0.833884  0.833884     0.833884\n",
       "macro avg      0.798582  0.753274  0.770670  3937.000000\n",
       "weighted avg   0.827036  0.833884  0.827094  3937.000000"
      ]
     },
     "metadata": {},
     "output_type": "display_data"
    }
   ],
   "source": [
    "mf.model_performs(X_train, y_train, rf_1)"
   ]
  },
  {
   "cell_type": "code",
   "execution_count": null,
   "metadata": {},
   "outputs": [],
   "source": []
  },
  {
   "cell_type": "code",
   "execution_count": 84,
   "metadata": {},
   "outputs": [
    {
     "name": "stdout",
     "output_type": "stream",
     "text": [
      "The best features are:['monthly_charges', 'total_charges', 'm2m', 'has_contract', 'tenure_months']\n"
     ]
    }
   ],
   "source": [
    "# how does this code help with deciding which features to use...\n",
    "features = SelectKBest(chi2, k=5).fit(X_train, y_train)\n",
    "mask = features.get_support() #list of booleans for selected features\n",
    "new_feat = [] \n",
    "for bool, feature in zip(mask, X_train.columns):\n",
    "     if bool:\n",
    "        new_feat.append(feature)\n",
    "print(f'The best features are:{new_feat}') # The list of your 5 best features"
   ]
  },
  {
   "cell_type": "code",
   "execution_count": 121,
   "metadata": {},
   "outputs": [
    {
     "name": "stdout",
     "output_type": "stream",
     "text": [
      "training score: 78.87%\n",
      "validate score: 79.09%\n"
     ]
    }
   ],
   "source": [
    "# now let's see how that changes my models...\n",
    "top_5 = ['monthly_charges', 'total_charges', 'm2m', 'has_contract', 'tenure_months']\n",
    "X_train, y_train = train[top_5], train['has_churn']\n",
    "X_validate, y_validate = validate[top_5], validate['has_churn']\n",
    "tree_2 = DecisionTreeClassifier(max_depth=4)\n",
    "tree_2.fit(X_train, y_train)\n",
    "print(f'training score: {tree_2.score(X_train, y_train):.2%}')\n",
    "print(f'validate score: {tree_2.score(X_validate, y_validate):.2%}')"
   ]
  },
  {
   "cell_type": "code",
   "execution_count": 119,
   "metadata": {},
   "outputs": [],
   "source": [
    "rf_2 = RandomForestClassifier(bootstrap=True, \n",
    "                            class_weight=None, \n",
    "                            criterion='gini',\n",
    "                            min_samples_leaf=4,\n",
    "                            n_estimators=100,\n",
    "                            max_depth=6, \n",
    "                            random_state=1221)"
   ]
  },
  {
   "cell_type": "code",
   "execution_count": 120,
   "metadata": {},
   "outputs": [
    {
     "name": "stdout",
     "output_type": "stream",
     "text": [
      "training score: 80.77%\n",
      "validate score: 79.56%\n"
     ]
    }
   ],
   "source": [
    "rf_2.fit(X_train, y_train)\n",
    "print(f'training score: {rf_2.score(X_train, y_train):.2%}')\n",
    "print(f'validate score: {rf_2.score(X_validate, y_validate):.2%}')"
   ]
  },
  {
   "cell_type": "code",
   "execution_count": 109,
   "metadata": {},
   "outputs": [
    {
     "name": "stdout",
     "output_type": "stream",
     "text": [
      "training score: 98.86%\n",
      "validate score: 71.33%\n"
     ]
    }
   ],
   "source": [
    "# what about knn...\n",
    "knn_1 = KNeighborsClassifier(n_neighbors=1)\n",
    "knn_1.fit(X_train, y_train)\n",
    "print(f'training score: {knn_1.score(X_train, y_train):.2%}')\n",
    "print(f'validate score: {knn_1.score(X_validate, y_validate):.2%}')"
   ]
  },
  {
   "cell_type": "code",
   "execution_count": 110,
   "metadata": {},
   "outputs": [
    {
     "name": "stdout",
     "output_type": "stream",
     "text": [
      "training score: 85.73%\n",
      "validate score: 74.29%\n"
     ]
    }
   ],
   "source": [
    "knn_3 = KNeighborsClassifier(n_neighbors=3)\n",
    "knn_3.fit(X_train, y_train)\n",
    "print(f'training score: {knn_3.score(X_train, y_train):.2%}')\n",
    "print(f'validate score: {knn_3.score(X_validate, y_validate):.2%}')"
   ]
  },
  {
   "cell_type": "code",
   "execution_count": 114,
   "metadata": {},
   "outputs": [
    {
     "name": "stdout",
     "output_type": "stream",
     "text": [
      "training score: 82.65%\n",
      "validate score: 76.90%\n"
     ]
    }
   ],
   "source": [
    "knn_5 = KNeighborsClassifier(n_neighbors=5)\n",
    "knn_5.fit(X_train, y_train)\n",
    "print(f'training score: {knn_5.score(X_train, y_train):.2%}')\n",
    "print(f'validate score: {knn_5.score(X_validate, y_validate):.2%}')"
   ]
  },
  {
   "cell_type": "code",
   "execution_count": 115,
   "metadata": {},
   "outputs": [
    {
     "name": "stdout",
     "output_type": "stream",
     "text": [
      "training score: 80.11%\n",
      "validate score: 78.73%\n"
     ]
    }
   ],
   "source": [
    "knn_10 = KNeighborsClassifier(n_neighbors=10)\n",
    "knn_10.fit(X_train, y_train)\n",
    "print(f'training score: {knn_10.score(X_train, y_train):.2%}')\n",
    "print(f'validate score: {knn_10.score(X_validate, y_validate):.2%}')"
   ]
  },
  {
   "cell_type": "code",
   "execution_count": 123,
   "metadata": {},
   "outputs": [
    {
     "name": "stdout",
     "output_type": "stream",
     "text": [
      "training score: 78.41%\n",
      "validate score: 79.27%\n"
     ]
    }
   ],
   "source": [
    "top_3 = ['monthly_charges', 'total_charges', 'm2m']\n",
    "X_train, y_train = train[top_3], train['has_churn']\n",
    "X_validate, y_validate = validate[top_3], validate['has_churn']\n",
    "tree_3 = DecisionTreeClassifier(max_depth=3)\n",
    "tree_3.fit(X_train, y_train)\n",
    "print(f'training score: {tree_3.score(X_train, y_train):.2%}')\n",
    "print(f'validate score: {tree_3.score(X_validate, y_validate):.2%}')"
   ]
  },
  {
   "cell_type": "code",
   "execution_count": null,
   "metadata": {},
   "outputs": [],
   "source": []
  }
 ],
 "metadata": {
  "kernelspec": {
   "display_name": "Python 3.8.5 64-bit ('base': conda)",
   "language": "python",
   "name": "python385jvsc74a57bd0b64057e63add2b45b1ffc7eab9b09c8889b419c878e2fdf0d08f837f0fc857a7"
  },
  "language_info": {
   "codemirror_mode": {
    "name": "ipython",
    "version": 3
   },
   "file_extension": ".py",
   "mimetype": "text/x-python",
   "name": "python",
   "nbconvert_exporter": "python",
   "pygments_lexer": "ipython3",
   "version": "3.8.5"
  }
 },
 "nbformat": 4,
 "nbformat_minor": 4
}
