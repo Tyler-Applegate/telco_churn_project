{
 "cells": [
  {
   "cell_type": "markdown",
   "metadata": {},
   "source": [
    "# Acquire Notebook"
   ]
  },
  {
   "cell_type": "markdown",
   "metadata": {},
   "source": [
    "##### This is where I am writing, and testing my acquire functions for my telco churn classification project"
   ]
  },
  {
   "cell_type": "code",
   "execution_count": 2,
   "metadata": {},
   "outputs": [],
   "source": [
    "# general imports (from big libraries)\n",
    "import pandas as pd\n",
    "import numpy as np\n",
    "import os"
   ]
  },
  {
   "cell_type": "code",
   "execution_count": 3,
   "metadata": {},
   "outputs": [],
   "source": [
    "# my specific imports\n",
    "# this brings in my login credentials to the Codeup database\n",
    "from env import host, user, password"
   ]
  },
  {
   "cell_type": "code",
   "execution_count": 4,
   "metadata": {},
   "outputs": [],
   "source": [
    "# sets up a secure connection to the Codeup db using my login info\n",
    "def get_connection(db, user=user, host=host, password=password):\n",
    "    '''\n",
    "    This function uses my env file to create a connection url to access\n",
    "    the Codeup database.\n",
    "    '''\n",
    "    return f'mysql+pymysql://{user}:{password}@{host}/{db}'"
   ]
  },
  {
   "cell_type": "code",
   "execution_count": 5,
   "metadata": {},
   "outputs": [],
   "source": [
    "# This function will connect with the Codeup database to join all tables in the telco db\n",
    "# to return a pandas DataFrame\n",
    "def new_telco_data():\n",
    "    '''\n",
    "    This function joins the 'customers', 'contract_types', 'internet_service_types', \n",
    "    and 'payment_types' tables from the telco_churn db\n",
    "    and return a pandas DataFrame with all columns/values from all tables.\n",
    "    '''\n",
    "    sql_query = '''SELECT * \n",
    "                    FROM customers\n",
    "                    JOIN contract_types USING(contract_type_id)\n",
    "                    JOIN internet_service_types USING(internet_service_type_id)\n",
    "                    JOIN payment_types USING(payment_type_id)'''\n",
    "    return pd.read_sql(sql_query, get_connection('telco_churn'))"
   ]
  },
  {
   "cell_type": "code",
   "execution_count": 6,
   "metadata": {},
   "outputs": [],
   "source": [
    "# This function plays on top of new_telco_data by 1st looking to see if there is a .csv of the telco Dataframe, and\n",
    "# creating one if there is not. This optomizes performance/runtime, by only needing to connect to the server 1 time\n",
    "# and then using a local .csv thereafter\n",
    "def get_telco_data():\n",
    "    '''\n",
    "    This function reads in Telco data from Codeup database, writes data to\n",
    "    a csv file if a local file does not exist, and returns a df.\n",
    "    '''\n",
    "    if os.path.isfile('telco_df.csv'):\n",
    "        \n",
    "        # If csv file exists read in data from csv file.\n",
    "        df = pd.read_csv('telco_df.csv', index_col=0)\n",
    "        \n",
    "    else:\n",
    "        \n",
    "        # Read fresh data from db into a DataFrame\n",
    "        df = new_telco_data()\n",
    "        \n",
    "        # Cache data\n",
    "        df.to_csv('telco_df.csv')\n",
    "        \n",
    "    return df"
   ]
  },
  {
   "cell_type": "code",
   "execution_count": 7,
   "metadata": {},
   "outputs": [],
   "source": [
    "def overview(df):\n",
    "    '''\n",
    "    This function returns the shape and info of the df. It also includes a breakdown of the number of unique values\n",
    "    in each column to determine which are categorical/discrete, and which are numerical/continuous. Finally, it returns\n",
    "    a breakdown of the statistics on all numerica columns.\n",
    "    '''\n",
    "    print(f'This dataframe has {df.shape[0]} rows and {df.shape[1]} columns.')\n",
    "    print('----------------------------------')\n",
    "    print('')\n",
    "    print(df.info())\n",
    "    print('----------------------------------')\n",
    "    print('')\n",
    "    print('Unique value counts of each column')\n",
    "    print('')\n",
    "    print(df.nunique())\n",
    "    print('----------------------------------')\n",
    "    print('')\n",
    "    print('Stats on Numeric Columns')\n",
    "    print('')\n",
    "    print(df.describe())"
   ]
  },
  {
   "cell_type": "markdown",
   "metadata": {},
   "source": [
    "### Key Findings and Takeaways:\n",
    "- Always remember to push up the .gitignore first, to keep login credentials private/secure\n",
    "- The get_connection function will work for any database in the Codeup database (IF you have login credentials.)\n",
    "    - If you do not, this function can be adjusted to work with whatever database you do have credentials for\n",
    "- The new_telco_data function is great for this project, and can be tweaked to work for others...\n",
    "    - Always test of the sql_query in Sequal Ace first!!!!!\n",
    "    - This query can be as simple of complex as you need it to be\n",
    "- The get_telco_data function is a wonderful time saver / effeciency optimisor\n",
    "    - The function will first look to see if there is a .csv of the db stored locally, and open it if available\n",
    "    - If not, it will run the new_telco_data function to acquire the telco_churn, and store it to the local\n",
    "- The overview function is a great way to get a bird's eye view of the dataset\n",
    "- This dataset is 7043 rows, by 24 columns.\n",
    "- At first glance, there do not appear to be any missing values."
   ]
  },
  {
   "cell_type": "code",
   "execution_count": null,
   "metadata": {},
   "outputs": [],
   "source": []
  }
 ],
 "metadata": {
  "kernelspec": {
   "display_name": "Python 3.8.5 64-bit ('base': conda)",
   "language": "python",
   "name": "python385jvsc74a57bd0b64057e63add2b45b1ffc7eab9b09c8889b419c878e2fdf0d08f837f0fc857a7"
  },
  "language_info": {
   "codemirror_mode": {
    "name": "ipython",
    "version": 3
   },
   "file_extension": ".py",
   "mimetype": "text/x-python",
   "name": "python",
   "nbconvert_exporter": "python",
   "pygments_lexer": "ipython3",
   "version": "3.8.5"
  }
 },
 "nbformat": 4,
 "nbformat_minor": 4
}
