{
 "cells": [
  {
   "cell_type": "markdown",
   "metadata": {},
   "source": [
    "# Prepare Notebook"
   ]
  },
  {
   "cell_type": "markdown",
   "metadata": {},
   "source": [
    "##### This is where I am writing, and testing my prepare functions for my telco churn classification project"
   ]
  },
  {
   "cell_type": "code",
   "execution_count": 1,
   "metadata": {},
   "outputs": [],
   "source": [
    "# general imports (from big libraries)\n",
    "import pandas as pd\n",
    "import numpy as np\n",
    "import os"
   ]
  },
  {
   "cell_type": "code",
   "execution_count": 2,
   "metadata": {},
   "outputs": [],
   "source": [
    "# imports specific to prepare\n",
    "from sklearn.model_selection import train_test_split"
   ]
  },
  {
   "cell_type": "code",
   "execution_count": 3,
   "metadata": {},
   "outputs": [],
   "source": [
    "# my specific imports\n",
    "# this brings in my login credentials to the Codeup database\n",
    "from env import host, user, password\n",
    "# this gives me access to my acquire functions\n",
    "import acquire"
   ]
  },
  {
   "cell_type": "code",
   "execution_count": 4,
   "metadata": {},
   "outputs": [],
   "source": [
    "# testing my get_telco_data function which works on top of my new_telco_data function\n",
    "df = acquire.get_telco_data()"
   ]
  },
  {
   "cell_type": "code",
   "execution_count": 5,
   "metadata": {},
   "outputs": [
    {
     "name": "stdout",
     "output_type": "stream",
     "text": [
      "<class 'pandas.core.frame.DataFrame'>\n",
      "Int64Index: 7043 entries, 0 to 7042\n",
      "Data columns (total 24 columns):\n",
      " #   Column                    Non-Null Count  Dtype  \n",
      "---  ------                    --------------  -----  \n",
      " 0   payment_type_id           7043 non-null   int64  \n",
      " 1   internet_service_type_id  7043 non-null   int64  \n",
      " 2   contract_type_id          7043 non-null   int64  \n",
      " 3   customer_id               7043 non-null   object \n",
      " 4   gender                    7043 non-null   object \n",
      " 5   senior_citizen            7043 non-null   int64  \n",
      " 6   partner                   7043 non-null   object \n",
      " 7   dependents                7043 non-null   object \n",
      " 8   tenure                    7043 non-null   int64  \n",
      " 9   phone_service             7043 non-null   object \n",
      " 10  multiple_lines            7043 non-null   object \n",
      " 11  online_security           7043 non-null   object \n",
      " 12  online_backup             7043 non-null   object \n",
      " 13  device_protection         7043 non-null   object \n",
      " 14  tech_support              7043 non-null   object \n",
      " 15  streaming_tv              7043 non-null   object \n",
      " 16  streaming_movies          7043 non-null   object \n",
      " 17  paperless_billing         7043 non-null   object \n",
      " 18  monthly_charges           7043 non-null   float64\n",
      " 19  total_charges             7043 non-null   object \n",
      " 20  churn                     7043 non-null   object \n",
      " 21  contract_type             7043 non-null   object \n",
      " 22  internet_service_type     7043 non-null   object \n",
      " 23  payment_type              7043 non-null   object \n",
      "dtypes: float64(1), int64(5), object(18)\n",
      "memory usage: 1.3+ MB\n"
     ]
    }
   ],
   "source": [
    "# did we get everything?\n",
    "df.info()"
   ]
  },
  {
   "cell_type": "code",
   "execution_count": 6,
   "metadata": {},
   "outputs": [],
   "source": [
    "def prep_1_telco(df):\n",
    "    '''\n",
    "    This function will take in my freshly acquired telco_df and generate new columns with numerical values\n",
    "    of all object columns, as well as any column that has multiple variables (like 0, 1, or multiple.)\n",
    "    This function intentionally keeps all old columns so that I can compare to ensure data integrity.\n",
    "    It will also reset the index to 'customer_id' and drop the 11 values that have a missing 'total_charge'\n",
    "    since they are brand new customers who are yet to receive a bill.\n",
    "\n",
    "    '''\n",
    "    # create reusable dictionary for replacing 'No', 'Yes', 'No internet service', 'No phone service'\n",
    "    rep_dict = {'No': 0, 'Yes': 1, 'No internet service': 0, 'No phone service': 0}\n",
    "    # reset the customer_id to be the index\n",
    "    df = df.set_index('customer_id')\n",
    "    # This replaces empty cells with nan (null values)\n",
    "    df = df.replace(' ', np.nan)\n",
    "    # drop the nulls...\n",
    "    df = df.dropna(axis=0)\n",
    "    # convert payment types to 1:auto-pay, 0:not auto-pay\n",
    "    df['auto_pay'] = df['payment_type_id'].replace({1:0, 2:0, 3:1, 4:1})\n",
    "    # create DSL column where 1:has DSL, 0:No DSL\n",
    "    df['dsl'] = df['internet_service_type_id'].replace({1:1, 2:0, 3:0})\n",
    "    # create Fiber column where 1:has Fiber service, 0:No Fiber\n",
    "    df['fiber'] = df['internet_service_type_id'].replace({1:0, 2:1, 3:0})\n",
    "    # create Has Internet column where 1:Has Internet 0:No internet service\n",
    "    df['has_internet'] = df['internet_service_type_id'].replace({1:1, 2:1, 3:0})\n",
    "    # separte contract_type_id into three columns...\n",
    "    # create m2m column where 1:Month-to-Month service, 2:contract\n",
    "    df['m2m'] = df['contract_type_id'].replace({1:1, 2:0, 3:0})\n",
    "    # create one_year column where 1:One year contract, 0:no contract, or m2m\n",
    "    df['one_year'] = df['contract_type_id'].replace({1:0, 2:1, 3:0})\n",
    "    # create teo_year column where 1:two year contract, 0:less than 2 year contract\n",
    "    df['two_year'] = df['contract_type_id'].replace({1:0, 2:0, 3:1})\n",
    "    # create has contract column where 1:has contract, 0:no contract\n",
    "    df['has_contract'] = df['contract_type_id'].replace({1:0, 2:1, 3:1})\n",
    "    # create column to convert gender to int 1:male, 0:female\n",
    "    df['is_male'] = df['gender'].replace({'Male':1, 'Female':0})\n",
    "    # create has_partner column where 1:has partner, 0:no partner\n",
    "    df['has_partner'] = df['partner'].replace(rep_dict)\n",
    "    # create has_dep column where 1:has dependents, 0:no dependents\n",
    "    df['has_dep'] = df['dependents'].replace(rep_dict)\n",
    "    # better identify tenure in months by renaming column...\n",
    "    df['tenure_months'] = df['tenure']\n",
    "    # create has_phone column where 1:has phone, 0:no phone\n",
    "    df['has_phone'] = df['phone_service'].replace(rep_dict)\n",
    "    # create multi_phone column where 1:multiple phone lines, 0:One or fewer phone lines\n",
    "    df['multi_phone'] = df['multiple_lines'].replace(rep_dict)\n",
    "    # create security column where 1:has online security, 2:no security\n",
    "    df['has_security'] = df['online_security'].replace(rep_dict)\n",
    "    # create has_backup column where 1:has online backup, 0:no backup\n",
    "    df['has_backup'] = df['online_backup'].replace(rep_dict)\n",
    "    # create has_protection column where 1:has device protection, 0:no device protection\n",
    "    df['has_protection'] = df['device_protection'].replace(rep_dict)\n",
    "    # create has_support column where 1:has tech support, 0:no tech support\n",
    "    df['has_support'] = df['tech_support'].replace(rep_dict)\n",
    "    # create stream_tv column where 1:streams tv, 0:no streaming tv\n",
    "    df['stream_tv'] = df['streaming_tv'].replace(rep_dict)\n",
    "    # create stream_movies column where 1:streams movies, 0:no streaming movies\n",
    "    df['stream_movies'] = df['streaming_movies'].replace(rep_dict)\n",
    "    # create has_paperless column where 1:has paperless billing, 0:no paperless billing\n",
    "    df['has_paperless'] = df['paperless_billing'].replace(rep_dict)\n",
    "    # convert total_charges to float\n",
    "    df['total_charges'] = df['total_charges'].astype(float)\n",
    "    # create has_churn column where 1:has churn, 0:no churn\n",
    "    df['has_churn'] = df['churn'].replace(rep_dict)\n",
    "\n",
    "    return df"
   ]
  },
  {
   "cell_type": "code",
   "execution_count": 7,
   "metadata": {},
   "outputs": [
    {
     "name": "stdout",
     "output_type": "stream",
     "text": [
      "<class 'pandas.core.frame.DataFrame'>\n",
      "Index: 7032 entries, 0016-QLJIS to 9986-BONCE\n",
      "Data columns (total 45 columns):\n",
      " #   Column                    Non-Null Count  Dtype  \n",
      "---  ------                    --------------  -----  \n",
      " 0   payment_type_id           7032 non-null   int64  \n",
      " 1   internet_service_type_id  7032 non-null   int64  \n",
      " 2   contract_type_id          7032 non-null   int64  \n",
      " 3   gender                    7032 non-null   object \n",
      " 4   senior_citizen            7032 non-null   int64  \n",
      " 5   partner                   7032 non-null   object \n",
      " 6   dependents                7032 non-null   object \n",
      " 7   tenure                    7032 non-null   int64  \n",
      " 8   phone_service             7032 non-null   object \n",
      " 9   multiple_lines            7032 non-null   object \n",
      " 10  online_security           7032 non-null   object \n",
      " 11  online_backup             7032 non-null   object \n",
      " 12  device_protection         7032 non-null   object \n",
      " 13  tech_support              7032 non-null   object \n",
      " 14  streaming_tv              7032 non-null   object \n",
      " 15  streaming_movies          7032 non-null   object \n",
      " 16  paperless_billing         7032 non-null   object \n",
      " 17  monthly_charges           7032 non-null   float64\n",
      " 18  total_charges             7032 non-null   float64\n",
      " 19  churn                     7032 non-null   object \n",
      " 20  contract_type             7032 non-null   object \n",
      " 21  internet_service_type     7032 non-null   object \n",
      " 22  payment_type              7032 non-null   object \n",
      " 23  auto_pay                  7032 non-null   int64  \n",
      " 24  dsl                       7032 non-null   int64  \n",
      " 25  fiber                     7032 non-null   int64  \n",
      " 26  has_internet              7032 non-null   int64  \n",
      " 27  m2m                       7032 non-null   int64  \n",
      " 28  one_year                  7032 non-null   int64  \n",
      " 29  two_year                  7032 non-null   int64  \n",
      " 30  has_contract              7032 non-null   int64  \n",
      " 31  is_male                   7032 non-null   int64  \n",
      " 32  has_partner               7032 non-null   int64  \n",
      " 33  has_dep                   7032 non-null   int64  \n",
      " 34  tenure_months             7032 non-null   int64  \n",
      " 35  has_phone                 7032 non-null   int64  \n",
      " 36  multi_phone               7032 non-null   int64  \n",
      " 37  has_security              7032 non-null   int64  \n",
      " 38  has_backup                7032 non-null   int64  \n",
      " 39  has_protection            7032 non-null   int64  \n",
      " 40  has_support               7032 non-null   int64  \n",
      " 41  stream_tv                 7032 non-null   int64  \n",
      " 42  stream_movies             7032 non-null   int64  \n",
      " 43  has_paperless             7032 non-null   int64  \n",
      " 44  has_churn                 7032 non-null   int64  \n",
      "dtypes: float64(2), int64(27), object(16)\n",
      "memory usage: 2.5+ MB\n"
     ]
    }
   ],
   "source": [
    "# did I lose any existing info?\n",
    "# did I create all the appropriate columns?\n",
    "df = prep_1_telco(df)\n",
    "df.info()"
   ]
  },
  {
   "cell_type": "code",
   "execution_count": 8,
   "metadata": {},
   "outputs": [],
   "source": [
    "def prep_2_telco(df):\n",
    "    '''\n",
    "    This function will take in my wide telco DataFrame, and drop all object\n",
    "    columns, as well as all integer columns that had more than 2 responses,\n",
    "    and were converted into multiple columns in prep_1_telco.\n",
    "    A list of those colums will be \n",
    "    '''\n",
    "\n",
    "    # all object columns in a variable to drop\n",
    "    obj_cols = list(df.select_dtypes('object').columns)\n",
    "    # other columns to drop...\n",
    "    other_drops = ['payment_type_id', 'internet_service_type_id', 'contract_type_id', 'tenure']\n",
    "    # combine all drops into 1 list\n",
    "    all_drops = obj_cols + other_drops\n",
    "    # create new dataframe that has been cleaned up\n",
    "    df_1 = df.drop(columns=all_drops)\n",
    "\n",
    "    return df_1"
   ]
  },
  {
   "cell_type": "code",
   "execution_count": 9,
   "metadata": {},
   "outputs": [
    {
     "name": "stdout",
     "output_type": "stream",
     "text": [
      "<class 'pandas.core.frame.DataFrame'>\n",
      "Index: 7032 entries, 0016-QLJIS to 9986-BONCE\n",
      "Data columns (total 25 columns):\n",
      " #   Column           Non-Null Count  Dtype  \n",
      "---  ------           --------------  -----  \n",
      " 0   senior_citizen   7032 non-null   int64  \n",
      " 1   monthly_charges  7032 non-null   float64\n",
      " 2   total_charges    7032 non-null   float64\n",
      " 3   auto_pay         7032 non-null   int64  \n",
      " 4   dsl              7032 non-null   int64  \n",
      " 5   fiber            7032 non-null   int64  \n",
      " 6   has_internet     7032 non-null   int64  \n",
      " 7   m2m              7032 non-null   int64  \n",
      " 8   one_year         7032 non-null   int64  \n",
      " 9   two_year         7032 non-null   int64  \n",
      " 10  has_contract     7032 non-null   int64  \n",
      " 11  is_male          7032 non-null   int64  \n",
      " 12  has_partner      7032 non-null   int64  \n",
      " 13  has_dep          7032 non-null   int64  \n",
      " 14  tenure_months    7032 non-null   int64  \n",
      " 15  has_phone        7032 non-null   int64  \n",
      " 16  multi_phone      7032 non-null   int64  \n",
      " 17  has_security     7032 non-null   int64  \n",
      " 18  has_backup       7032 non-null   int64  \n",
      " 19  has_protection   7032 non-null   int64  \n",
      " 20  has_support      7032 non-null   int64  \n",
      " 21  stream_tv        7032 non-null   int64  \n",
      " 22  stream_movies    7032 non-null   int64  \n",
      " 23  has_paperless    7032 non-null   int64  \n",
      " 24  has_churn        7032 non-null   int64  \n",
      "dtypes: float64(2), int64(23)\n",
      "memory usage: 1.4+ MB\n"
     ]
    }
   ],
   "source": [
    "# let's see how removing the object / duplicate columns looks\n",
    "df = prep_2_telco(df)\n",
    "df.info()"
   ]
  },
  {
   "cell_type": "code",
   "execution_count": 16,
   "metadata": {},
   "outputs": [
    {
     "data": {
      "text/plain": [
       "senior_citizen        2\n",
       "monthly_charges    1584\n",
       "total_charges      6530\n",
       "auto_pay              2\n",
       "dsl                   2\n",
       "fiber                 2\n",
       "has_internet          2\n",
       "m2m                   2\n",
       "one_year              2\n",
       "two_year              2\n",
       "has_contract          2\n",
       "is_male               2\n",
       "has_partner           2\n",
       "has_dep               2\n",
       "tenure_months        72\n",
       "has_phone             2\n",
       "multi_phone           2\n",
       "has_security          2\n",
       "has_backup            2\n",
       "has_protection        2\n",
       "has_support           2\n",
       "stream_tv             2\n",
       "stream_movies         2\n",
       "has_paperless         2\n",
       "has_churn             2\n",
       "dtype: int64"
      ]
     },
     "execution_count": 16,
     "metadata": {},
     "output_type": "execute_result"
    }
   ],
   "source": [
    "# looking at categorical vs continuous variables\n",
    "df.nunique()"
   ]
  },
  {
   "cell_type": "code",
   "execution_count": 11,
   "metadata": {},
   "outputs": [],
   "source": [
    "# ok, I have my tidy data, now let's split so we can start exploration and model building\n",
    "\n",
    "def split_data(df):\n",
    "    '''\n",
    "    take in a DataFrame and return train, validate, and test DataFrames; stratify on has_churn.\n",
    "    return train, validate, test DataFrames.\n",
    "    '''\n",
    "    train_validate, test = train_test_split(df, test_size=.2, random_state=1221, stratify=df.has_churn)\n",
    "    train, validate = train_test_split(train_validate, \n",
    "                                       test_size=.3, \n",
    "                                       random_state=1221, \n",
    "                                       stratify=train_validate.has_churn)\n",
    "    return train, validate, test"
   ]
  },
  {
   "cell_type": "code",
   "execution_count": 12,
   "metadata": {},
   "outputs": [],
   "source": [
    "train, validate, test = split_data(df)"
   ]
  },
  {
   "cell_type": "code",
   "execution_count": 13,
   "metadata": {},
   "outputs": [
    {
     "data": {
      "text/plain": [
       "((3937, 25), (1688, 25), (1407, 25))"
      ]
     },
     "execution_count": 13,
     "metadata": {},
     "output_type": "execute_result"
    }
   ],
   "source": [
    "# what do each of my new splits look like?\n",
    "train.shape, validate.shape, test.shape"
   ]
  },
  {
   "cell_type": "code",
   "execution_count": 1,
   "metadata": {},
   "outputs": [],
   "source": [
    "### Key Findings and Takeaways\n"
   ]
  },
  {
   "cell_type": "code",
   "execution_count": null,
   "metadata": {},
   "outputs": [],
   "source": [
    "yn_rep = {'Yes': 1, 'No': 0}"
   ]
  },
  {
   "cell_type": "code",
   "execution_count": null,
   "metadata": {},
   "outputs": [],
   "source": []
  }
 ],
 "metadata": {
  "kernelspec": {
   "display_name": "Python 3.8.5 64-bit ('base': conda)",
   "language": "python",
   "name": "python385jvsc74a57bd0b64057e63add2b45b1ffc7eab9b09c8889b419c878e2fdf0d08f837f0fc857a7"
  },
  "language_info": {
   "codemirror_mode": {
    "name": "ipython",
    "version": 3
   },
   "file_extension": ".py",
   "mimetype": "text/x-python",
   "name": "python",
   "nbconvert_exporter": "python",
   "pygments_lexer": "ipython3",
   "version": "3.8.5"
  }
 },
 "nbformat": 4,
 "nbformat_minor": 4
}
